{
 "cells": [
  {
   "cell_type": "raw",
   "id": "f1ec2abc-b31e-4867-8c25-cd642c738c62",
   "metadata": {},
   "source": [
    "Twitter Data Analysis\n",
    "Amy Kim\n",
    "\n",
    "Notes:\n",
    "-\"next_token\": field indicating that there are additional pages of results\n"
   ]
  },
  {
   "cell_type": "code",
   "execution_count": 20,
   "id": "f394a5f3-03d6-49b3-bd19-85eb1d0ebcd0",
   "metadata": {},
   "outputs": [],
   "source": [
    "# source: https://softhints.com/merge-multiple-json-files-pandas-dataframe/\n",
    "import numpy as np\n",
    "import pandas as pd\n",
    "import glob, os, json\n",
    "\n",
    "json_dir = './data/json'\n",
    "dir_list = glob.glob(os.path.join(json_dir, 'search_*'))"
   ]
  },
  {
   "cell_type": "code",
   "execution_count": 21,
   "id": "f835d094-e1eb-49a6-b2a2-5e37691239bd",
   "metadata": {},
   "outputs": [],
   "source": [
    "data_list = [] # list of dicts\n",
    "for dir in dir_list:\n",
    "    file_list = glob.glob(os.path.join(dir, '*.json'))\n",
    "    result_count = 0\n",
    "    name = \"\"\n",
    "    for file in file_list:\n",
    "        f = open(file) # file is a path to a json file\n",
    "        data = json.load(f)\n",
    "        name = file.split('/')[-2].split('search_')[-1]\n",
    "        result_count = result_count + data['meta']['result_count']\n",
    "        f.close()\n",
    "    data_list.append({'name': name, 'result_count': result_count})"
   ]
  },
  {
   "cell_type": "code",
   "execution_count": 22,
   "id": "7aa9414f-b8af-4878-9cf8-ca2b06a6d9d3",
   "metadata": {},
   "outputs": [
    {
     "name": "stdout",
     "output_type": "stream",
     "text": [
      "  name  result_count\n",
      "0                  0\n",
      "1                  0\n",
      "2                  0\n",
      "3                  0\n",
      "4                  0\n",
      "data: (2198, 2)\n"
     ]
    }
   ],
   "source": [
    "count_data = pd.DataFrame(data_list)\n",
    "print(count_data.head())\n",
    "print(f'data: {count_data.shape}')"
   ]
  },
  {
   "cell_type": "code",
   "execution_count": 23,
   "id": "b07604c6-1df9-46dd-8ae0-b788da20ba7a",
   "metadata": {},
   "outputs": [
    {
     "data": {
      "image/png": "[encoded data removed]",
      "text/plain": [
       "<Figure size 432x288 with 1 Axes>"
      ]
     },
     "metadata": {
      "needs_background": "light"
     },
     "output_type": "display_data"
    }
   ],
   "source": [
    "import numpy as np\n",
    "import matplotlib.pyplot as plt\n",
    "\n",
    "plt.title('Number of Tweets')\n",
    "plt.yscale('log')\n",
    "plt.hist(count_data['result_count'], bins=70)\n",
    "plt.xticks(rotation=45)\n",
    "plt.ylabel('Count')\n",
    "plt.xlabel('Individual')\n",
    "plt.show()"
   ]
  },
  {
   "cell_type": "code",
   "execution_count": null,
   "id": "065ab448-b019-47ff-8387-425d631ee402",
   "metadata": {},
   "outputs": [],
   "source": []
  }
 ],
 "metadata": {
  "kernelspec": {
   "display_name": "Python 3 (ipykernel)",
   "language": "python",
   "name": "python3"
  },
  "language_info": {
   "codemirror_mode": {
    "name": "ipython",
    "version": 3
   },
   "file_extension": ".py",
   "mimetype": "text/x-python",
   "name": "python",
   "nbconvert_exporter": "python",
   "pygments_lexer": "ipython3",
   "version": "3.9.7"
  }
 },
 "nbformat": 4,
 "nbformat_minor": 5
}
