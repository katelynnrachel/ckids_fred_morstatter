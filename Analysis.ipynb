{
 "cells": [
  {
   "cell_type": "raw",
   "id": "f1ec2abc-b31e-4867-8c25-cd642c738c62",
   "metadata": {},
   "source": [
    "Twitter Data Analysis\n",
    "Amy Kim\n",
    "\n",
    "Notes:\n",
    "-\"next_token\": field indicating that there are additional pages of results\n",
    "\n",
    "False Positives Notes:\n",
    "https://docs.google.com/document/d/1BehM1QP6t1GnvGrIsZwk2aThciWTu1pST1QDctO2sE8/edit"
   ]
  },
  {
   "cell_type": "code",
   "execution_count": 16,
   "id": "4df5ebe3",
   "metadata": {},
   "outputs": [
    {
     "name": "stdout",
     "output_type": "stream",
     "text": [
      "{'data': [{'edit_history_tweet_ids': ['1101937630143365120'], 'author_id': '20715638', 'text': \"RT @FOXLA: UPDATE: The Coroner's Office has identified the man shot to death Friday outside a bank in Paramount as 38-year-old Abd Alla Tha…\", 'created_at': '2019-03-02T20:09:38.000Z', 'id': '1101937630143365120'}, {'edit_history_tweet_ids': ['1101924680846303233'], 'author_id': '32547678', 'text': \"UPDATE: The Coroner's Office has identified the man shot to death Friday outside a bank in Paramount as 38-year-old Abd Alla Thabet. https://t.co/cV4OLkub2Q\", 'created_at': '2019-03-02T19:18:11.000Z', 'id': '1101924680846303233'}, {'edit_history_tweet_ids': ['1101924667936272384'], 'author_id': '35702257', 'text': \"UPDATE: The Coroner's Office has identified the man shot to death Friday outside a bank in Paramount as 38-year-old Abd Alla Thabet. https://t.co/ua9PcIrwb9\", 'created_at': '2019-03-02T19:18:08.000Z', 'id': '1101924667936272384'}, {'edit_history_tweet_ids': ['1101924655483387905'], 'author_id': '9648652', 'text': \"UPDATE: The Coroner's Office has identified the man shot to death Friday outside a bank in Paramount as 38-year-old Abd Alla Thabet. https://t.co/rNAs6gJ8Nn\", 'created_at': '2019-03-02T19:18:05.000Z', 'id': '1101924655483387905'}], 'meta': {'newest_id': '1101937630143365120', 'oldest_id': '1101924655483387905', 'result_count': 4}}\n",
      "0    RT @FOXLA: UPDATE: The Coroner's Office has id...\n",
      "1    UPDATE: The Coroner's Office has identified th...\n",
      "2    UPDATE: The Coroner's Office has identified th...\n",
      "3    UPDATE: The Coroner's Office has identified th...\n",
      "Name: text, dtype: object\n"
     ]
    },
    {
     "name": "stderr",
     "output_type": "stream",
     "text": [
      "/Users/amy.kim/opt/anaconda3/envs/twitter-env/lib/python3.9/site-packages/scipy/sparse/linalg/_eigen/arpack/arpack.py:1600: RuntimeWarning: k >= N for N * N square matrix. Attempting to use scipy.linalg.eigh instead.\n",
      "  warnings.warn(\"k >= N for N * N square matrix. \"\n",
      "/Users/amy.kim/opt/anaconda3/envs/twitter-env/lib/python3.9/site-packages/scipy/sparse/linalg/_eigen/arpack/arpack.py:1600: RuntimeWarning: k >= N for N * N square matrix. Attempting to use scipy.linalg.eigh instead.\n",
      "  warnings.warn(\"k >= N for N * N square matrix. \"\n"
     ]
    },
    {
     "ename": "TypeError",
     "evalue": "Cannot use scipy.linalg.eigh for sparse A with k >= N. Use scipy.linalg.eigh(A.toarray()) or reduce k.",
     "output_type": "error",
     "traceback": [
      "\u001b[0;31m---------------------------------------------------------------------------\u001b[0m",
      "\u001b[0;31mTypeError\u001b[0m                                 Traceback (most recent call last)",
      "File \u001b[0;32m~/opt/anaconda3/envs/twitter-env/lib/python3.9/site-packages/bertopic/_bertopic.py:2868\u001b[0m, in \u001b[0;36mBERTopic._reduce_dimensionality\u001b[0;34m(self, embeddings, y, partial_fit)\u001b[0m\n\u001b[1;32m   2867\u001b[0m \u001b[38;5;28;01mtry\u001b[39;00m:\n\u001b[0;32m-> 2868\u001b[0m     \u001b[38;5;28;43mself\u001b[39;49m\u001b[38;5;241;43m.\u001b[39;49m\u001b[43mumap_model\u001b[49m\u001b[38;5;241;43m.\u001b[39;49m\u001b[43mfit\u001b[49m\u001b[43m(\u001b[49m\u001b[43membeddings\u001b[49m\u001b[43m,\u001b[49m\u001b[43m \u001b[49m\u001b[43my\u001b[49m\u001b[38;5;241;43m=\u001b[39;49m\u001b[43my\u001b[49m\u001b[43m)\u001b[49m\n\u001b[1;32m   2869\u001b[0m \u001b[38;5;28;01mexcept\u001b[39;00m \u001b[38;5;167;01mTypeError\u001b[39;00m:\n",
      "File \u001b[0;32m~/opt/anaconda3/envs/twitter-env/lib/python3.9/site-packages/umap/umap_.py:2684\u001b[0m, in \u001b[0;36mUMAP.fit\u001b[0;34m(self, X, y)\u001b[0m\n\u001b[1;32m   2683\u001b[0m \u001b[38;5;28;01mif\u001b[39;00m \u001b[38;5;28mself\u001b[39m\u001b[38;5;241m.\u001b[39mtransform_mode \u001b[38;5;241m==\u001b[39m \u001b[38;5;124m\"\u001b[39m\u001b[38;5;124membedding\u001b[39m\u001b[38;5;124m\"\u001b[39m:\n\u001b[0;32m-> 2684\u001b[0m     \u001b[38;5;28mself\u001b[39m\u001b[38;5;241m.\u001b[39membedding_, aux_data \u001b[38;5;241m=\u001b[39m \u001b[38;5;28;43mself\u001b[39;49m\u001b[38;5;241;43m.\u001b[39;49m\u001b[43m_fit_embed_data\u001b[49m\u001b[43m(\u001b[49m\n\u001b[1;32m   2685\u001b[0m \u001b[43m        \u001b[49m\u001b[38;5;28;43mself\u001b[39;49m\u001b[38;5;241;43m.\u001b[39;49m\u001b[43m_raw_data\u001b[49m\u001b[43m[\u001b[49m\u001b[43mindex\u001b[49m\u001b[43m]\u001b[49m\u001b[43m,\u001b[49m\n\u001b[1;32m   2686\u001b[0m \u001b[43m        \u001b[49m\u001b[38;5;28;43mself\u001b[39;49m\u001b[38;5;241;43m.\u001b[39;49m\u001b[43mn_epochs\u001b[49m\u001b[43m,\u001b[49m\n\u001b[1;32m   2687\u001b[0m \u001b[43m        \u001b[49m\u001b[43minit\u001b[49m\u001b[43m,\u001b[49m\n\u001b[1;32m   2688\u001b[0m \u001b[43m        \u001b[49m\u001b[43mrandom_state\u001b[49m\u001b[43m,\u001b[49m\u001b[43m  \u001b[49m\u001b[38;5;66;43;03m# JH why raw data?\u001b[39;49;00m\n\u001b[1;32m   2689\u001b[0m \u001b[43m    \u001b[49m\u001b[43m)\u001b[49m\n\u001b[1;32m   2690\u001b[0m     \u001b[38;5;66;03m# Assign any points that are fully disconnected from our manifold(s) to have embedding\u001b[39;00m\n\u001b[1;32m   2691\u001b[0m     \u001b[38;5;66;03m# coordinates of np.nan.  These will be filtered by our plotting functions automatically.\u001b[39;00m\n\u001b[1;32m   2692\u001b[0m     \u001b[38;5;66;03m# They also prevent users from being deceived a distance query to one of these points.\u001b[39;00m\n\u001b[1;32m   2693\u001b[0m     \u001b[38;5;66;03m# Might be worth moving this into simplicial_set_embedding or _fit_embed_data\u001b[39;00m\n",
      "File \u001b[0;32m~/opt/anaconda3/envs/twitter-env/lib/python3.9/site-packages/umap/umap_.py:2717\u001b[0m, in \u001b[0;36mUMAP._fit_embed_data\u001b[0;34m(self, X, n_epochs, init, random_state)\u001b[0m\n\u001b[1;32m   2714\u001b[0m \u001b[38;5;250m\u001b[39m\u001b[38;5;124;03m\"\"\"A method wrapper for simplicial_set_embedding that can be\u001b[39;00m\n\u001b[1;32m   2715\u001b[0m \u001b[38;5;124;03mreplaced by subclasses.\u001b[39;00m\n\u001b[1;32m   2716\u001b[0m \u001b[38;5;124;03m\"\"\"\u001b[39;00m\n\u001b[0;32m-> 2717\u001b[0m \u001b[38;5;28;01mreturn\u001b[39;00m \u001b[43msimplicial_set_embedding\u001b[49m\u001b[43m(\u001b[49m\n\u001b[1;32m   2718\u001b[0m \u001b[43m    \u001b[49m\u001b[43mX\u001b[49m\u001b[43m,\u001b[49m\n\u001b[1;32m   2719\u001b[0m \u001b[43m    \u001b[49m\u001b[38;5;28;43mself\u001b[39;49m\u001b[38;5;241;43m.\u001b[39;49m\u001b[43mgraph_\u001b[49m\u001b[43m,\u001b[49m\n\u001b[1;32m   2720\u001b[0m \u001b[43m    \u001b[49m\u001b[38;5;28;43mself\u001b[39;49m\u001b[38;5;241;43m.\u001b[39;49m\u001b[43mn_components\u001b[49m\u001b[43m,\u001b[49m\n\u001b[1;32m   2721\u001b[0m \u001b[43m    \u001b[49m\u001b[38;5;28;43mself\u001b[39;49m\u001b[38;5;241;43m.\u001b[39;49m\u001b[43m_initial_alpha\u001b[49m\u001b[43m,\u001b[49m\n\u001b[1;32m   2722\u001b[0m \u001b[43m    \u001b[49m\u001b[38;5;28;43mself\u001b[39;49m\u001b[38;5;241;43m.\u001b[39;49m\u001b[43m_a\u001b[49m\u001b[43m,\u001b[49m\n\u001b[1;32m   2723\u001b[0m \u001b[43m    \u001b[49m\u001b[38;5;28;43mself\u001b[39;49m\u001b[38;5;241;43m.\u001b[39;49m\u001b[43m_b\u001b[49m\u001b[43m,\u001b[49m\n\u001b[1;32m   2724\u001b[0m \u001b[43m    \u001b[49m\u001b[38;5;28;43mself\u001b[39;49m\u001b[38;5;241;43m.\u001b[39;49m\u001b[43mrepulsion_strength\u001b[49m\u001b[43m,\u001b[49m\n\u001b[1;32m   2725\u001b[0m \u001b[43m    \u001b[49m\u001b[38;5;28;43mself\u001b[39;49m\u001b[38;5;241;43m.\u001b[39;49m\u001b[43mnegative_sample_rate\u001b[49m\u001b[43m,\u001b[49m\n\u001b[1;32m   2726\u001b[0m \u001b[43m    \u001b[49m\u001b[43mn_epochs\u001b[49m\u001b[43m,\u001b[49m\n\u001b[1;32m   2727\u001b[0m \u001b[43m    \u001b[49m\u001b[43minit\u001b[49m\u001b[43m,\u001b[49m\n\u001b[1;32m   2728\u001b[0m \u001b[43m    \u001b[49m\u001b[43mrandom_state\u001b[49m\u001b[43m,\u001b[49m\n\u001b[1;32m   2729\u001b[0m \u001b[43m    \u001b[49m\u001b[38;5;28;43mself\u001b[39;49m\u001b[38;5;241;43m.\u001b[39;49m\u001b[43m_input_distance_func\u001b[49m\u001b[43m,\u001b[49m\n\u001b[1;32m   2730\u001b[0m \u001b[43m    \u001b[49m\u001b[38;5;28;43mself\u001b[39;49m\u001b[38;5;241;43m.\u001b[39;49m\u001b[43m_metric_kwds\u001b[49m\u001b[43m,\u001b[49m\n\u001b[1;32m   2731\u001b[0m \u001b[43m    \u001b[49m\u001b[38;5;28;43mself\u001b[39;49m\u001b[38;5;241;43m.\u001b[39;49m\u001b[43mdensmap\u001b[49m\u001b[43m,\u001b[49m\n\u001b[1;32m   2732\u001b[0m \u001b[43m    \u001b[49m\u001b[38;5;28;43mself\u001b[39;49m\u001b[38;5;241;43m.\u001b[39;49m\u001b[43m_densmap_kwds\u001b[49m\u001b[43m,\u001b[49m\n\u001b[1;32m   2733\u001b[0m \u001b[43m    \u001b[49m\u001b[38;5;28;43mself\u001b[39;49m\u001b[38;5;241;43m.\u001b[39;49m\u001b[43moutput_dens\u001b[49m\u001b[43m,\u001b[49m\n\u001b[1;32m   2734\u001b[0m \u001b[43m    \u001b[49m\u001b[38;5;28;43mself\u001b[39;49m\u001b[38;5;241;43m.\u001b[39;49m\u001b[43m_output_distance_func\u001b[49m\u001b[43m,\u001b[49m\n\u001b[1;32m   2735\u001b[0m \u001b[43m    \u001b[49m\u001b[38;5;28;43mself\u001b[39;49m\u001b[38;5;241;43m.\u001b[39;49m\u001b[43m_output_metric_kwds\u001b[49m\u001b[43m,\u001b[49m\n\u001b[1;32m   2736\u001b[0m \u001b[43m    \u001b[49m\u001b[38;5;28;43mself\u001b[39;49m\u001b[38;5;241;43m.\u001b[39;49m\u001b[43moutput_metric\u001b[49m\u001b[43m \u001b[49m\u001b[38;5;129;43;01min\u001b[39;49;00m\u001b[43m \u001b[49m\u001b[43m(\u001b[49m\u001b[38;5;124;43m\"\u001b[39;49m\u001b[38;5;124;43meuclidean\u001b[39;49m\u001b[38;5;124;43m\"\u001b[39;49m\u001b[43m,\u001b[49m\u001b[43m \u001b[49m\u001b[38;5;124;43m\"\u001b[39;49m\u001b[38;5;124;43ml2\u001b[39;49m\u001b[38;5;124;43m\"\u001b[39;49m\u001b[43m)\u001b[49m\u001b[43m,\u001b[49m\n\u001b[1;32m   2737\u001b[0m \u001b[43m    \u001b[49m\u001b[38;5;28;43mself\u001b[39;49m\u001b[38;5;241;43m.\u001b[39;49m\u001b[43mrandom_state\u001b[49m\u001b[43m \u001b[49m\u001b[38;5;129;43;01mis\u001b[39;49;00m\u001b[43m \u001b[49m\u001b[38;5;28;43;01mNone\u001b[39;49;00m\u001b[43m,\u001b[49m\n\u001b[1;32m   2738\u001b[0m \u001b[43m    \u001b[49m\u001b[38;5;28;43mself\u001b[39;49m\u001b[38;5;241;43m.\u001b[39;49m\u001b[43mverbose\u001b[49m\u001b[43m,\u001b[49m\n\u001b[1;32m   2739\u001b[0m \u001b[43m    \u001b[49m\u001b[43mtqdm_kwds\u001b[49m\u001b[38;5;241;43m=\u001b[39;49m\u001b[38;5;28;43mself\u001b[39;49m\u001b[38;5;241;43m.\u001b[39;49m\u001b[43mtqdm_kwds\u001b[49m\u001b[43m,\u001b[49m\n\u001b[1;32m   2740\u001b[0m \u001b[43m\u001b[49m\u001b[43m)\u001b[49m\n",
      "File \u001b[0;32m~/opt/anaconda3/envs/twitter-env/lib/python3.9/site-packages/umap/umap_.py:1078\u001b[0m, in \u001b[0;36msimplicial_set_embedding\u001b[0;34m(data, graph, n_components, initial_alpha, a, b, gamma, negative_sample_rate, n_epochs, init, random_state, metric, metric_kwds, densmap, densmap_kwds, output_dens, output_metric, output_metric_kwds, euclidean_output, parallel, verbose, tqdm_kwds)\u001b[0m\n\u001b[1;32m   1076\u001b[0m \u001b[38;5;28;01melif\u001b[39;00m \u001b[38;5;28misinstance\u001b[39m(init, \u001b[38;5;28mstr\u001b[39m) \u001b[38;5;129;01mand\u001b[39;00m init \u001b[38;5;241m==\u001b[39m \u001b[38;5;124m\"\u001b[39m\u001b[38;5;124mspectral\u001b[39m\u001b[38;5;124m\"\u001b[39m:\n\u001b[1;32m   1077\u001b[0m     \u001b[38;5;66;03m# We add a little noise to avoid local minima for optimization to come\u001b[39;00m\n\u001b[0;32m-> 1078\u001b[0m     initialisation \u001b[38;5;241m=\u001b[39m \u001b[43mspectral_layout\u001b[49m\u001b[43m(\u001b[49m\n\u001b[1;32m   1079\u001b[0m \u001b[43m        \u001b[49m\u001b[43mdata\u001b[49m\u001b[43m,\u001b[49m\n\u001b[1;32m   1080\u001b[0m \u001b[43m        \u001b[49m\u001b[43mgraph\u001b[49m\u001b[43m,\u001b[49m\n\u001b[1;32m   1081\u001b[0m \u001b[43m        \u001b[49m\u001b[43mn_components\u001b[49m\u001b[43m,\u001b[49m\n\u001b[1;32m   1082\u001b[0m \u001b[43m        \u001b[49m\u001b[43mrandom_state\u001b[49m\u001b[43m,\u001b[49m\n\u001b[1;32m   1083\u001b[0m \u001b[43m        \u001b[49m\u001b[43mmetric\u001b[49m\u001b[38;5;241;43m=\u001b[39;49m\u001b[43mmetric\u001b[49m\u001b[43m,\u001b[49m\n\u001b[1;32m   1084\u001b[0m \u001b[43m        \u001b[49m\u001b[43mmetric_kwds\u001b[49m\u001b[38;5;241;43m=\u001b[39;49m\u001b[43mmetric_kwds\u001b[49m\u001b[43m,\u001b[49m\n\u001b[1;32m   1085\u001b[0m \u001b[43m    \u001b[49m\u001b[43m)\u001b[49m\n\u001b[1;32m   1086\u001b[0m     expansion \u001b[38;5;241m=\u001b[39m \u001b[38;5;241m10.0\u001b[39m \u001b[38;5;241m/\u001b[39m np\u001b[38;5;241m.\u001b[39mabs(initialisation)\u001b[38;5;241m.\u001b[39mmax()\n",
      "File \u001b[0;32m~/opt/anaconda3/envs/twitter-env/lib/python3.9/site-packages/umap/spectral.py:332\u001b[0m, in \u001b[0;36mspectral_layout\u001b[0;34m(data, graph, dim, random_state, metric, metric_kwds)\u001b[0m\n\u001b[1;32m    331\u001b[0m \u001b[38;5;28;01mif\u001b[39;00m L\u001b[38;5;241m.\u001b[39mshape[\u001b[38;5;241m0\u001b[39m] \u001b[38;5;241m<\u001b[39m \u001b[38;5;241m2000000\u001b[39m:\n\u001b[0;32m--> 332\u001b[0m     eigenvalues, eigenvectors \u001b[38;5;241m=\u001b[39m \u001b[43mscipy\u001b[49m\u001b[38;5;241;43m.\u001b[39;49m\u001b[43msparse\u001b[49m\u001b[38;5;241;43m.\u001b[39;49m\u001b[43mlinalg\u001b[49m\u001b[38;5;241;43m.\u001b[39;49m\u001b[43meigsh\u001b[49m\u001b[43m(\u001b[49m\n\u001b[1;32m    333\u001b[0m \u001b[43m        \u001b[49m\u001b[43mL\u001b[49m\u001b[43m,\u001b[49m\n\u001b[1;32m    334\u001b[0m \u001b[43m        \u001b[49m\u001b[43mk\u001b[49m\u001b[43m,\u001b[49m\n\u001b[1;32m    335\u001b[0m \u001b[43m        \u001b[49m\u001b[43mwhich\u001b[49m\u001b[38;5;241;43m=\u001b[39;49m\u001b[38;5;124;43m\"\u001b[39;49m\u001b[38;5;124;43mSM\u001b[39;49m\u001b[38;5;124;43m\"\u001b[39;49m\u001b[43m,\u001b[49m\n\u001b[1;32m    336\u001b[0m \u001b[43m        \u001b[49m\u001b[43mncv\u001b[49m\u001b[38;5;241;43m=\u001b[39;49m\u001b[43mnum_lanczos_vectors\u001b[49m\u001b[43m,\u001b[49m\n\u001b[1;32m    337\u001b[0m \u001b[43m        \u001b[49m\u001b[43mtol\u001b[49m\u001b[38;5;241;43m=\u001b[39;49m\u001b[38;5;241;43m1e-4\u001b[39;49m\u001b[43m,\u001b[49m\n\u001b[1;32m    338\u001b[0m \u001b[43m        \u001b[49m\u001b[43mv0\u001b[49m\u001b[38;5;241;43m=\u001b[39;49m\u001b[43mnp\u001b[49m\u001b[38;5;241;43m.\u001b[39;49m\u001b[43mones\u001b[49m\u001b[43m(\u001b[49m\u001b[43mL\u001b[49m\u001b[38;5;241;43m.\u001b[39;49m\u001b[43mshape\u001b[49m\u001b[43m[\u001b[49m\u001b[38;5;241;43m0\u001b[39;49m\u001b[43m]\u001b[49m\u001b[43m)\u001b[49m\u001b[43m,\u001b[49m\n\u001b[1;32m    339\u001b[0m \u001b[43m        \u001b[49m\u001b[43mmaxiter\u001b[49m\u001b[38;5;241;43m=\u001b[39;49m\u001b[43mgraph\u001b[49m\u001b[38;5;241;43m.\u001b[39;49m\u001b[43mshape\u001b[49m\u001b[43m[\u001b[49m\u001b[38;5;241;43m0\u001b[39;49m\u001b[43m]\u001b[49m\u001b[43m \u001b[49m\u001b[38;5;241;43m*\u001b[39;49m\u001b[43m \u001b[49m\u001b[38;5;241;43m5\u001b[39;49m\u001b[43m,\u001b[49m\n\u001b[1;32m    340\u001b[0m \u001b[43m    \u001b[49m\u001b[43m)\u001b[49m\n\u001b[1;32m    341\u001b[0m \u001b[38;5;28;01melse\u001b[39;00m:\n",
      "File \u001b[0;32m~/opt/anaconda3/envs/twitter-env/lib/python3.9/site-packages/scipy/sparse/linalg/_eigen/arpack/arpack.py:1605\u001b[0m, in \u001b[0;36meigsh\u001b[0;34m(A, k, M, sigma, which, v0, ncv, maxiter, tol, return_eigenvectors, Minv, OPinv, mode)\u001b[0m\n\u001b[1;32m   1604\u001b[0m \u001b[38;5;28;01mif\u001b[39;00m issparse(A):\n\u001b[0;32m-> 1605\u001b[0m     \u001b[38;5;28;01mraise\u001b[39;00m \u001b[38;5;167;01mTypeError\u001b[39;00m(\u001b[38;5;124m\"\u001b[39m\u001b[38;5;124mCannot use scipy.linalg.eigh for sparse A with \u001b[39m\u001b[38;5;124m\"\u001b[39m\n\u001b[1;32m   1606\u001b[0m                     \u001b[38;5;124m\"\u001b[39m\u001b[38;5;124mk >= N. Use scipy.linalg.eigh(A.toarray()) or\u001b[39m\u001b[38;5;124m\"\u001b[39m\n\u001b[1;32m   1607\u001b[0m                     \u001b[38;5;124m\"\u001b[39m\u001b[38;5;124m reduce k.\u001b[39m\u001b[38;5;124m\"\u001b[39m)\n\u001b[1;32m   1608\u001b[0m \u001b[38;5;28;01mif\u001b[39;00m \u001b[38;5;28misinstance\u001b[39m(A, LinearOperator):\n",
      "\u001b[0;31mTypeError\u001b[0m: Cannot use scipy.linalg.eigh for sparse A with k >= N. Use scipy.linalg.eigh(A.toarray()) or reduce k.",
      "\nDuring handling of the above exception, another exception occurred:\n",
      "\u001b[0;31mTypeError\u001b[0m                                 Traceback (most recent call last)",
      "Cell \u001b[0;32mIn[16], line 20\u001b[0m\n\u001b[1;32m     17\u001b[0m model \u001b[38;5;241m=\u001b[39m BERTopic()\n\u001b[1;32m     19\u001b[0m \u001b[38;5;66;03m# Fit the model to the Twitter data\u001b[39;00m\n\u001b[0;32m---> 20\u001b[0m topics, probabilities \u001b[38;5;241m=\u001b[39m \u001b[43mmodel\u001b[49m\u001b[38;5;241;43m.\u001b[39;49m\u001b[43mfit_transform\u001b[49m\u001b[43m(\u001b[49m\u001b[43mdf\u001b[49m\u001b[43m[\u001b[49m\u001b[38;5;124;43m'\u001b[39;49m\u001b[38;5;124;43mtext\u001b[39;49m\u001b[38;5;124;43m'\u001b[39;49m\u001b[43m]\u001b[49m\u001b[43m)\u001b[49m\n\u001b[1;32m     22\u001b[0m \u001b[38;5;66;03m# Filter the DataFrame based on the topics of interest\u001b[39;00m\n\u001b[1;32m     23\u001b[0m topics_of_interest \u001b[38;5;241m=\u001b[39m [\u001b[38;5;124m'\u001b[39m\u001b[38;5;124mgun\u001b[39m\u001b[38;5;124m'\u001b[39m, \u001b[38;5;124m'\u001b[39m\u001b[38;5;124mdeath\u001b[39m\u001b[38;5;124m'\u001b[39m]\n",
      "File \u001b[0;32m~/opt/anaconda3/envs/twitter-env/lib/python3.9/site-packages/bertopic/_bertopic.py:356\u001b[0m, in \u001b[0;36mBERTopic.fit_transform\u001b[0;34m(self, documents, embeddings, y)\u001b[0m\n\u001b[1;32m    354\u001b[0m \u001b[38;5;28;01mif\u001b[39;00m \u001b[38;5;28mself\u001b[39m\u001b[38;5;241m.\u001b[39mseed_topic_list \u001b[38;5;129;01mis\u001b[39;00m \u001b[38;5;129;01mnot\u001b[39;00m \u001b[38;5;28;01mNone\u001b[39;00m \u001b[38;5;129;01mand\u001b[39;00m \u001b[38;5;28mself\u001b[39m\u001b[38;5;241m.\u001b[39membedding_model \u001b[38;5;129;01mis\u001b[39;00m \u001b[38;5;129;01mnot\u001b[39;00m \u001b[38;5;28;01mNone\u001b[39;00m:\n\u001b[1;32m    355\u001b[0m     y, embeddings \u001b[38;5;241m=\u001b[39m \u001b[38;5;28mself\u001b[39m\u001b[38;5;241m.\u001b[39m_guided_topic_modeling(embeddings)\n\u001b[0;32m--> 356\u001b[0m umap_embeddings \u001b[38;5;241m=\u001b[39m \u001b[38;5;28;43mself\u001b[39;49m\u001b[38;5;241;43m.\u001b[39;49m\u001b[43m_reduce_dimensionality\u001b[49m\u001b[43m(\u001b[49m\u001b[43membeddings\u001b[49m\u001b[43m,\u001b[49m\u001b[43m \u001b[49m\u001b[43my\u001b[49m\u001b[43m)\u001b[49m\n\u001b[1;32m    358\u001b[0m \u001b[38;5;66;03m# Cluster reduced embeddings\u001b[39;00m\n\u001b[1;32m    359\u001b[0m documents, probabilities \u001b[38;5;241m=\u001b[39m \u001b[38;5;28mself\u001b[39m\u001b[38;5;241m.\u001b[39m_cluster_embeddings(umap_embeddings, documents, y\u001b[38;5;241m=\u001b[39my)\n",
      "File \u001b[0;32m~/opt/anaconda3/envs/twitter-env/lib/python3.9/site-packages/bertopic/_bertopic.py:2872\u001b[0m, in \u001b[0;36mBERTopic._reduce_dimensionality\u001b[0;34m(self, embeddings, y, partial_fit)\u001b[0m\n\u001b[1;32m   2869\u001b[0m     \u001b[38;5;28;01mexcept\u001b[39;00m \u001b[38;5;167;01mTypeError\u001b[39;00m:\n\u001b[1;32m   2870\u001b[0m         logger\u001b[38;5;241m.\u001b[39minfo(\u001b[38;5;124m\"\u001b[39m\u001b[38;5;124mThe dimensionality reduction algorithm did not contain the `y` parameter and\u001b[39m\u001b[38;5;124m\"\u001b[39m\n\u001b[1;32m   2871\u001b[0m                     \u001b[38;5;124m\"\u001b[39m\u001b[38;5;124m therefore the `y` parameter was not used\u001b[39m\u001b[38;5;124m\"\u001b[39m)\n\u001b[0;32m-> 2872\u001b[0m         \u001b[38;5;28;43mself\u001b[39;49m\u001b[38;5;241;43m.\u001b[39;49m\u001b[43mumap_model\u001b[49m\u001b[38;5;241;43m.\u001b[39;49m\u001b[43mfit\u001b[49m\u001b[43m(\u001b[49m\u001b[43membeddings\u001b[49m\u001b[43m)\u001b[49m\n\u001b[1;32m   2874\u001b[0m umap_embeddings \u001b[38;5;241m=\u001b[39m \u001b[38;5;28mself\u001b[39m\u001b[38;5;241m.\u001b[39mumap_model\u001b[38;5;241m.\u001b[39mtransform(embeddings)\n\u001b[1;32m   2875\u001b[0m logger\u001b[38;5;241m.\u001b[39minfo(\u001b[38;5;124m\"\u001b[39m\u001b[38;5;124mReduced dimensionality\u001b[39m\u001b[38;5;124m\"\u001b[39m)\n",
      "File \u001b[0;32m~/opt/anaconda3/envs/twitter-env/lib/python3.9/site-packages/umap/umap_.py:2684\u001b[0m, in \u001b[0;36mUMAP.fit\u001b[0;34m(self, X, y)\u001b[0m\n\u001b[1;32m   2681\u001b[0m     \u001b[38;5;28mprint\u001b[39m(ts(), \u001b[38;5;124m\"\u001b[39m\u001b[38;5;124mConstruct embedding\u001b[39m\u001b[38;5;124m\"\u001b[39m)\n\u001b[1;32m   2683\u001b[0m \u001b[38;5;28;01mif\u001b[39;00m \u001b[38;5;28mself\u001b[39m\u001b[38;5;241m.\u001b[39mtransform_mode \u001b[38;5;241m==\u001b[39m \u001b[38;5;124m\"\u001b[39m\u001b[38;5;124membedding\u001b[39m\u001b[38;5;124m\"\u001b[39m:\n\u001b[0;32m-> 2684\u001b[0m     \u001b[38;5;28mself\u001b[39m\u001b[38;5;241m.\u001b[39membedding_, aux_data \u001b[38;5;241m=\u001b[39m \u001b[38;5;28;43mself\u001b[39;49m\u001b[38;5;241;43m.\u001b[39;49m\u001b[43m_fit_embed_data\u001b[49m\u001b[43m(\u001b[49m\n\u001b[1;32m   2685\u001b[0m \u001b[43m        \u001b[49m\u001b[38;5;28;43mself\u001b[39;49m\u001b[38;5;241;43m.\u001b[39;49m\u001b[43m_raw_data\u001b[49m\u001b[43m[\u001b[49m\u001b[43mindex\u001b[49m\u001b[43m]\u001b[49m\u001b[43m,\u001b[49m\n\u001b[1;32m   2686\u001b[0m \u001b[43m        \u001b[49m\u001b[38;5;28;43mself\u001b[39;49m\u001b[38;5;241;43m.\u001b[39;49m\u001b[43mn_epochs\u001b[49m\u001b[43m,\u001b[49m\n\u001b[1;32m   2687\u001b[0m \u001b[43m        \u001b[49m\u001b[43minit\u001b[49m\u001b[43m,\u001b[49m\n\u001b[1;32m   2688\u001b[0m \u001b[43m        \u001b[49m\u001b[43mrandom_state\u001b[49m\u001b[43m,\u001b[49m\u001b[43m  \u001b[49m\u001b[38;5;66;43;03m# JH why raw data?\u001b[39;49;00m\n\u001b[1;32m   2689\u001b[0m \u001b[43m    \u001b[49m\u001b[43m)\u001b[49m\n\u001b[1;32m   2690\u001b[0m     \u001b[38;5;66;03m# Assign any points that are fully disconnected from our manifold(s) to have embedding\u001b[39;00m\n\u001b[1;32m   2691\u001b[0m     \u001b[38;5;66;03m# coordinates of np.nan.  These will be filtered by our plotting functions automatically.\u001b[39;00m\n\u001b[1;32m   2692\u001b[0m     \u001b[38;5;66;03m# They also prevent users from being deceived a distance query to one of these points.\u001b[39;00m\n\u001b[1;32m   2693\u001b[0m     \u001b[38;5;66;03m# Might be worth moving this into simplicial_set_embedding or _fit_embed_data\u001b[39;00m\n\u001b[1;32m   2694\u001b[0m     disconnected_vertices \u001b[38;5;241m=\u001b[39m np\u001b[38;5;241m.\u001b[39marray(\u001b[38;5;28mself\u001b[39m\u001b[38;5;241m.\u001b[39mgraph_\u001b[38;5;241m.\u001b[39msum(axis\u001b[38;5;241m=\u001b[39m\u001b[38;5;241m1\u001b[39m))\u001b[38;5;241m.\u001b[39mflatten() \u001b[38;5;241m==\u001b[39m \u001b[38;5;241m0\u001b[39m\n",
      "File \u001b[0;32m~/opt/anaconda3/envs/twitter-env/lib/python3.9/site-packages/umap/umap_.py:2717\u001b[0m, in \u001b[0;36mUMAP._fit_embed_data\u001b[0;34m(self, X, n_epochs, init, random_state)\u001b[0m\n\u001b[1;32m   2713\u001b[0m \u001b[38;5;28;01mdef\u001b[39;00m \u001b[38;5;21m_fit_embed_data\u001b[39m(\u001b[38;5;28mself\u001b[39m, X, n_epochs, init, random_state):\n\u001b[1;32m   2714\u001b[0m \u001b[38;5;250m    \u001b[39m\u001b[38;5;124;03m\"\"\"A method wrapper for simplicial_set_embedding that can be\u001b[39;00m\n\u001b[1;32m   2715\u001b[0m \u001b[38;5;124;03m    replaced by subclasses.\u001b[39;00m\n\u001b[1;32m   2716\u001b[0m \u001b[38;5;124;03m    \"\"\"\u001b[39;00m\n\u001b[0;32m-> 2717\u001b[0m     \u001b[38;5;28;01mreturn\u001b[39;00m \u001b[43msimplicial_set_embedding\u001b[49m\u001b[43m(\u001b[49m\n\u001b[1;32m   2718\u001b[0m \u001b[43m        \u001b[49m\u001b[43mX\u001b[49m\u001b[43m,\u001b[49m\n\u001b[1;32m   2719\u001b[0m \u001b[43m        \u001b[49m\u001b[38;5;28;43mself\u001b[39;49m\u001b[38;5;241;43m.\u001b[39;49m\u001b[43mgraph_\u001b[49m\u001b[43m,\u001b[49m\n\u001b[1;32m   2720\u001b[0m \u001b[43m        \u001b[49m\u001b[38;5;28;43mself\u001b[39;49m\u001b[38;5;241;43m.\u001b[39;49m\u001b[43mn_components\u001b[49m\u001b[43m,\u001b[49m\n\u001b[1;32m   2721\u001b[0m \u001b[43m        \u001b[49m\u001b[38;5;28;43mself\u001b[39;49m\u001b[38;5;241;43m.\u001b[39;49m\u001b[43m_initial_alpha\u001b[49m\u001b[43m,\u001b[49m\n\u001b[1;32m   2722\u001b[0m \u001b[43m        \u001b[49m\u001b[38;5;28;43mself\u001b[39;49m\u001b[38;5;241;43m.\u001b[39;49m\u001b[43m_a\u001b[49m\u001b[43m,\u001b[49m\n\u001b[1;32m   2723\u001b[0m \u001b[43m        \u001b[49m\u001b[38;5;28;43mself\u001b[39;49m\u001b[38;5;241;43m.\u001b[39;49m\u001b[43m_b\u001b[49m\u001b[43m,\u001b[49m\n\u001b[1;32m   2724\u001b[0m \u001b[43m        \u001b[49m\u001b[38;5;28;43mself\u001b[39;49m\u001b[38;5;241;43m.\u001b[39;49m\u001b[43mrepulsion_strength\u001b[49m\u001b[43m,\u001b[49m\n\u001b[1;32m   2725\u001b[0m \u001b[43m        \u001b[49m\u001b[38;5;28;43mself\u001b[39;49m\u001b[38;5;241;43m.\u001b[39;49m\u001b[43mnegative_sample_rate\u001b[49m\u001b[43m,\u001b[49m\n\u001b[1;32m   2726\u001b[0m \u001b[43m        \u001b[49m\u001b[43mn_epochs\u001b[49m\u001b[43m,\u001b[49m\n\u001b[1;32m   2727\u001b[0m \u001b[43m        \u001b[49m\u001b[43minit\u001b[49m\u001b[43m,\u001b[49m\n\u001b[1;32m   2728\u001b[0m \u001b[43m        \u001b[49m\u001b[43mrandom_state\u001b[49m\u001b[43m,\u001b[49m\n\u001b[1;32m   2729\u001b[0m \u001b[43m        \u001b[49m\u001b[38;5;28;43mself\u001b[39;49m\u001b[38;5;241;43m.\u001b[39;49m\u001b[43m_input_distance_func\u001b[49m\u001b[43m,\u001b[49m\n\u001b[1;32m   2730\u001b[0m \u001b[43m        \u001b[49m\u001b[38;5;28;43mself\u001b[39;49m\u001b[38;5;241;43m.\u001b[39;49m\u001b[43m_metric_kwds\u001b[49m\u001b[43m,\u001b[49m\n\u001b[1;32m   2731\u001b[0m \u001b[43m        \u001b[49m\u001b[38;5;28;43mself\u001b[39;49m\u001b[38;5;241;43m.\u001b[39;49m\u001b[43mdensmap\u001b[49m\u001b[43m,\u001b[49m\n\u001b[1;32m   2732\u001b[0m \u001b[43m        \u001b[49m\u001b[38;5;28;43mself\u001b[39;49m\u001b[38;5;241;43m.\u001b[39;49m\u001b[43m_densmap_kwds\u001b[49m\u001b[43m,\u001b[49m\n\u001b[1;32m   2733\u001b[0m \u001b[43m        \u001b[49m\u001b[38;5;28;43mself\u001b[39;49m\u001b[38;5;241;43m.\u001b[39;49m\u001b[43moutput_dens\u001b[49m\u001b[43m,\u001b[49m\n\u001b[1;32m   2734\u001b[0m \u001b[43m        \u001b[49m\u001b[38;5;28;43mself\u001b[39;49m\u001b[38;5;241;43m.\u001b[39;49m\u001b[43m_output_distance_func\u001b[49m\u001b[43m,\u001b[49m\n\u001b[1;32m   2735\u001b[0m \u001b[43m        \u001b[49m\u001b[38;5;28;43mself\u001b[39;49m\u001b[38;5;241;43m.\u001b[39;49m\u001b[43m_output_metric_kwds\u001b[49m\u001b[43m,\u001b[49m\n\u001b[1;32m   2736\u001b[0m \u001b[43m        \u001b[49m\u001b[38;5;28;43mself\u001b[39;49m\u001b[38;5;241;43m.\u001b[39;49m\u001b[43moutput_metric\u001b[49m\u001b[43m \u001b[49m\u001b[38;5;129;43;01min\u001b[39;49;00m\u001b[43m \u001b[49m\u001b[43m(\u001b[49m\u001b[38;5;124;43m\"\u001b[39;49m\u001b[38;5;124;43meuclidean\u001b[39;49m\u001b[38;5;124;43m\"\u001b[39;49m\u001b[43m,\u001b[49m\u001b[43m \u001b[49m\u001b[38;5;124;43m\"\u001b[39;49m\u001b[38;5;124;43ml2\u001b[39;49m\u001b[38;5;124;43m\"\u001b[39;49m\u001b[43m)\u001b[49m\u001b[43m,\u001b[49m\n\u001b[1;32m   2737\u001b[0m \u001b[43m        \u001b[49m\u001b[38;5;28;43mself\u001b[39;49m\u001b[38;5;241;43m.\u001b[39;49m\u001b[43mrandom_state\u001b[49m\u001b[43m \u001b[49m\u001b[38;5;129;43;01mis\u001b[39;49;00m\u001b[43m \u001b[49m\u001b[38;5;28;43;01mNone\u001b[39;49;00m\u001b[43m,\u001b[49m\n\u001b[1;32m   2738\u001b[0m \u001b[43m        \u001b[49m\u001b[38;5;28;43mself\u001b[39;49m\u001b[38;5;241;43m.\u001b[39;49m\u001b[43mverbose\u001b[49m\u001b[43m,\u001b[49m\n\u001b[1;32m   2739\u001b[0m \u001b[43m        \u001b[49m\u001b[43mtqdm_kwds\u001b[49m\u001b[38;5;241;43m=\u001b[39;49m\u001b[38;5;28;43mself\u001b[39;49m\u001b[38;5;241;43m.\u001b[39;49m\u001b[43mtqdm_kwds\u001b[49m\u001b[43m,\u001b[49m\n\u001b[1;32m   2740\u001b[0m \u001b[43m    \u001b[49m\u001b[43m)\u001b[49m\n",
      "File \u001b[0;32m~/opt/anaconda3/envs/twitter-env/lib/python3.9/site-packages/umap/umap_.py:1078\u001b[0m, in \u001b[0;36msimplicial_set_embedding\u001b[0;34m(data, graph, n_components, initial_alpha, a, b, gamma, negative_sample_rate, n_epochs, init, random_state, metric, metric_kwds, densmap, densmap_kwds, output_dens, output_metric, output_metric_kwds, euclidean_output, parallel, verbose, tqdm_kwds)\u001b[0m\n\u001b[1;32m   1073\u001b[0m     embedding \u001b[38;5;241m=\u001b[39m random_state\u001b[38;5;241m.\u001b[39muniform(\n\u001b[1;32m   1074\u001b[0m         low\u001b[38;5;241m=\u001b[39m\u001b[38;5;241m-\u001b[39m\u001b[38;5;241m10.0\u001b[39m, high\u001b[38;5;241m=\u001b[39m\u001b[38;5;241m10.0\u001b[39m, size\u001b[38;5;241m=\u001b[39m(graph\u001b[38;5;241m.\u001b[39mshape[\u001b[38;5;241m0\u001b[39m], n_components)\n\u001b[1;32m   1075\u001b[0m     )\u001b[38;5;241m.\u001b[39mastype(np\u001b[38;5;241m.\u001b[39mfloat32)\n\u001b[1;32m   1076\u001b[0m \u001b[38;5;28;01melif\u001b[39;00m \u001b[38;5;28misinstance\u001b[39m(init, \u001b[38;5;28mstr\u001b[39m) \u001b[38;5;129;01mand\u001b[39;00m init \u001b[38;5;241m==\u001b[39m \u001b[38;5;124m\"\u001b[39m\u001b[38;5;124mspectral\u001b[39m\u001b[38;5;124m\"\u001b[39m:\n\u001b[1;32m   1077\u001b[0m     \u001b[38;5;66;03m# We add a little noise to avoid local minima for optimization to come\u001b[39;00m\n\u001b[0;32m-> 1078\u001b[0m     initialisation \u001b[38;5;241m=\u001b[39m \u001b[43mspectral_layout\u001b[49m\u001b[43m(\u001b[49m\n\u001b[1;32m   1079\u001b[0m \u001b[43m        \u001b[49m\u001b[43mdata\u001b[49m\u001b[43m,\u001b[49m\n\u001b[1;32m   1080\u001b[0m \u001b[43m        \u001b[49m\u001b[43mgraph\u001b[49m\u001b[43m,\u001b[49m\n\u001b[1;32m   1081\u001b[0m \u001b[43m        \u001b[49m\u001b[43mn_components\u001b[49m\u001b[43m,\u001b[49m\n\u001b[1;32m   1082\u001b[0m \u001b[43m        \u001b[49m\u001b[43mrandom_state\u001b[49m\u001b[43m,\u001b[49m\n\u001b[1;32m   1083\u001b[0m \u001b[43m        \u001b[49m\u001b[43mmetric\u001b[49m\u001b[38;5;241;43m=\u001b[39;49m\u001b[43mmetric\u001b[49m\u001b[43m,\u001b[49m\n\u001b[1;32m   1084\u001b[0m \u001b[43m        \u001b[49m\u001b[43mmetric_kwds\u001b[49m\u001b[38;5;241;43m=\u001b[39;49m\u001b[43mmetric_kwds\u001b[49m\u001b[43m,\u001b[49m\n\u001b[1;32m   1085\u001b[0m \u001b[43m    \u001b[49m\u001b[43m)\u001b[49m\n\u001b[1;32m   1086\u001b[0m     expansion \u001b[38;5;241m=\u001b[39m \u001b[38;5;241m10.0\u001b[39m \u001b[38;5;241m/\u001b[39m np\u001b[38;5;241m.\u001b[39mabs(initialisation)\u001b[38;5;241m.\u001b[39mmax()\n\u001b[1;32m   1087\u001b[0m     embedding \u001b[38;5;241m=\u001b[39m (initialisation \u001b[38;5;241m*\u001b[39m expansion)\u001b[38;5;241m.\u001b[39mastype(\n\u001b[1;32m   1088\u001b[0m         np\u001b[38;5;241m.\u001b[39mfloat32\n\u001b[1;32m   1089\u001b[0m     ) \u001b[38;5;241m+\u001b[39m random_state\u001b[38;5;241m.\u001b[39mnormal(\n\u001b[0;32m   (...)\u001b[0m\n\u001b[1;32m   1092\u001b[0m         np\u001b[38;5;241m.\u001b[39mfloat32\n\u001b[1;32m   1093\u001b[0m     )\n",
      "File \u001b[0;32m~/opt/anaconda3/envs/twitter-env/lib/python3.9/site-packages/umap/spectral.py:332\u001b[0m, in \u001b[0;36mspectral_layout\u001b[0;34m(data, graph, dim, random_state, metric, metric_kwds)\u001b[0m\n\u001b[1;32m    330\u001b[0m \u001b[38;5;28;01mtry\u001b[39;00m:\n\u001b[1;32m    331\u001b[0m     \u001b[38;5;28;01mif\u001b[39;00m L\u001b[38;5;241m.\u001b[39mshape[\u001b[38;5;241m0\u001b[39m] \u001b[38;5;241m<\u001b[39m \u001b[38;5;241m2000000\u001b[39m:\n\u001b[0;32m--> 332\u001b[0m         eigenvalues, eigenvectors \u001b[38;5;241m=\u001b[39m \u001b[43mscipy\u001b[49m\u001b[38;5;241;43m.\u001b[39;49m\u001b[43msparse\u001b[49m\u001b[38;5;241;43m.\u001b[39;49m\u001b[43mlinalg\u001b[49m\u001b[38;5;241;43m.\u001b[39;49m\u001b[43meigsh\u001b[49m\u001b[43m(\u001b[49m\n\u001b[1;32m    333\u001b[0m \u001b[43m            \u001b[49m\u001b[43mL\u001b[49m\u001b[43m,\u001b[49m\n\u001b[1;32m    334\u001b[0m \u001b[43m            \u001b[49m\u001b[43mk\u001b[49m\u001b[43m,\u001b[49m\n\u001b[1;32m    335\u001b[0m \u001b[43m            \u001b[49m\u001b[43mwhich\u001b[49m\u001b[38;5;241;43m=\u001b[39;49m\u001b[38;5;124;43m\"\u001b[39;49m\u001b[38;5;124;43mSM\u001b[39;49m\u001b[38;5;124;43m\"\u001b[39;49m\u001b[43m,\u001b[49m\n\u001b[1;32m    336\u001b[0m \u001b[43m            \u001b[49m\u001b[43mncv\u001b[49m\u001b[38;5;241;43m=\u001b[39;49m\u001b[43mnum_lanczos_vectors\u001b[49m\u001b[43m,\u001b[49m\n\u001b[1;32m    337\u001b[0m \u001b[43m            \u001b[49m\u001b[43mtol\u001b[49m\u001b[38;5;241;43m=\u001b[39;49m\u001b[38;5;241;43m1e-4\u001b[39;49m\u001b[43m,\u001b[49m\n\u001b[1;32m    338\u001b[0m \u001b[43m            \u001b[49m\u001b[43mv0\u001b[49m\u001b[38;5;241;43m=\u001b[39;49m\u001b[43mnp\u001b[49m\u001b[38;5;241;43m.\u001b[39;49m\u001b[43mones\u001b[49m\u001b[43m(\u001b[49m\u001b[43mL\u001b[49m\u001b[38;5;241;43m.\u001b[39;49m\u001b[43mshape\u001b[49m\u001b[43m[\u001b[49m\u001b[38;5;241;43m0\u001b[39;49m\u001b[43m]\u001b[49m\u001b[43m)\u001b[49m\u001b[43m,\u001b[49m\n\u001b[1;32m    339\u001b[0m \u001b[43m            \u001b[49m\u001b[43mmaxiter\u001b[49m\u001b[38;5;241;43m=\u001b[39;49m\u001b[43mgraph\u001b[49m\u001b[38;5;241;43m.\u001b[39;49m\u001b[43mshape\u001b[49m\u001b[43m[\u001b[49m\u001b[38;5;241;43m0\u001b[39;49m\u001b[43m]\u001b[49m\u001b[43m \u001b[49m\u001b[38;5;241;43m*\u001b[39;49m\u001b[43m \u001b[49m\u001b[38;5;241;43m5\u001b[39;49m\u001b[43m,\u001b[49m\n\u001b[1;32m    340\u001b[0m \u001b[43m        \u001b[49m\u001b[43m)\u001b[49m\n\u001b[1;32m    341\u001b[0m     \u001b[38;5;28;01melse\u001b[39;00m:\n\u001b[1;32m    342\u001b[0m         eigenvalues, eigenvectors \u001b[38;5;241m=\u001b[39m scipy\u001b[38;5;241m.\u001b[39msparse\u001b[38;5;241m.\u001b[39mlinalg\u001b[38;5;241m.\u001b[39mlobpcg(\n\u001b[1;32m    343\u001b[0m             L, random_state\u001b[38;5;241m.\u001b[39mnormal(size\u001b[38;5;241m=\u001b[39m(L\u001b[38;5;241m.\u001b[39mshape[\u001b[38;5;241m0\u001b[39m], k)), largest\u001b[38;5;241m=\u001b[39m\u001b[38;5;28;01mFalse\u001b[39;00m, tol\u001b[38;5;241m=\u001b[39m\u001b[38;5;241m1e-8\u001b[39m\n\u001b[1;32m    344\u001b[0m         )\n",
      "File \u001b[0;32m~/opt/anaconda3/envs/twitter-env/lib/python3.9/site-packages/scipy/sparse/linalg/_eigen/arpack/arpack.py:1605\u001b[0m, in \u001b[0;36meigsh\u001b[0;34m(A, k, M, sigma, which, v0, ncv, maxiter, tol, return_eigenvectors, Minv, OPinv, mode)\u001b[0m\n\u001b[1;32m   1600\u001b[0m warnings\u001b[38;5;241m.\u001b[39mwarn(\u001b[38;5;124m\"\u001b[39m\u001b[38;5;124mk >= N for N * N square matrix. \u001b[39m\u001b[38;5;124m\"\u001b[39m\n\u001b[1;32m   1601\u001b[0m               \u001b[38;5;124m\"\u001b[39m\u001b[38;5;124mAttempting to use scipy.linalg.eigh instead.\u001b[39m\u001b[38;5;124m\"\u001b[39m,\n\u001b[1;32m   1602\u001b[0m               \u001b[38;5;167;01mRuntimeWarning\u001b[39;00m)\n\u001b[1;32m   1604\u001b[0m \u001b[38;5;28;01mif\u001b[39;00m issparse(A):\n\u001b[0;32m-> 1605\u001b[0m     \u001b[38;5;28;01mraise\u001b[39;00m \u001b[38;5;167;01mTypeError\u001b[39;00m(\u001b[38;5;124m\"\u001b[39m\u001b[38;5;124mCannot use scipy.linalg.eigh for sparse A with \u001b[39m\u001b[38;5;124m\"\u001b[39m\n\u001b[1;32m   1606\u001b[0m                     \u001b[38;5;124m\"\u001b[39m\u001b[38;5;124mk >= N. Use scipy.linalg.eigh(A.toarray()) or\u001b[39m\u001b[38;5;124m\"\u001b[39m\n\u001b[1;32m   1607\u001b[0m                     \u001b[38;5;124m\"\u001b[39m\u001b[38;5;124m reduce k.\u001b[39m\u001b[38;5;124m\"\u001b[39m)\n\u001b[1;32m   1608\u001b[0m \u001b[38;5;28;01mif\u001b[39;00m \u001b[38;5;28misinstance\u001b[39m(A, LinearOperator):\n\u001b[1;32m   1609\u001b[0m     \u001b[38;5;28;01mraise\u001b[39;00m \u001b[38;5;167;01mTypeError\u001b[39;00m(\u001b[38;5;124m\"\u001b[39m\u001b[38;5;124mCannot use scipy.linalg.eigh for LinearOperator \u001b[39m\u001b[38;5;124m\"\u001b[39m\n\u001b[1;32m   1610\u001b[0m                     \u001b[38;5;124m\"\u001b[39m\u001b[38;5;124mA with k >= N.\u001b[39m\u001b[38;5;124m\"\u001b[39m)\n",
      "\u001b[0;31mTypeError\u001b[0m: Cannot use scipy.linalg.eigh for sparse A with k >= N. Use scipy.linalg.eigh(A.toarray()) or reduce k."
     ]
    }
   ],
   "source": [
    "# Import the necessary libraries\n",
    "from bertopic import BERTopic\n",
    "import pandas as pd\n",
    "import json\n",
    "\n",
    "# Load the Twitter data from the JSON file\n",
    "with open('./data/search_Abd Alla S/2019_03_01_0.json', 'r') as f:\n",
    "    json_data = json.load(f)\n",
    "\n",
    "print(json_data)\n",
    "\n",
    "# Convert the JSON data into a Pandas DataFrame\n",
    "df = pd.json_normalize(json_data, record_path = ['data'])\n",
    "print(df['text'])\n",
    "\n",
    "# Initialize the Bertopic model with the desired number of topics\n",
    "model = BERTopic()\n",
    "\n",
    "# Fit the model to the Twitter data\n",
    "topics, probabilities = model.fit_transform(df['text'])\n",
    "\n",
    "# Filter the DataFrame based on the topics of interest\n",
    "topics_of_interest = ['gun', 'death']\n",
    "mask = topics.isin(topics_of_interest).any(axis=1)\n",
    "filtered_df = df[mask]\n",
    "\n",
    "# Print the filtered DataFrame\n",
    "print(filtered_df)\n"
   ]
  },
  {
   "cell_type": "code",
   "execution_count": 6,
   "id": "f394a5f3-03d6-49b3-bd19-85eb1d0ebcd0",
   "metadata": {},
   "outputs": [],
   "source": [
    "# source: https://softhints.com/merge-multiple-json-files-pandas-dataframe/\n",
    "import numpy as np\n",
    "import pandas as pd\n",
    "import glob, os, json\n",
    "\n",
    "json_dir = './data'\n",
    "dir_list = glob.glob(os.path.join(json_dir, 'search_*'))"
   ]
  },
  {
   "cell_type": "code",
   "execution_count": 15,
   "id": "d7759881",
   "metadata": {},
   "outputs": [
    {
     "data": {
      "text/html": [
       "<div>\n",
       "<style scoped>\n",
       "    .dataframe tbody tr th:only-of-type {\n",
       "        vertical-align: middle;\n",
       "    }\n",
       "\n",
       "    .dataframe tbody tr th {\n",
       "        vertical-align: top;\n",
       "    }\n",
       "\n",
       "    .dataframe thead th {\n",
       "        text-align: right;\n",
       "    }\n",
       "</style>\n",
       "<table border=\"1\" class=\"dataframe\">\n",
       "  <thead>\n",
       "    <tr style=\"text-align: right;\">\n",
       "      <th></th>\n",
       "      <th>text</th>\n",
       "    </tr>\n",
       "  </thead>\n",
       "  <tbody>\n",
       "    <tr>\n",
       "      <th>0</th>\n",
       "      <td>RT @FOXLA: UPDATE: The Coroner's Office has id...</td>\n",
       "    </tr>\n",
       "    <tr>\n",
       "      <th>1</th>\n",
       "      <td>UPDATE: The Coroner's Office has identified th...</td>\n",
       "    </tr>\n",
       "    <tr>\n",
       "      <th>2</th>\n",
       "      <td>UPDATE: The Coroner's Office has identified th...</td>\n",
       "    </tr>\n",
       "    <tr>\n",
       "      <th>3</th>\n",
       "      <td>UPDATE: The Coroner's Office has identified th...</td>\n",
       "    </tr>\n",
       "  </tbody>\n",
       "</table>\n",
       "</div>"
      ],
      "text/plain": [
       "                                                text\n",
       "0  RT @FOXLA: UPDATE: The Coroner's Office has id...\n",
       "1  UPDATE: The Coroner's Office has identified th...\n",
       "2  UPDATE: The Coroner's Office has identified th...\n",
       "3  UPDATE: The Coroner's Office has identified th..."
      ]
     },
     "execution_count": 15,
     "metadata": {},
     "output_type": "execute_result"
    }
   ],
   "source": [
    "# sample data\n",
    "data = { 'text': [\"RT @FOXLA: UPDATE: The Coroner's Office has identified the man shot to death Friday outside a bank in Paramount as 38-year-old Abd Alla Tha…\",\n",
    "       \"UPDATE: The Coroner's Office has identified the man shot to death Friday outside a bank in Paramount as 38-year-old Abd Alla Thabet. https://t.co/cV4OLkub2Q\",\n",
    "       \"UPDATE: The Coroner's Office has identified the man shot to death Friday outside a bank in Paramount as 38-year-old Abd Alla Thabet. https://t.co/ua9PcIrwb9\",\n",
    "       \"UPDATE: The Coroner's Office has identified the man shot to death Friday outside a bank in Paramount as 38-year-old Abd Alla Thabet. https://t.co/rNAs6gJ8Nn\"]}\n",
    "data = pd.DataFrame(data)\n",
    "data = data[['text']]\n",
    "data.head()"
   ]
  },
  {
   "cell_type": "code",
   "execution_count": 20,
   "id": "4142112c",
   "metadata": {},
   "outputs": [],
   "source": [
    "# source: https://www.kaggle.com/code/accountstatus/analysis-using-bertopic-and-sentence-transformer\n",
    "from nltk.stem import WordNetLemmatizer\n",
    "import nltk\n",
    "from nltk.corpus import stopwords \n",
    "from nltk.tokenize import word_tokenize\n",
    "import re\n",
    "from nltk.stem import WordNetLemmatizer\n",
    "import nltk\n",
    "from nltk.corpus import stopwords \n",
    "from nltk.tokenize import word_tokenize \n",
    "\n",
    "# Function to preprocess the tweets data\n",
    "def preprocess_tweet_data(data,name):\n",
    "    # Lowering the case of the words in the sentences\n",
    "    data[name]=data[name].str.lower()\n",
    "    # Code to remove the Hashtags from the text\n",
    "    data[name]=data[name].apply(lambda x:re.sub(r'\\B#\\S+','',x))\n",
    "    # Code to remove the links from the text\n",
    "    data[name]=data[name].apply(lambda x:re.sub(r\"http\\S+\", \"\", x))\n",
    "    # Code to remove the Special characters from the text \n",
    "    data[name]=data[name].apply(lambda x:' '.join(re.findall(r'\\w+', x)))\n",
    "    # Code to substitute the multiple spaces with single spaces\n",
    "    data[name]=data[name].apply(lambda x:re.sub(r'\\s+', ' ', x, flags=re.I))\n",
    "    # Code to remove all the single characters in the text\n",
    "    data[name]=data[name].apply(lambda x:re.sub(r'\\s+[a-zA-Z]\\s+', '', x))\n",
    "    # Remove the twitter handlers\n",
    "    data[name]=data[name].apply(lambda x:re.sub('@[^\\s]+','',x))\n",
    "\n",
    "# This function is to remove stopwords from a particular column and to tokenize it\n",
    "def rem_stopwords_tokenize(data,name):\n",
    "    def getting(sen):\n",
    "        example_sent = sen\n",
    "        stop_words = set(stopwords.words('english')) \n",
    "        word_tokens = word_tokenize(example_sent) \n",
    "        filtered_sentence = [w for w in word_tokens if not w in stop_words] \n",
    "        filtered_sentence = [] \n",
    "        for w in word_tokens: \n",
    "            if w not in stop_words: \n",
    "                filtered_sentence.append(w.lower()) \n",
    "        return filtered_sentence\n",
    "    x=[]\n",
    "    for i in data[name].values:\n",
    "        x.append(getting(i))\n",
    "    data[name]=x\n",
    "\n",
    "# Making a function to lemmatize all the words\n",
    "lemmatizer = WordNetLemmatizer() \n",
    "def lemmatize_all(data,name):\n",
    "    arr=data[name]\n",
    "    a=[]\n",
    "    for i in arr:\n",
    "        b=[]\n",
    "        for j in i:\n",
    "            x=lemmatizer.lemmatize(j,pos='a')\n",
    "            x=lemmatizer.lemmatize(x)\n",
    "            b.append(x)\n",
    "        a.append(b)\n",
    "    data[name]=a\n",
    "\n",
    "# Function to make it back into a sentence \n",
    "def make_sentences(data,name):\n",
    "    data[name]=data[name].apply(lambda x:' '.join([i+' ' for i in x]))\n",
    "    # Removing double spaces if created\n",
    "    data[name]=data[name].apply(lambda x:re.sub(r'\\s+', ' ', x, flags=re.I))"
   ]
  },
  {
   "cell_type": "code",
   "execution_count": 21,
   "id": "d307ecd8",
   "metadata": {},
   "outputs": [
    {
     "name": "stdout",
     "output_type": "stream",
     "text": [
      "None\n"
     ]
    },
    {
     "ename": "LookupError",
     "evalue": "\n**********************************************************************\n  Resource \u001b[93mstopwords\u001b[0m not found.\n  Please use the NLTK Downloader to obtain the resource:\n\n  \u001b[31m>>> import nltk\n  >>> nltk.download('stopwords')\n  \u001b[0m\n  For more information see: https://www.nltk.org/data.html\n\n  Attempted to load \u001b[93mcorpora/stopwords\u001b[0m\n\n  Searched in:\n    - '/Users/amy.kim/nltk_data'\n    - '/Users/amy.kim/opt/anaconda3/envs/twitter-env/nltk_data'\n    - '/Users/amy.kim/opt/anaconda3/envs/twitter-env/share/nltk_data'\n    - '/Users/amy.kim/opt/anaconda3/envs/twitter-env/lib/nltk_data'\n    - '/usr/share/nltk_data'\n    - '/usr/local/share/nltk_data'\n    - '/usr/lib/nltk_data'\n    - '/usr/local/lib/nltk_data'\n**********************************************************************\n",
     "output_type": "error",
     "traceback": [
      "\u001b[0;31m---------------------------------------------------------------------------\u001b[0m",
      "\u001b[0;31mLookupError\u001b[0m                               Traceback (most recent call last)",
      "File \u001b[0;32m~/opt/anaconda3/envs/twitter-env/lib/python3.9/site-packages/nltk/corpus/util.py:84\u001b[0m, in \u001b[0;36mLazyCorpusLoader.__load\u001b[0;34m(self)\u001b[0m\n\u001b[1;32m     83\u001b[0m \u001b[38;5;28;01mtry\u001b[39;00m:\n\u001b[0;32m---> 84\u001b[0m     root \u001b[38;5;241m=\u001b[39m \u001b[43mnltk\u001b[49m\u001b[38;5;241;43m.\u001b[39;49m\u001b[43mdata\u001b[49m\u001b[38;5;241;43m.\u001b[39;49m\u001b[43mfind\u001b[49m\u001b[43m(\u001b[49m\u001b[38;5;124;43mf\u001b[39;49m\u001b[38;5;124;43m\"\u001b[39;49m\u001b[38;5;132;43;01m{\u001b[39;49;00m\u001b[38;5;28;43mself\u001b[39;49m\u001b[38;5;241;43m.\u001b[39;49m\u001b[43msubdir\u001b[49m\u001b[38;5;132;43;01m}\u001b[39;49;00m\u001b[38;5;124;43m/\u001b[39;49m\u001b[38;5;132;43;01m{\u001b[39;49;00m\u001b[43mzip_name\u001b[49m\u001b[38;5;132;43;01m}\u001b[39;49;00m\u001b[38;5;124;43m\"\u001b[39;49m\u001b[43m)\u001b[49m\n\u001b[1;32m     85\u001b[0m \u001b[38;5;28;01mexcept\u001b[39;00m \u001b[38;5;167;01mLookupError\u001b[39;00m:\n",
      "File \u001b[0;32m~/opt/anaconda3/envs/twitter-env/lib/python3.9/site-packages/nltk/data.py:583\u001b[0m, in \u001b[0;36mfind\u001b[0;34m(resource_name, paths)\u001b[0m\n\u001b[1;32m    582\u001b[0m resource_not_found \u001b[38;5;241m=\u001b[39m \u001b[38;5;124mf\u001b[39m\u001b[38;5;124m\"\u001b[39m\u001b[38;5;130;01m\\n\u001b[39;00m\u001b[38;5;132;01m{\u001b[39;00msep\u001b[38;5;132;01m}\u001b[39;00m\u001b[38;5;130;01m\\n\u001b[39;00m\u001b[38;5;132;01m{\u001b[39;00mmsg\u001b[38;5;132;01m}\u001b[39;00m\u001b[38;5;130;01m\\n\u001b[39;00m\u001b[38;5;132;01m{\u001b[39;00msep\u001b[38;5;132;01m}\u001b[39;00m\u001b[38;5;130;01m\\n\u001b[39;00m\u001b[38;5;124m\"\u001b[39m\n\u001b[0;32m--> 583\u001b[0m \u001b[38;5;28;01mraise\u001b[39;00m \u001b[38;5;167;01mLookupError\u001b[39;00m(resource_not_found)\n",
      "\u001b[0;31mLookupError\u001b[0m: \n**********************************************************************\n  Resource \u001b[93mstopwords\u001b[0m not found.\n  Please use the NLTK Downloader to obtain the resource:\n\n  \u001b[31m>>> import nltk\n  >>> nltk.download('stopwords')\n  \u001b[0m\n  For more information see: https://www.nltk.org/data.html\n\n  Attempted to load \u001b[93mcorpora/stopwords.zip/stopwords/\u001b[0m\n\n  Searched in:\n    - '/Users/amy.kim/nltk_data'\n    - '/Users/amy.kim/opt/anaconda3/envs/twitter-env/nltk_data'\n    - '/Users/amy.kim/opt/anaconda3/envs/twitter-env/share/nltk_data'\n    - '/Users/amy.kim/opt/anaconda3/envs/twitter-env/lib/nltk_data'\n    - '/usr/share/nltk_data'\n    - '/usr/local/share/nltk_data'\n    - '/usr/lib/nltk_data'\n    - '/usr/local/lib/nltk_data'\n**********************************************************************\n",
      "\nDuring handling of the above exception, another exception occurred:\n",
      "\u001b[0;31mLookupError\u001b[0m                               Traceback (most recent call last)",
      "Cell \u001b[0;32mIn[21], line 5\u001b[0m\n\u001b[1;32m      3\u001b[0m \u001b[38;5;28mprint\u001b[39m(preprocess_tweet_data(data,\u001b[38;5;124m'\u001b[39m\u001b[38;5;124mtext\u001b[39m\u001b[38;5;124m'\u001b[39m))\n\u001b[1;32m      4\u001b[0m \u001b[38;5;66;03m# Using tokenizer and removing the stopwords\u001b[39;00m\n\u001b[0;32m----> 5\u001b[0m \u001b[38;5;28mprint\u001b[39m(\u001b[43mrem_stopwords_tokenize\u001b[49m\u001b[43m(\u001b[49m\u001b[43mdata\u001b[49m\u001b[43m,\u001b[49m\u001b[38;5;124;43m'\u001b[39;49m\u001b[38;5;124;43mtext\u001b[39;49m\u001b[38;5;124;43m'\u001b[39;49m\u001b[43m)\u001b[49m)\n\u001b[1;32m      6\u001b[0m \u001b[38;5;66;03m# Converting all the texts back to sentences\u001b[39;00m\n\u001b[1;32m      7\u001b[0m \u001b[38;5;28mprint\u001b[39m(make_sentences(data,\u001b[38;5;124m'\u001b[39m\u001b[38;5;124mtext\u001b[39m\u001b[38;5;124m'\u001b[39m))\n",
      "Cell \u001b[0;32mIn[20], line 43\u001b[0m, in \u001b[0;36mrem_stopwords_tokenize\u001b[0;34m(data, name)\u001b[0m\n\u001b[1;32m     41\u001b[0m x\u001b[38;5;241m=\u001b[39m[]\n\u001b[1;32m     42\u001b[0m \u001b[38;5;28;01mfor\u001b[39;00m i \u001b[38;5;129;01min\u001b[39;00m data[name]\u001b[38;5;241m.\u001b[39mvalues:\n\u001b[0;32m---> 43\u001b[0m     x\u001b[38;5;241m.\u001b[39mappend(\u001b[43mgetting\u001b[49m\u001b[43m(\u001b[49m\u001b[43mi\u001b[49m\u001b[43m)\u001b[49m)\n\u001b[1;32m     44\u001b[0m data[name]\u001b[38;5;241m=\u001b[39mx\n",
      "Cell \u001b[0;32mIn[20], line 33\u001b[0m, in \u001b[0;36mrem_stopwords_tokenize.<locals>.getting\u001b[0;34m(sen)\u001b[0m\n\u001b[1;32m     31\u001b[0m \u001b[38;5;28;01mdef\u001b[39;00m \u001b[38;5;21mgetting\u001b[39m(sen):\n\u001b[1;32m     32\u001b[0m     example_sent \u001b[38;5;241m=\u001b[39m sen\n\u001b[0;32m---> 33\u001b[0m     stop_words \u001b[38;5;241m=\u001b[39m \u001b[38;5;28mset\u001b[39m(\u001b[43mstopwords\u001b[49m\u001b[38;5;241;43m.\u001b[39;49m\u001b[43mwords\u001b[49m(\u001b[38;5;124m'\u001b[39m\u001b[38;5;124menglish\u001b[39m\u001b[38;5;124m'\u001b[39m)) \n\u001b[1;32m     34\u001b[0m     word_tokens \u001b[38;5;241m=\u001b[39m word_tokenize(example_sent) \n\u001b[1;32m     35\u001b[0m     filtered_sentence \u001b[38;5;241m=\u001b[39m [w \u001b[38;5;28;01mfor\u001b[39;00m w \u001b[38;5;129;01min\u001b[39;00m word_tokens \u001b[38;5;28;01mif\u001b[39;00m \u001b[38;5;129;01mnot\u001b[39;00m w \u001b[38;5;129;01min\u001b[39;00m stop_words] \n",
      "File \u001b[0;32m~/opt/anaconda3/envs/twitter-env/lib/python3.9/site-packages/nltk/corpus/util.py:121\u001b[0m, in \u001b[0;36mLazyCorpusLoader.__getattr__\u001b[0;34m(self, attr)\u001b[0m\n\u001b[1;32m    118\u001b[0m \u001b[38;5;28;01mif\u001b[39;00m attr \u001b[38;5;241m==\u001b[39m \u001b[38;5;124m\"\u001b[39m\u001b[38;5;124m__bases__\u001b[39m\u001b[38;5;124m\"\u001b[39m:\n\u001b[1;32m    119\u001b[0m     \u001b[38;5;28;01mraise\u001b[39;00m \u001b[38;5;167;01mAttributeError\u001b[39;00m(\u001b[38;5;124m\"\u001b[39m\u001b[38;5;124mLazyCorpusLoader object has no attribute \u001b[39m\u001b[38;5;124m'\u001b[39m\u001b[38;5;124m__bases__\u001b[39m\u001b[38;5;124m'\u001b[39m\u001b[38;5;124m\"\u001b[39m)\n\u001b[0;32m--> 121\u001b[0m \u001b[38;5;28;43mself\u001b[39;49m\u001b[38;5;241;43m.\u001b[39;49m\u001b[43m__load\u001b[49m\u001b[43m(\u001b[49m\u001b[43m)\u001b[49m\n\u001b[1;32m    122\u001b[0m \u001b[38;5;66;03m# This looks circular, but its not, since __load() changes our\u001b[39;00m\n\u001b[1;32m    123\u001b[0m \u001b[38;5;66;03m# __class__ to something new:\u001b[39;00m\n\u001b[1;32m    124\u001b[0m \u001b[38;5;28;01mreturn\u001b[39;00m \u001b[38;5;28mgetattr\u001b[39m(\u001b[38;5;28mself\u001b[39m, attr)\n",
      "File \u001b[0;32m~/opt/anaconda3/envs/twitter-env/lib/python3.9/site-packages/nltk/corpus/util.py:86\u001b[0m, in \u001b[0;36mLazyCorpusLoader.__load\u001b[0;34m(self)\u001b[0m\n\u001b[1;32m     84\u001b[0m             root \u001b[38;5;241m=\u001b[39m nltk\u001b[38;5;241m.\u001b[39mdata\u001b[38;5;241m.\u001b[39mfind(\u001b[38;5;124mf\u001b[39m\u001b[38;5;124m\"\u001b[39m\u001b[38;5;132;01m{\u001b[39;00m\u001b[38;5;28mself\u001b[39m\u001b[38;5;241m.\u001b[39msubdir\u001b[38;5;132;01m}\u001b[39;00m\u001b[38;5;124m/\u001b[39m\u001b[38;5;132;01m{\u001b[39;00mzip_name\u001b[38;5;132;01m}\u001b[39;00m\u001b[38;5;124m\"\u001b[39m)\n\u001b[1;32m     85\u001b[0m         \u001b[38;5;28;01mexcept\u001b[39;00m \u001b[38;5;167;01mLookupError\u001b[39;00m:\n\u001b[0;32m---> 86\u001b[0m             \u001b[38;5;28;01mraise\u001b[39;00m e\n\u001b[1;32m     88\u001b[0m \u001b[38;5;66;03m# Load the corpus.\u001b[39;00m\n\u001b[1;32m     89\u001b[0m corpus \u001b[38;5;241m=\u001b[39m \u001b[38;5;28mself\u001b[39m\u001b[38;5;241m.\u001b[39m__reader_cls(root, \u001b[38;5;241m*\u001b[39m\u001b[38;5;28mself\u001b[39m\u001b[38;5;241m.\u001b[39m__args, \u001b[38;5;241m*\u001b[39m\u001b[38;5;241m*\u001b[39m\u001b[38;5;28mself\u001b[39m\u001b[38;5;241m.\u001b[39m__kwargs)\n",
      "File \u001b[0;32m~/opt/anaconda3/envs/twitter-env/lib/python3.9/site-packages/nltk/corpus/util.py:81\u001b[0m, in \u001b[0;36mLazyCorpusLoader.__load\u001b[0;34m(self)\u001b[0m\n\u001b[1;32m     79\u001b[0m \u001b[38;5;28;01melse\u001b[39;00m:\n\u001b[1;32m     80\u001b[0m     \u001b[38;5;28;01mtry\u001b[39;00m:\n\u001b[0;32m---> 81\u001b[0m         root \u001b[38;5;241m=\u001b[39m \u001b[43mnltk\u001b[49m\u001b[38;5;241;43m.\u001b[39;49m\u001b[43mdata\u001b[49m\u001b[38;5;241;43m.\u001b[39;49m\u001b[43mfind\u001b[49m\u001b[43m(\u001b[49m\u001b[38;5;124;43mf\u001b[39;49m\u001b[38;5;124;43m\"\u001b[39;49m\u001b[38;5;132;43;01m{\u001b[39;49;00m\u001b[38;5;28;43mself\u001b[39;49m\u001b[38;5;241;43m.\u001b[39;49m\u001b[43msubdir\u001b[49m\u001b[38;5;132;43;01m}\u001b[39;49;00m\u001b[38;5;124;43m/\u001b[39;49m\u001b[38;5;132;43;01m{\u001b[39;49;00m\u001b[38;5;28;43mself\u001b[39;49m\u001b[38;5;241;43m.\u001b[39;49m\u001b[43m__name\u001b[49m\u001b[38;5;132;43;01m}\u001b[39;49;00m\u001b[38;5;124;43m\"\u001b[39;49m\u001b[43m)\u001b[49m\n\u001b[1;32m     82\u001b[0m     \u001b[38;5;28;01mexcept\u001b[39;00m \u001b[38;5;167;01mLookupError\u001b[39;00m \u001b[38;5;28;01mas\u001b[39;00m e:\n\u001b[1;32m     83\u001b[0m         \u001b[38;5;28;01mtry\u001b[39;00m:\n",
      "File \u001b[0;32m~/opt/anaconda3/envs/twitter-env/lib/python3.9/site-packages/nltk/data.py:583\u001b[0m, in \u001b[0;36mfind\u001b[0;34m(resource_name, paths)\u001b[0m\n\u001b[1;32m    581\u001b[0m sep \u001b[38;5;241m=\u001b[39m \u001b[38;5;124m\"\u001b[39m\u001b[38;5;124m*\u001b[39m\u001b[38;5;124m\"\u001b[39m \u001b[38;5;241m*\u001b[39m \u001b[38;5;241m70\u001b[39m\n\u001b[1;32m    582\u001b[0m resource_not_found \u001b[38;5;241m=\u001b[39m \u001b[38;5;124mf\u001b[39m\u001b[38;5;124m\"\u001b[39m\u001b[38;5;130;01m\\n\u001b[39;00m\u001b[38;5;132;01m{\u001b[39;00msep\u001b[38;5;132;01m}\u001b[39;00m\u001b[38;5;130;01m\\n\u001b[39;00m\u001b[38;5;132;01m{\u001b[39;00mmsg\u001b[38;5;132;01m}\u001b[39;00m\u001b[38;5;130;01m\\n\u001b[39;00m\u001b[38;5;132;01m{\u001b[39;00msep\u001b[38;5;132;01m}\u001b[39;00m\u001b[38;5;130;01m\\n\u001b[39;00m\u001b[38;5;124m\"\u001b[39m\n\u001b[0;32m--> 583\u001b[0m \u001b[38;5;28;01mraise\u001b[39;00m \u001b[38;5;167;01mLookupError\u001b[39;00m(resource_not_found)\n",
      "\u001b[0;31mLookupError\u001b[0m: \n**********************************************************************\n  Resource \u001b[93mstopwords\u001b[0m not found.\n  Please use the NLTK Downloader to obtain the resource:\n\n  \u001b[31m>>> import nltk\n  >>> nltk.download('stopwords')\n  \u001b[0m\n  For more information see: https://www.nltk.org/data.html\n\n  Attempted to load \u001b[93mcorpora/stopwords\u001b[0m\n\n  Searched in:\n    - '/Users/amy.kim/nltk_data'\n    - '/Users/amy.kim/opt/anaconda3/envs/twitter-env/nltk_data'\n    - '/Users/amy.kim/opt/anaconda3/envs/twitter-env/share/nltk_data'\n    - '/Users/amy.kim/opt/anaconda3/envs/twitter-env/lib/nltk_data'\n    - '/usr/share/nltk_data'\n    - '/usr/local/share/nltk_data'\n    - '/usr/lib/nltk_data'\n    - '/usr/local/lib/nltk_data'\n**********************************************************************\n"
     ]
    }
   ],
   "source": [
    "# source: https://www.kaggle.com/code/accountstatus/analysis-using-bertopic-and-sentence-transformer\n",
    "# Using the preprocessing function to preprocess the tweet data\n",
    "print(preprocess_tweet_data(data,'text'))\n",
    "# Using tokenizer and removing the stopwords\n",
    "print(rem_stopwords_tokenize(data,'text'))\n",
    "# Converting all the texts back to sentences\n",
    "print(make_sentences(data,'text'))"
   ]
  },
  {
   "cell_type": "code",
   "execution_count": 2,
   "id": "0f2ee5ea",
   "metadata": {},
   "outputs": [],
   "source": [
    "from bertopic import BERTopic\n",
    "from sentence_transformers import SentenceTransformer, util\n",
    "\n",
    "relevant_keywords = ['homicide', 'gun', 'shooting', 'violence', 'stab', 'rip', 'rest in peace', 'coroner', 'dead', 'body']\n",
    "model = SentenceTransformer('distiluse-base-multilingual-cased-v1')\n",
    "query_embedding = model.encode(relevant_keywords)\n",
    "\n",
    "def is_not_false_positive(text):\n",
    "    passage_embedding = model.encode([text])\n",
    "    similarities = util.semantic_search(query_embedding, passage_embedding, top_k = 10)\n",
    "    for s in similarities:\n",
    "        print(f'Top 10 most similar sentences in corpus: {}')"
   ]
  },
  {
   "cell_type": "code",
   "execution_count": 7,
   "id": "5921850c",
   "metadata": {},
   "outputs": [
    {
     "ename": "TypeError",
     "evalue": "unhashable type: 'list'",
     "output_type": "error",
     "traceback": [
      "\u001b[0;31m---------------------------------------------------------------------------\u001b[0m",
      "\u001b[0;31mTypeError\u001b[0m                                 Traceback (most recent call last)",
      "Cell \u001b[0;32mIn[7], line 10\u001b[0m\n\u001b[1;32m      8\u001b[0m js \u001b[38;5;241m=\u001b[39m json\u001b[38;5;241m.\u001b[39mload(f)\n\u001b[1;32m      9\u001b[0m name \u001b[38;5;241m=\u001b[39m file\u001b[38;5;241m.\u001b[39msplit(\u001b[38;5;124m'\u001b[39m\u001b[38;5;124m/\u001b[39m\u001b[38;5;124m'\u001b[39m)[\u001b[38;5;241m-\u001b[39m\u001b[38;5;241m2\u001b[39m]\u001b[38;5;241m.\u001b[39msplit(\u001b[38;5;124m'\u001b[39m\u001b[38;5;124msearch_\u001b[39m\u001b[38;5;124m'\u001b[39m)[\u001b[38;5;241m-\u001b[39m\u001b[38;5;241m1\u001b[39m]\n\u001b[0;32m---> 10\u001b[0m \u001b[38;5;28mprint\u001b[39m(\u001b[43mjs\u001b[49m\u001b[43m[\u001b[49m\u001b[43m[\u001b[49m\u001b[38;5;124;43m'\u001b[39;49m\u001b[38;5;124;43mdata\u001b[39;49m\u001b[38;5;124;43m'\u001b[39;49m\u001b[43m]\u001b[49m\u001b[43m]\u001b[49m)\n\u001b[1;32m     11\u001b[0m \u001b[38;5;28;01mfor\u001b[39;00m tweet \u001b[38;5;129;01min\u001b[39;00m js[\u001b[38;5;124m'\u001b[39m\u001b[38;5;124mdata\u001b[39m\u001b[38;5;124m'\u001b[39m]:\n\u001b[1;32m     12\u001b[0m     \u001b[38;5;66;03m# if d['text'] is related to homicide, add to data, and increment result_count\u001b[39;00m\n\u001b[1;32m     13\u001b[0m     \u001b[38;5;28;01mif\u001b[39;00m \u001b[38;5;28;01mTrue\u001b[39;00m:\n",
      "\u001b[0;31mTypeError\u001b[0m: unhashable type: 'list'"
     ]
    }
   ],
   "source": [
    "text_list = []\n",
    "for directory in dir_list[:100]:\n",
    "    file_list = glob.glob(os.path.join(directory, '*.json'))\n",
    "    result_count = 0\n",
    "    name = \"\"\n",
    "    for file in file_list:\n",
    "        f = open(file)\n",
    "        js = json.load(f)\n",
    "        name = file.split('/')[-2].split('search_')[-1]\n",
    "        \n",
    "        for tweet in js['data']:\n",
    "            # if d['text'] is related to homicide, add to data, and increment result_count\n",
    "            if True:\n",
    "                text_list.append(d['text'])\n",
    "                result_count = result_count + 1\n",
    "        \n",
    "        f.close()\n",
    "    data_list.append({'name': name, 'result_count': result_count, 'data': text_list})"
   ]
  },
  {
   "cell_type": "code",
   "execution_count": 4,
   "id": "dcdd2f56",
   "metadata": {},
   "outputs": [
    {
     "name": "stdout",
     "output_type": "stream",
     "text": [
      "[[{'corpus_id': 0, 'score': 0.18475370109081268}], [{'corpus_id': 0, 'score': 0.0783165767788887}], [{'corpus_id': 0, 'score': 0.14464092254638672}], [{'corpus_id': 0, 'score': 0.07483036071062088}], [{'corpus_id': 0, 'score': 0.024407191202044487}], [{'corpus_id': 0, 'score': 0.029468227177858353}], [{'corpus_id': 0, 'score': 0.02416497841477394}], [{'corpus_id': 0, 'score': 0.15990407764911652}], [{'corpus_id': 0, 'score': 0.14716145396232605}], [{'corpus_id': 0, 'score': 0.04911204054951668}]]\n"
     ]
    }
   ],
   "source": [
    "is_not_false_positive(\"RT @FOXLA: UPDATE: The Coroner's Office has identified the man shot to death Friday outside a bank in Paramount as 38-year-old Abd Alla Tha…\")\n",
    "# is_not_false_positive(\"gun\")"
   ]
  },
  {
   "cell_type": "code",
   "execution_count": 2,
   "id": "f835d094-e1eb-49a6-b2a2-5e37691239bd",
   "metadata": {},
   "outputs": [],
   "source": [
    "data_list = [] # list of dicts\n",
    "text_list = []\n",
    "for directory in dir_list:\n",
    "    file_list = glob.glob(os.path.join(directory, '*.json'))\n",
    "    result_count = 0\n",
    "    temp = []\n",
    "    name = \"\"\n",
    "    for file in file_list:\n",
    "        f = open(file) # file is a path to a json file\n",
    "        js = json.load(f)\n",
    "        name = file.split('/')[-2].split('search_')[-1]\n",
    "        result_count = result_count + js['meta']['result_count']\n",
    "        temp = np.concatenate((temp, js['data']))\n",
    "        \n",
    "        for d in js['data']:\n",
    "            text_list.append(d['text'])\n",
    "        \n",
    "        f.close()\n",
    "    data_list.append({'name': name, 'result_count': result_count, 'data': temp})\n"
   ]
  },
  {
   "cell_type": "code",
   "execution_count": 3,
   "id": "7aa9414f-b8af-4878-9cf8-ca2b06a6d9d3",
   "metadata": {},
   "outputs": [
    {
     "name": "stdout",
     "output_type": "stream",
     "text": [
      "                   name  result_count  \\\n",
      "0                                   0   \n",
      "1  Leon Deandre Simpson             1   \n",
      "2                                   0   \n",
      "3                                   0   \n",
      "4                                   0   \n",
      "\n",
      "                                                data  \n",
      "0                                                 []  \n",
      "1  [{'text': 'Leon Deandre Simpson, 39 : #IHateTi...  \n",
      "2                                                 []  \n",
      "3                                                 []  \n",
      "4                                                 []  \n",
      "data: (5333, 3)\n"
     ]
    }
   ],
   "source": [
    "data = pd.DataFrame(data_list)\n",
    "print(data.head())\n",
    "print(f'data: {data.shape}')"
   ]
  },
  {
   "cell_type": "code",
   "execution_count": 4,
   "id": "b07604c6-1df9-46dd-8ae0-b788da20ba7a",
   "metadata": {},
   "outputs": [
    {
     "data": {
      "image/png": "[encoded data removed]",
      "text/plain": [
       "<Figure size 640x480 with 1 Axes>"
      ]
     },
     "metadata": {},
     "output_type": "display_data"
    }
   ],
   "source": [
    "import numpy as np\n",
    "import matplotlib.pyplot as plt\n",
    "\n",
    "plt.title('Number of Tweets')\n",
    "plt.yscale('log')\n",
    "plt.hist(data['result_count'], bins=70)\n",
    "plt.xticks(rotation=45)\n",
    "plt.ylabel('Count')\n",
    "plt.xlabel('Individual')\n",
    "plt.show()"
   ]
  },
  {
   "cell_type": "code",
   "execution_count": 5,
   "id": "96cb4e27-ce9a-4e16-b683-67719a5d24d8",
   "metadata": {},
   "outputs": [
    {
     "data": {
      "text/html": [
       "<div>\n",
       "<style scoped>\n",
       "    .dataframe tbody tr th:only-of-type {\n",
       "        vertical-align: middle;\n",
       "    }\n",
       "\n",
       "    .dataframe tbody tr th {\n",
       "        vertical-align: top;\n",
       "    }\n",
       "\n",
       "    .dataframe thead th {\n",
       "        text-align: right;\n",
       "    }\n",
       "</style>\n",
       "<table border=\"1\" class=\"dataframe\">\n",
       "  <thead>\n",
       "    <tr style=\"text-align: right;\">\n",
       "      <th></th>\n",
       "      <th>name</th>\n",
       "      <th>result_count</th>\n",
       "      <th>data</th>\n",
       "    </tr>\n",
       "  </thead>\n",
       "  <tbody>\n",
       "    <tr>\n",
       "      <th>8</th>\n",
       "      <td>Antonio Centeno Rodriguez</td>\n",
       "      <td>4</td>\n",
       "      <td>[{'id': '1183531100062306304', 'edit_history_t...</td>\n",
       "    </tr>\n",
       "    <tr>\n",
       "      <th>162</th>\n",
       "      <td>Ernesto Ramos Jimenez</td>\n",
       "      <td>4</td>\n",
       "      <td>[{'created_at': '2020-11-21T18:32:04.000Z', 'e...</td>\n",
       "    </tr>\n",
       "    <tr>\n",
       "      <th>325</th>\n",
       "      <td>Emerson Arnold</td>\n",
       "      <td>4</td>\n",
       "      <td>[{'created_at': '2021-07-07T12:31:39.000Z', 'i...</td>\n",
       "    </tr>\n",
       "    <tr>\n",
       "      <th>387</th>\n",
       "      <td>Omar Enrique Garcia</td>\n",
       "      <td>4</td>\n",
       "      <td>[{'text': 'RT @dimanche1948: Si en realidad la...</td>\n",
       "    </tr>\n",
       "    <tr>\n",
       "      <th>469</th>\n",
       "      <td>Dennis Todd Rogers</td>\n",
       "      <td>4</td>\n",
       "      <td>[{'author_id': '17685447', 'text': 'Man armed ...</td>\n",
       "    </tr>\n",
       "    <tr>\n",
       "      <th>...</th>\n",
       "      <td>...</td>\n",
       "      <td>...</td>\n",
       "      <td>...</td>\n",
       "    </tr>\n",
       "    <tr>\n",
       "      <th>4990</th>\n",
       "      <td>Jaime Garcia Jr</td>\n",
       "      <td>4</td>\n",
       "      <td>[{'id': '1017440979513757696', 'created_at': '...</td>\n",
       "    </tr>\n",
       "    <tr>\n",
       "      <th>5008</th>\n",
       "      <td>Anthony Xavier Jackson</td>\n",
       "      <td>4</td>\n",
       "      <td>[{'id': '1465427785749450753', 'edit_history_t...</td>\n",
       "    </tr>\n",
       "    <tr>\n",
       "      <th>5026</th>\n",
       "      <td>Jonathan Echevarria</td>\n",
       "      <td>4</td>\n",
       "      <td>[{'text': 'RT @ProfHasanErkek: Şiirlerim, Ada ...</td>\n",
       "    </tr>\n",
       "    <tr>\n",
       "      <th>5217</th>\n",
       "      <td>Alfred Longoria</td>\n",
       "      <td>4</td>\n",
       "      <td>[{'created_at': '2016-01-21T20:39:45.000Z', 'a...</td>\n",
       "    </tr>\n",
       "    <tr>\n",
       "      <th>5239</th>\n",
       "      <td>Richard Joseph Dambra</td>\n",
       "      <td>4</td>\n",
       "      <td>[{'created_at': '2021-10-08T02:23:29.000Z', 'i...</td>\n",
       "    </tr>\n",
       "  </tbody>\n",
       "</table>\n",
       "<p>85 rows × 3 columns</p>\n",
       "</div>"
      ],
      "text/plain": [
       "                           name  result_count  \\\n",
       "8     Antonio Centeno Rodriguez             4   \n",
       "162       Ernesto Ramos Jimenez             4   \n",
       "325              Emerson Arnold             4   \n",
       "387         Omar Enrique Garcia             4   \n",
       "469          Dennis Todd Rogers             4   \n",
       "...                         ...           ...   \n",
       "4990            Jaime Garcia Jr             4   \n",
       "5008     Anthony Xavier Jackson             4   \n",
       "5026        Jonathan Echevarria             4   \n",
       "5217            Alfred Longoria             4   \n",
       "5239      Richard Joseph Dambra             4   \n",
       "\n",
       "                                                   data  \n",
       "8     [{'id': '1183531100062306304', 'edit_history_t...  \n",
       "162   [{'created_at': '2020-11-21T18:32:04.000Z', 'e...  \n",
       "325   [{'created_at': '2021-07-07T12:31:39.000Z', 'i...  \n",
       "387   [{'text': 'RT @dimanche1948: Si en realidad la...  \n",
       "469   [{'author_id': '17685447', 'text': 'Man armed ...  \n",
       "...                                                 ...  \n",
       "4990  [{'id': '1017440979513757696', 'created_at': '...  \n",
       "5008  [{'id': '1465427785749450753', 'edit_history_t...  \n",
       "5026  [{'text': 'RT @ProfHasanErkek: Şiirlerim, Ada ...  \n",
       "5217  [{'created_at': '2016-01-21T20:39:45.000Z', 'a...  \n",
       "5239  [{'created_at': '2021-10-08T02:23:29.000Z', 'i...  \n",
       "\n",
       "[85 rows x 3 columns]"
      ]
     },
     "execution_count": 5,
     "metadata": {},
     "output_type": "execute_result"
    }
   ],
   "source": [
    "data[(data['result_count'] > 3) & (data['result_count'] < 5)]"
   ]
  },
  {
   "cell_type": "code",
   "execution_count": 6,
   "id": "392f5be6-2c2f-469e-835a-965d610f40f6",
   "metadata": {},
   "outputs": [
    {
     "data": {
      "text/html": [
       "<div>\n",
       "<style scoped>\n",
       "    .dataframe tbody tr th:only-of-type {\n",
       "        vertical-align: middle;\n",
       "    }\n",
       "\n",
       "    .dataframe tbody tr th {\n",
       "        vertical-align: top;\n",
       "    }\n",
       "\n",
       "    .dataframe thead th {\n",
       "        text-align: right;\n",
       "    }\n",
       "</style>\n",
       "<table border=\"1\" class=\"dataframe\">\n",
       "  <thead>\n",
       "    <tr style=\"text-align: right;\">\n",
       "      <th></th>\n",
       "      <th>name</th>\n",
       "      <th>result_count</th>\n",
       "      <th>data</th>\n",
       "    </tr>\n",
       "  </thead>\n",
       "  <tbody>\n",
       "    <tr>\n",
       "      <th>494</th>\n",
       "      <td>Na Li</td>\n",
       "      <td>22102</td>\n",
       "      <td>[{'created_at': '2016-07-17T19:10:52.000Z', 'a...</td>\n",
       "    </tr>\n",
       "    <tr>\n",
       "      <th>621</th>\n",
       "      <td>Jose Leon</td>\n",
       "      <td>11216</td>\n",
       "      <td>[{'created_at': '2019-03-30T02:26:15.000Z', 'a...</td>\n",
       "    </tr>\n",
       "    <tr>\n",
       "      <th>691</th>\n",
       "      <td>Anthony Davis</td>\n",
       "      <td>37630</td>\n",
       "      <td>[{'created_at': '2021-09-20T23:04:59.000Z', 'a...</td>\n",
       "    </tr>\n",
       "    <tr>\n",
       "      <th>937</th>\n",
       "      <td>Jose Luis Sanchez</td>\n",
       "      <td>11132</td>\n",
       "      <td>[{'text': 'RT @SportsCenter: Why We Love Sport...</td>\n",
       "    </tr>\n",
       "    <tr>\n",
       "      <th>1186</th>\n",
       "      <td>Daniel Garcia</td>\n",
       "      <td>16370</td>\n",
       "      <td>[{'author_id': '43698461', 'text': 'RT @Danspl...</td>\n",
       "    </tr>\n",
       "    <tr>\n",
       "      <th>1490</th>\n",
       "      <td>Daniel Ramirez</td>\n",
       "      <td>15500</td>\n",
       "      <td>[{'created_at': '2019-01-16T17:38:49.000Z', 't...</td>\n",
       "    </tr>\n",
       "    <tr>\n",
       "      <th>1559</th>\n",
       "      <td>Jose Luis Rodriguez</td>\n",
       "      <td>18214</td>\n",
       "      <td>[{'edit_history_tweet_ids': ['1277413765613531...</td>\n",
       "    </tr>\n",
       "    <tr>\n",
       "      <th>1829</th>\n",
       "      <td>Gracie Anne Muehlberger</td>\n",
       "      <td>14317</td>\n",
       "      <td>[{'created_at': '2019-11-16T21:38:22.000Z', 'e...</td>\n",
       "    </tr>\n",
       "    <tr>\n",
       "      <th>2171</th>\n",
       "      <td>David Ordaz Jr</td>\n",
       "      <td>14887</td>\n",
       "      <td>[{'author_id': '2989293426', 'text': 'RT @ceri...</td>\n",
       "    </tr>\n",
       "    <tr>\n",
       "      <th>3062</th>\n",
       "      <td>Juan Cortez</td>\n",
       "      <td>68385</td>\n",
       "      <td>[{'id': '1294768154984448002', 'edit_history_t...</td>\n",
       "    </tr>\n",
       "    <tr>\n",
       "      <th>3551</th>\n",
       "      <td>Hunter John</td>\n",
       "      <td>23443</td>\n",
       "      <td>[{'created_at': '2022-03-27T17:17:18.000Z', 'a...</td>\n",
       "    </tr>\n",
       "    <tr>\n",
       "      <th>3614</th>\n",
       "      <td>Valentina Orellana-Peralta</td>\n",
       "      <td>35079</td>\n",
       "      <td>[{'text': 'RT @washingtonpost: Family members ...</td>\n",
       "    </tr>\n",
       "    <tr>\n",
       "      <th>4222</th>\n",
       "      <td>Jose Lopez</td>\n",
       "      <td>26589</td>\n",
       "      <td>[{'id': '1184708883341815808', 'edit_history_t...</td>\n",
       "    </tr>\n",
       "    <tr>\n",
       "      <th>5106</th>\n",
       "      <td>Carlos Martinez</td>\n",
       "      <td>12236</td>\n",
       "      <td>[{'edit_history_tweet_ids': ['1229892290677743...</td>\n",
       "    </tr>\n",
       "    <tr>\n",
       "      <th>5108</th>\n",
       "      <td>Ming Wei Ma</td>\n",
       "      <td>19107</td>\n",
       "      <td>[{'text': 'RT @ndelriego: This thread will be ...</td>\n",
       "    </tr>\n",
       "  </tbody>\n",
       "</table>\n",
       "</div>"
      ],
      "text/plain": [
       "                            name  result_count  \\\n",
       "494                        Na Li         22102   \n",
       "621                    Jose Leon         11216   \n",
       "691                Anthony Davis         37630   \n",
       "937            Jose Luis Sanchez         11132   \n",
       "1186               Daniel Garcia         16370   \n",
       "1490              Daniel Ramirez         15500   \n",
       "1559         Jose Luis Rodriguez         18214   \n",
       "1829     Gracie Anne Muehlberger         14317   \n",
       "2171              David Ordaz Jr         14887   \n",
       "3062                 Juan Cortez         68385   \n",
       "3551                 Hunter John         23443   \n",
       "3614  Valentina Orellana-Peralta         35079   \n",
       "4222                  Jose Lopez         26589   \n",
       "5106             Carlos Martinez         12236   \n",
       "5108                 Ming Wei Ma         19107   \n",
       "\n",
       "                                                   data  \n",
       "494   [{'created_at': '2016-07-17T19:10:52.000Z', 'a...  \n",
       "621   [{'created_at': '2019-03-30T02:26:15.000Z', 'a...  \n",
       "691   [{'created_at': '2021-09-20T23:04:59.000Z', 'a...  \n",
       "937   [{'text': 'RT @SportsCenter: Why We Love Sport...  \n",
       "1186  [{'author_id': '43698461', 'text': 'RT @Danspl...  \n",
       "1490  [{'created_at': '2019-01-16T17:38:49.000Z', 't...  \n",
       "1559  [{'edit_history_tweet_ids': ['1277413765613531...  \n",
       "1829  [{'created_at': '2019-11-16T21:38:22.000Z', 'e...  \n",
       "2171  [{'author_id': '2989293426', 'text': 'RT @ceri...  \n",
       "3062  [{'id': '1294768154984448002', 'edit_history_t...  \n",
       "3551  [{'created_at': '2022-03-27T17:17:18.000Z', 'a...  \n",
       "3614  [{'text': 'RT @washingtonpost: Family members ...  \n",
       "4222  [{'id': '1184708883341815808', 'edit_history_t...  \n",
       "5106  [{'edit_history_tweet_ids': ['1229892290677743...  \n",
       "5108  [{'text': 'RT @ndelriego: This thread will be ...  "
      ]
     },
     "execution_count": 6,
     "metadata": {},
     "output_type": "execute_result"
    }
   ],
   "source": [
    "data[data['result_count'] > 10000]"
   ]
  },
  {
   "cell_type": "code",
   "execution_count": 7,
   "id": "936d3f66-8dbc-4aa8-bb0e-7dda9bb4d118",
   "metadata": {},
   "outputs": [
    {
     "data": {
      "text/plain": [
       "['Leon Deandre Simpson, 39 : #IHateTimWaterman',\n",
       " '@athr9 Rubi Guerra, Renato Rodríguez, Ana Teresa Torres, Antonia Palacios, Teresa de la Parra, Israel Centeno, Ricardo Azuaje, Juan Carlos Méndez Guédez, Martha Kornblith, Manón Kübler, Juan Carlos Chirinos, Ramón Palomares, José Antonio Ramos Sucre, Yolanda Pantin... una lista al azar.',\n",
       " 'RT @venepoetics: @capa1010 A quick, very incomplete &amp; very personal list:\\nTeresa de la Parra, Ifigenia\\nJuan Sánchez Peláez, all his poetry…',\n",
       " 'RT @venepoetics: @capa1010 A quick, very incomplete &amp; very personal list:\\nTeresa de la Parra, Ifigenia\\nJuan Sánchez Peláez, all his poetry…',\n",
       " '@capa1010 A quick, very incomplete &amp; very personal list:\\nTeresa de la Parra, Ifigenia\\nJuan Sánchez Peláez, all his poetry\\nJosé Antonio Ramos Sucre, all his poetry\\nRenato Rodríguez, El bonche\\nIsrael Centeno, Calletania\\nAntonia Palacios, all of her poetry\\nRómulo Gallegos, Doña Bárbara\\n[...]']"
      ]
     },
     "execution_count": 7,
     "metadata": {},
     "output_type": "execute_result"
    }
   ],
   "source": [
    "# text_list is a list of strings containing the text of every tweet in the data\n",
    "text_list[:5]"
   ]
  },
  {
   "cell_type": "code",
   "execution_count": 8,
   "id": "263ff1c7-d305-457d-8986-b14030ef63c2",
   "metadata": {},
   "outputs": [
    {
     "data": {
      "text/html": [
       "<div>\n",
       "<style scoped>\n",
       "    .dataframe tbody tr th:only-of-type {\n",
       "        vertical-align: middle;\n",
       "    }\n",
       "\n",
       "    .dataframe tbody tr th {\n",
       "        vertical-align: top;\n",
       "    }\n",
       "\n",
       "    .dataframe thead th {\n",
       "        text-align: right;\n",
       "    }\n",
       "</style>\n",
       "<table border=\"1\" class=\"dataframe\">\n",
       "  <thead>\n",
       "    <tr style=\"text-align: right;\">\n",
       "      <th></th>\n",
       "      <th>Topic</th>\n",
       "      <th>Count</th>\n",
       "    </tr>\n",
       "  </thead>\n",
       "  <tbody>\n",
       "    <tr>\n",
       "      <th>0</th>\n",
       "      <td>0</td>\n",
       "      <td>42</td>\n",
       "    </tr>\n",
       "    <tr>\n",
       "      <th>1</th>\n",
       "      <td>1</td>\n",
       "      <td>38</td>\n",
       "    </tr>\n",
       "    <tr>\n",
       "      <th>2</th>\n",
       "      <td>2</td>\n",
       "      <td>14</td>\n",
       "    </tr>\n",
       "    <tr>\n",
       "      <th>3</th>\n",
       "      <td>-1</td>\n",
       "      <td>6</td>\n",
       "    </tr>\n",
       "  </tbody>\n",
       "</table>\n",
       "</div>"
      ],
      "text/plain": [
       "   Topic  Count\n",
       "0      0     42\n",
       "1      1     38\n",
       "2      2     14\n",
       "3     -1      6"
      ]
     },
     "execution_count": 8,
     "metadata": {},
     "output_type": "execute_result"
    }
   ],
   "source": [
    "# source: https://towardsdatascience.com/interactive-topic-modeling-with-bertopic-1ea55e7d73d8#:~:text=BERTopic%20is%20a%20topic%20modeling,words%20in%20the%20topic%20descriptions.\n",
    "from bertopic import BERTopic\n",
    "\n",
    "# testing: training model with first 100; training with the whole list takes a long time\n",
    "model = BERTopic(language=\"multilingual\")\n",
    "topics, probabilities = model.fit_transform(text_list[:100])\n",
    "model.get_topic_freq().head()\n",
    "\n",
    "# ignore topic -1 (no topic assigned)\n"
   ]
  },
  {
   "cell_type": "code",
   "execution_count": 7,
   "id": "56b0b3e7",
   "metadata": {},
   "outputs": [
    {
     "data": {
      "text/plain": [
       "[('de', 0.11884532671780546),\n",
       " ('josé', 0.06501040178010548),\n",
       " ('la', 0.06468556418734343),\n",
       " ('andrade', 0.05872103878925869),\n",
       " ('un', 0.05034009042381003),\n",
       " ('co', 0.0471776327761582),\n",
       " ('https', 0.0471776327761582),\n",
       " ('rt', 0.04717294662906443),\n",
       " ('mes', 0.03361966495826741),\n",
       " ('10', 0.03361966495826741)]"
      ]
     },
     "execution_count": 7,
     "metadata": {},
     "output_type": "execute_result"
    }
   ],
   "source": [
    "# testing: results\n",
    "model.get_topic(0)"
   ]
  },
  {
   "cell_type": "code",
   "execution_count": 12,
   "id": "ab90c35a",
   "metadata": {},
   "outputs": [
    {
     "name": "stdout",
     "output_type": "stream",
     "text": [
      "Sentence: This framework generates embeddings for each input sentence\n",
      "Embedding: [-0.03208422 -0.4014738  -0.14802599  0.03269633 -0.05261091  0.2317966\n",
      "  0.37597933 -0.04392304  0.11356918 -0.12239821  0.25837028  0.10285393\n",
      "  0.2584302  -0.19025445 -0.04476992 -0.0230977   0.12181105  0.45616913\n",
      " -0.375268   -0.47375938 -0.01327184  0.1702982  -0.01580684  0.17307594\n",
      " -0.16003205  0.23108152 -0.21505097 -0.27953386  0.04778304 -0.18116157\n",
      "  0.1309877   0.12336046  0.4038071   0.19686663 -0.03655086 -0.08485913\n",
      " -0.08178293  0.26823214 -0.38140795  0.23014633 -0.3951493   0.10231381\n",
      " -0.2466201   0.0455489   0.0606126  -0.20166042 -0.10318048  0.27458972\n",
      " -0.06823379 -0.00788028 -0.14816894 -0.17406893 -0.26222453  0.09016158\n",
      "  0.2633843   0.19171032 -0.12514448  0.18008457 -0.25423792 -0.01264316\n",
      " -0.14854154  0.08243729 -0.17696898  0.14406177  0.43751812 -0.17437848\n",
      "  0.5271314   0.13276197 -0.30573002  0.18121803 -0.0241908  -0.11894537\n",
      "  0.12056322 -0.21464758 -0.12837167  0.14191814  0.07181872 -0.22971025\n",
      "  0.16016564  0.00106403  0.32927552  0.31946844  0.09003168  0.27507117\n",
      "  0.17320013 -0.22735098  0.06000079 -0.01786694 -0.245629   -0.03819752\n",
      " -0.1114822  -0.42012414  0.06015513  0.30680996  0.07819663  0.02593438\n",
      " -0.01922496 -0.14066562  0.17258021  0.2216139   0.19535773  0.08948197\n",
      "  0.17920172 -0.04185928  0.15216222  0.0840861   0.06838936  0.1792229\n",
      " -0.04901632 -0.47988346 -0.11790084  0.23387815  0.08101214 -0.2918717\n",
      " -0.47518668 -0.30564103  0.31333035 -0.26295397  0.06624261  0.32000145\n",
      " -0.11030154  0.15247272 -0.01947633  0.32624516  0.38708892 -0.21155895\n",
      " -0.13028865 -0.35610318  0.08949439 -0.5292993   0.13852753 -0.00433652\n",
      "  0.13682188  0.05466653 -0.04511653 -0.2607297   0.0334555  -0.16461892\n",
      " -0.29760084 -0.08568954  0.0144163   0.3355684   0.2648779  -0.01012819\n",
      "  0.09910765  0.32728583 -0.3597863  -0.0905007  -0.00134204  0.09914141\n",
      " -0.1554668  -0.3826363  -0.09478027  0.23952791 -0.09177085  0.33514905\n",
      " -0.3060896  -0.05372443 -0.15491395 -0.10164351 -0.5345468   0.36093512\n",
      " -0.40043393 -0.0584788   0.09580302 -0.04943957  0.09687783 -0.14881098\n",
      " -0.12813768 -0.12378938  0.37246034 -0.00446109 -0.42789593  0.12132919\n",
      " -0.07870179  0.18414485 -0.31227002 -0.13617979  0.42409375  0.04072645\n",
      "  0.5631271  -0.12950628 -0.09959935  0.01643517 -0.4090237  -0.01718253\n",
      "  0.09312212  0.14971969 -0.18651389  0.04392311 -0.18458076 -0.25476906\n",
      "  0.2925642   0.15026233 -0.6162942  -0.18334079  0.43435833  0.20916809\n",
      " -0.4059542   0.04420229  0.14671493  0.0639144  -0.13599293 -0.24597628\n",
      " -0.19892676 -0.06996943 -0.08835035  0.1673584   0.229128    0.17048298\n",
      "  0.12986079  0.30382326  0.06688975 -0.08424504  0.183713   -0.04171359\n",
      " -0.12528631 -0.05436891 -0.11280651 -0.41788605  0.38818288 -0.2692078\n",
      "  0.41959578 -0.11173623 -0.0534077   0.5861142  -0.33520576 -0.19103801\n",
      " -0.05146665 -0.07175689  0.00501896 -0.19382903 -0.10647862 -0.2889858\n",
      " -0.11272448 -0.19405244 -0.04154515  0.32190293  0.03798091 -0.06754901\n",
      " -0.12835276  0.18397169  0.11915416 -0.11599837 -0.12532225  0.03712157\n",
      " -0.1256321  -0.21203797  0.21521942 -0.00288013  0.22143714  0.17279036\n",
      "  0.08017294  0.10715996 -0.10731908  0.0121565  -0.26658234  0.08918945\n",
      " -0.3154082   0.11145901  0.17165187  0.12402757 -0.09296235  0.42518523\n",
      " -0.04765452 -0.10548689  0.18131018  0.09555982 -0.0752123   0.2917724\n",
      " -0.56078094  0.30404228  0.15775847  0.11950357 -0.221217   -0.03973151\n",
      " -0.21227333 -0.4730262  -0.03591892 -0.18095489  0.15299387 -0.34167075\n",
      "  0.22299492 -0.0849631  -0.01433635  0.03454009  0.18042232  0.18405053\n",
      "  0.32817253  0.01861487 -0.23418416 -0.00381653 -0.04323315 -0.4397628\n",
      " -0.01097359 -0.08750759 -0.26756504  0.18578933  0.03556661  0.00754559\n",
      " -0.00267979 -0.15001723  0.00443671  0.25854948  0.13041024 -0.17588696\n",
      "  0.15632403 -0.0305778  -0.02465257  0.09834643  0.22453344  0.45680222\n",
      " -0.5836361   0.4112792  -0.11641884 -0.27825803  0.15585032  0.51813066\n",
      " -0.09081047 -0.18196824 -0.09490795  0.05058203 -0.12728652  0.13964346\n",
      "  0.01466113  0.01148698 -0.06909586  0.02494487  0.10299741 -0.12486548\n",
      "  0.16748741  0.1299033  -0.2659332   0.03285068 -0.2548744   0.34764647\n",
      " -0.09207449  0.158258   -0.05748218  0.08437838  0.6332359   0.27211428\n",
      " -0.21497975 -0.04944029 -0.09679873  0.20816176 -0.13991384  0.5947402\n",
      " -0.1483718   0.07956048  0.19227512  0.10523906 -0.12566283 -0.1515336\n",
      " -0.29739124  0.16033325 -0.04172434 -0.05119739  0.00679249  0.08795987\n",
      " -0.13488096 -0.25277138  0.18795131 -0.04420642  0.10135419 -0.1320723\n",
      " -0.05487547  0.13915828  0.13894236  0.11369661 -0.2810034  -0.16057119\n",
      "  0.10427905  0.07417563 -0.00870341 -0.1759923   0.44877172 -0.0782729\n",
      "  0.45043954 -0.15741956 -0.2911461   0.27394992  0.07022189 -0.11465091]\n",
      "\n",
      "Sentence: Sentences are passed as a list of string.\n",
      "Embedding: [ 1.42504841e-01 -1.21765263e-01  3.16896439e-01 -7.41104921e-03\n",
      " -2.10437998e-02 -1.52654752e-01  4.20197695e-01 -1.32105216e-01\n",
      "  1.19342774e-01 -7.96517730e-02  2.60270208e-01 -6.81733042e-02\n",
      " -1.23710275e-01  1.31739751e-01 -2.32222974e-02  1.73833802e-01\n",
      "  4.89001274e-02 -8.72538462e-02 -5.47337532e-01 -2.33768478e-01\n",
      " -1.48543902e-02  1.38770595e-01 -2.53473401e-01 -9.04254988e-02\n",
      " -2.37492964e-01  3.09928864e-01 -1.57212481e-01 -3.04657072e-01\n",
      " -1.65291771e-01  6.31349608e-02 -5.42834215e-02  2.00766563e-01\n",
      "  2.59699881e-01  1.64317340e-01 -7.35450676e-03  4.91824627e-01\n",
      "  9.66104120e-03 -8.66246745e-02  1.08643703e-01  1.50876835e-01\n",
      "  1.41035961e-02 -6.74135014e-02 -3.34228985e-02  2.49223396e-01\n",
      "  1.87187672e-01 -1.45930171e-01 -2.87330300e-01  7.38162324e-02\n",
      " -2.17524961e-01  3.03420752e-01 -3.58568192e-01  2.29560614e-01\n",
      " -1.58830658e-01  1.53984427e-01  1.48277566e-01  1.18594371e-01\n",
      " -7.98861757e-02  1.79362446e-02 -1.09872125e-01  1.10251658e-01\n",
      " -1.21240474e-01  5.44766337e-03 -3.29547167e-01  1.95549354e-01\n",
      "  3.70183843e-03 -1.44048780e-01  3.76366109e-01 -5.45724928e-02\n",
      " -3.26695293e-01  2.68783063e-01 -2.40884200e-01  2.09112689e-01\n",
      " -1.23480866e-02  5.32138646e-02 -2.96367973e-01  1.75966859e-01\n",
      "  1.85434759e-01  9.12314921e-04 -3.59432884e-02  1.46234008e-02\n",
      "  1.36070713e-01 -1.39001593e-01  1.17877908e-01 -7.03075901e-02\n",
      "  1.12583309e-01 -3.92604433e-02 -2.55107045e-01  2.24232033e-01\n",
      " -2.36653328e-01 -1.90993890e-01 -1.15229689e-01 -5.03587186e-01\n",
      "  3.33977699e-01  2.82158375e-01  1.23930715e-01  3.85950238e-01\n",
      "  2.03041375e-01  1.06044032e-01  2.20535561e-01  7.12647960e-02\n",
      "  8.55787620e-02  2.00959027e-01  1.09151959e-01 -1.13507174e-01\n",
      "  1.95935085e-01  2.82568246e-04 -4.71595377e-02 -1.04103155e-01\n",
      "  1.66932687e-01 -4.30700302e-01 -5.34179807e-02  3.42298150e-01\n",
      "  1.76699743e-01 -4.36867028e-01 -3.24065894e-01 -1.69508219e-01\n",
      "  4.03111696e-01  1.55646086e-01  1.19590508e-02  6.13842785e-01\n",
      "  5.83107322e-02 -1.73752531e-01 -2.27931794e-02  9.48363245e-02\n",
      " -9.87913534e-02 -3.79511207e-01 -9.09008160e-02 -1.49730667e-02\n",
      "  1.58039466e-01 -4.58390117e-01 -6.17745072e-02 -2.59901494e-01\n",
      " -2.66366750e-01 -7.63690397e-02  1.53902993e-02 -1.25329882e-01\n",
      " -7.75376707e-02 -4.34434451e-02 -3.41748118e-01 -2.03043386e-01\n",
      "  3.60782482e-02  1.35363638e-01  2.04197824e-01 -6.79038092e-02\n",
      " -5.22179715e-02  1.25974223e-01 -1.59224167e-01 -1.72751963e-01\n",
      " -6.00449294e-02  1.60020590e-01 -5.16113639e-02 -1.44190177e-01\n",
      "  1.34504974e-01 -2.49607608e-01 -1.53569654e-01 -9.48348641e-02\n",
      "  6.97574094e-02 -3.44587564e-02 -1.37803823e-01 -1.51778653e-01\n",
      " -8.32752958e-02  4.40413713e-01 -2.97690511e-01  4.42613691e-01\n",
      " -1.92527846e-01  8.98263380e-02  2.04653800e-01  1.65655669e-02\n",
      " -2.39325777e-01 -4.53180037e-02  4.82270479e-01  1.11863844e-01\n",
      " -2.60225743e-01 -2.98983723e-01 -2.36978114e-01  1.77562281e-01\n",
      " -1.44269153e-01  7.66404569e-02  2.79371679e-01 -2.30326250e-01\n",
      "  4.24079657e-01 -1.64603502e-01 -3.28688771e-02  6.13911636e-02\n",
      " -1.12964161e-01  6.26503536e-03 -1.67613313e-01  1.41962543e-01\n",
      "  1.30789503e-01  5.82726449e-02  1.70371756e-01  7.05628619e-02\n",
      "  3.55453640e-02 -2.24954948e-01 -4.69191462e-01 -2.25230113e-01\n",
      "  4.70181376e-01  1.33992702e-01 -5.01336038e-01  4.00947362e-01\n",
      "  5.11011891e-02  1.70861110e-01  2.36271322e-01 -1.57602429e-02\n",
      "  7.07935989e-02 -1.31999508e-01 -2.28719965e-01 -5.91423400e-02\n",
      "  1.42741859e-01 -4.24898826e-02  1.94458410e-01  5.06307781e-01\n",
      "  3.61554511e-02  1.28513649e-01  4.78896797e-02 -2.83191860e-01\n",
      " -2.70435601e-01 -1.81084216e-01  6.37772605e-02 -9.52055231e-02\n",
      " -4.65029478e-02 -3.46580148e-01  4.15006638e-01 -1.82454422e-01\n",
      "  1.19965099e-01  7.52659738e-01 -1.99173763e-01  1.96473137e-01\n",
      "  1.85568869e-01 -2.03216746e-01  8.84298757e-02 -2.45068744e-01\n",
      "  1.24624752e-01 -7.85952434e-02 -5.25468051e-01 -1.32827535e-01\n",
      " -5.69403529e-01  8.32298994e-02  1.75513759e-01  7.55082145e-02\n",
      "  1.81192636e-01  5.39652556e-02  2.24748865e-01 -1.46617204e-01\n",
      " -3.12270641e-01  3.00140619e-01  1.94343433e-01 -2.08529413e-01\n",
      " -6.95494413e-02 -2.29517654e-01  3.62450838e-01 -4.64626223e-01\n",
      "  1.53934732e-02  2.70952821e-01  3.70897800e-02 -1.42077073e-01\n",
      "  1.33324340e-01  2.17995882e-01 -1.90689266e-01 -9.37318504e-02\n",
      "  3.25923830e-01 -7.39646107e-02  1.73450544e-01  5.11779547e-01\n",
      "  2.82697707e-01 -2.77736634e-01  2.02427492e-01 -1.68553796e-02\n",
      " -4.21461128e-02 -2.94562634e-02 -3.59560132e-01  3.44384581e-01\n",
      " -1.03321590e-01 -4.65399362e-02 -1.92758664e-01  3.57926898e-02\n",
      " -1.87580213e-01 -1.76750407e-01 -2.01757848e-01 -2.78665312e-03\n",
      " -6.49395725e-03 -8.65734279e-01  6.94783032e-02 -2.38758609e-01\n",
      " -1.55259445e-01 -4.07035239e-02  3.23400974e-01 -1.44929131e-02\n",
      "  4.48455095e-01  7.05187023e-02 -2.72513270e-01 -3.80443066e-01\n",
      " -9.91356745e-02 -4.01493818e-01 -6.78616539e-02 -2.37960979e-01\n",
      " -5.67206144e-01  1.31826788e-01  6.58612475e-02  1.54548166e-02\n",
      " -2.41369605e-01 -2.20185235e-01 -3.45374733e-01  2.80763894e-01\n",
      "  2.49478683e-01 -7.58955851e-02 -6.89957812e-02  2.94029206e-01\n",
      " -1.63962975e-01 -6.02599643e-02 -4.31352854e-02  2.19152406e-01\n",
      " -4.59810734e-01  3.08794916e-01  3.23566556e-01 -2.75219604e-02\n",
      "  1.38514102e-01  3.61840606e-01 -8.75626281e-02 -1.14597298e-01\n",
      " -1.15673952e-01 -1.48823053e-01 -3.41980547e-01  1.28294393e-01\n",
      "  8.35850760e-02  6.46508858e-02  1.42427906e-02  1.04488887e-01\n",
      "  4.08512145e-01  1.22234426e-01 -1.79375991e-01  2.79015392e-01\n",
      " -5.30757427e-01 -2.53056318e-01 -2.21900061e-01  3.90279680e-01\n",
      " -1.51979089e-01 -1.52829960e-01 -1.48185179e-01  4.15861517e-01\n",
      "  3.70423555e-01 -1.51369005e-01 -3.75131845e-01  2.91058779e-01\n",
      " -2.09577456e-02  1.78958356e-01  9.71684679e-02  3.49668771e-01\n",
      " -7.74873421e-02  2.13225782e-01  2.61316985e-01  3.71744990e-01\n",
      " -2.08357289e-01  1.56172499e-01 -7.09378347e-02 -3.27643640e-02\n",
      "  3.30854923e-01 -1.81712911e-01 -3.86824720e-02  1.94385111e-01\n",
      "  1.87939718e-01 -1.39793396e-01  7.94472694e-02  3.25428993e-01\n",
      "  7.36871213e-02 -3.97280484e-01 -2.38707125e-01  1.31461024e-01\n",
      "  2.39787642e-02 -2.29006931e-01 -1.35990307e-01 -2.07958985e-02\n",
      " -1.66231226e-02 -1.17094189e-01 -2.01586008e-04 -3.85101736e-02\n",
      "  5.30108690e-01  2.12841585e-01  1.97385624e-01  1.27701789e-01\n",
      " -5.30551523e-02 -4.51199524e-02  1.16176829e-02 -9.44964066e-02]\n",
      "\n",
      "Sentence: The quick brown fox jumps over the lazy dog.\n",
      "Embedding: [ 0.08817384 -0.01324025 -0.19350187  0.16708334  0.07958172 -0.29276147\n",
      " -0.10477682  0.10768849 -0.00108287 -0.5372336   0.15311585  0.23953256\n",
      " -0.09264468 -0.34579772 -0.35226354  0.07901992 -0.508099   -0.21060656\n",
      " -0.17565341 -0.08024062 -0.10268463 -0.28783762  0.14792928 -0.06953648\n",
      " -0.6351067  -0.1225741  -0.4639621  -0.02069575  0.01559913 -0.12814884\n",
      "  0.3116733  -0.21398479 -0.15311256 -0.45951214  0.06937393  0.17325297\n",
      "  0.07313488 -0.5782293  -0.38213953 -0.40225947  0.11561532 -0.08899019\n",
      "  0.34545007 -0.01552962 -0.31493178 -0.10315739 -0.3292246  -0.49065903\n",
      " -0.17367521  0.20849544  0.15997618  0.10194758 -0.33826306  0.45368278\n",
      "  0.6800296  -0.04508943  0.4827097   0.38407394 -0.46376184  0.13277009\n",
      " -0.0213208   0.1271928   0.07556302  0.03584491  0.41813093 -0.03876454\n",
      "  0.05016302 -0.03416038 -0.7181064   0.33415216 -0.04115491 -0.12425979\n",
      " -0.13196939 -0.32332292  0.32989487  0.26112366 -0.26742822 -0.01726336\n",
      "  0.25190422  0.26951626  0.21352103  0.29184216 -0.08404061 -0.05483004\n",
      "  0.10982247  0.3584358   0.24040453 -0.42859834 -0.22262515 -0.04065065\n",
      "  0.14214498  0.11198304  0.11705598 -0.14454237  0.23147963  0.5150407\n",
      "  0.07311036 -0.10299397 -0.25088325 -0.0156336   0.08128624  0.26665312\n",
      " -0.23524913 -0.28342807  0.1434045  -0.02201673 -0.4833296  -0.24059485\n",
      " -0.05419472 -0.06344864  0.1330278   0.19744329  0.03861858  0.3970851\n",
      "  0.13469388 -0.242455    0.1386531  -0.09081724  0.10383809 -0.15241574\n",
      "  0.3902403   0.34827322  0.2174087   0.0122463   0.36026576  0.0383194\n",
      " -0.08137997  0.28532866  0.06759416 -0.4339923  -0.05253449 -0.5766776\n",
      " -0.11509345 -0.7509672   0.20294094  0.16548179 -0.07535251  0.03027565\n",
      " -0.33191383 -0.09341212 -0.0383957  -0.205694    0.6107944   0.08982199\n",
      " -0.10868107 -0.22070572  0.15860273  0.0733501   0.15807666  0.46439707\n",
      " -0.03659929 -0.16297682  0.37007272 -0.3942106  -0.617449    0.17908476\n",
      " -0.46315593  0.3059951  -0.0398219  -0.3179908  -0.56738245  0.45568573\n",
      "  0.11697272 -0.06547169  0.11573538 -0.13663301 -0.01265544  0.52602154\n",
      " -0.11679783  0.13752605  0.34029907 -0.25531265 -0.26540166 -0.23132277\n",
      " -0.19842444 -0.3944457  -0.5111025  -0.07185308 -0.12024974  0.2175483\n",
      "  0.15635847  0.11492207  0.34779084  0.07498569 -0.21435928 -0.1929109\n",
      " -0.2505542   0.43390852  0.19077949 -0.4398449   0.16551001 -0.2706021\n",
      "  0.41997454 -0.6089422  -0.02472652 -0.00401632 -0.23371497 -0.310306\n",
      "  0.18952309 -0.09912492  0.31071272 -0.57525903  0.5716607  -0.09452057\n",
      "  0.02659132 -0.03790177 -0.5146754  -0.09107497  0.4043761   0.08473516\n",
      " -0.17055869 -0.14074932 -0.08043285  0.14852044 -0.06118089  0.21688156\n",
      " -0.20590343 -0.11234301  0.13201337  0.09001494  0.3896635  -0.1645066\n",
      " -0.29620266  0.2123677   0.38813037  0.04785778  0.05184012  0.24132755\n",
      " -0.420572    0.27633837 -0.4950654  -0.12061461 -0.15656187  0.05214373\n",
      " -0.16718915  0.08463953  0.09766189  0.42682534  0.46442193  0.09720191\n",
      "  0.21989699 -0.05236225 -0.04391247  0.24880359  0.19400074  0.49734023\n",
      " -0.13865754  0.04774077 -0.07562777 -0.19260737  0.2466341   0.26393044\n",
      " -0.1533391  -0.12652354  0.18618573 -0.31439394  0.40304852  0.08503555\n",
      "  0.49479887  0.3220046   0.33792934 -0.2047698   0.01430806 -0.32003626\n",
      "  0.41226786 -0.14507337 -0.04273789  0.06295871  0.3003797  -0.17337628\n",
      " -0.41917533  0.35755175 -0.14012651  0.5883535   0.7373619  -0.37689975\n",
      " -0.30346817 -0.14707473 -0.28605148 -0.12529601 -0.10249725  0.03843538\n",
      "  0.25899744  0.46227887 -0.11021235  0.03160984  0.04359489 -0.02771528\n",
      " -0.06290217 -0.18794917 -0.43689921  0.05874003  0.5059062  -0.3326423\n",
      " -0.18097235  0.36494884 -0.26509425  0.10358403 -0.48566377 -0.08698224\n",
      "  0.472211   -0.15974127  0.15561172  0.10642345 -0.06614479  0.1541623\n",
      "  0.02970645 -0.25669128 -0.6645058   0.26529104 -0.2661555   0.17166875\n",
      "  0.00908477 -0.51919717  0.30251637  0.19529241  0.23774472  0.10108326\n",
      " -0.03161626  0.34174922  0.19283973  0.27862865 -0.68145245  0.49331808\n",
      "  0.05158442 -0.14384454 -0.38371763 -0.09507236  0.2920883  -0.09998772\n",
      "  0.40732458  0.12266554  0.15334883 -0.02843912  0.31733316 -0.15619965\n",
      "  0.26790598 -0.23551784 -0.15439945 -0.13915162 -0.18521081 -0.2501528\n",
      " -0.39297113 -0.09727098 -0.5656551   0.04139451  0.23377518  0.16422836\n",
      " -0.03640161 -0.0013805  -0.2362131   0.24890181 -0.6615      0.18104316\n",
      "  0.16410412  0.37498146  0.11585145 -0.04129116 -0.09904517 -0.04148003\n",
      "  0.258801   -0.07915471  0.01846997  0.16536476 -0.15688676  0.09884723\n",
      "  0.32708713 -0.44459456  0.45132524 -0.39025703 -0.09617041  0.19447549\n",
      "  0.31827334  0.06425487 -0.2777027   0.11919629  0.01219906 -0.12232906\n",
      " -0.1133949   0.3253962   0.02013077  0.1301977   0.6567565   0.5440987 ]\n",
      "\n"
     ]
    }
   ],
   "source": [
    "from sentence_transformers import SentenceTransformer, util\n",
    "model = SentenceTransformer('paraphrase-multilingual-MiniLM-L12-v2')\n",
    "sentences = ['This framework generates embeddings for each input sentence',\n",
    "    'Sentences are passed as a list of string.', \n",
    "    'The quick brown fox jumps over the lazy dog.']\n",
    "sentence_embeddings = model.encode(sentences)\n",
    "for sentence, embedding in zip(sentences, sentence_embeddings):\n",
    "    print(\"Sentence:\", sentence)\n",
    "    print(\"Embedding:\", embedding)\n",
    "    print(\"\")"
   ]
  },
  {
   "cell_type": "code",
   "execution_count": 16,
   "id": "03c94a98",
   "metadata": {},
   "outputs": [
    {
     "data": {
      "application/vnd.jupyter.widget-view+json": {
       "model_id": "12fa58171a5f425aa4ad43e9ff920cf0",
       "version_major": 2,
       "version_minor": 0
      },
      "text/plain": [
       "Downloading (…)0cfdf/.gitattributes:   0%|          | 0.00/690 [00:00<?, ?B/s]"
      ]
     },
     "metadata": {},
     "output_type": "display_data"
    },
    {
     "data": {
      "application/vnd.jupyter.widget-view+json": {
       "model_id": "26b63db59ca34689a17938f0ed7cb11f",
       "version_major": 2,
       "version_minor": 0
      },
      "text/plain": [
       "Downloading (…)_Pooling/config.json:   0%|          | 0.00/190 [00:00<?, ?B/s]"
      ]
     },
     "metadata": {},
     "output_type": "display_data"
    },
    {
     "data": {
      "application/vnd.jupyter.widget-view+json": {
       "model_id": "9cef9c66a8f242cbbf2ce3f1214d9480",
       "version_major": 2,
       "version_minor": 0
      },
      "text/plain": [
       "Downloading (…)5bdce0cfdf/README.md:   0%|          | 0.00/3.99k [00:00<?, ?B/s]"
      ]
     },
     "metadata": {},
     "output_type": "display_data"
    },
    {
     "data": {
      "application/vnd.jupyter.widget-view+json": {
       "model_id": "79ac3869c9854e2993c7f45a778e0728",
       "version_major": 2,
       "version_minor": 0
      },
      "text/plain": [
       "Downloading (…)dce0cfdf/config.json:   0%|          | 0.00/548 [00:00<?, ?B/s]"
      ]
     },
     "metadata": {},
     "output_type": "display_data"
    },
    {
     "data": {
      "application/vnd.jupyter.widget-view+json": {
       "model_id": "fac00ba0a6fc4354a19f6ffb985083d6",
       "version_major": 2,
       "version_minor": 0
      },
      "text/plain": [
       "Downloading (…)ce_transformers.json:   0%|          | 0.00/122 [00:00<?, ?B/s]"
      ]
     },
     "metadata": {},
     "output_type": "display_data"
    },
    {
     "data": {
      "application/vnd.jupyter.widget-view+json": {
       "model_id": "731ada587e0440179d1772d5aabc3932",
       "version_major": 2,
       "version_minor": 0
      },
      "text/plain": [
       "Downloading pytorch_model.bin:   0%|          | 0.00/265M [00:00<?, ?B/s]"
      ]
     },
     "metadata": {},
     "output_type": "display_data"
    },
    {
     "data": {
      "application/vnd.jupyter.widget-view+json": {
       "model_id": "a3cf9f8807464f938652ae4b27642e7d",
       "version_major": 2,
       "version_minor": 0
      },
      "text/plain": [
       "Downloading (…)nce_bert_config.json:   0%|          | 0.00/53.0 [00:00<?, ?B/s]"
      ]
     },
     "metadata": {},
     "output_type": "display_data"
    },
    {
     "data": {
      "application/vnd.jupyter.widget-view+json": {
       "model_id": "9d121cf7755b49b48a5a0f7b28b707b2",
       "version_major": 2,
       "version_minor": 0
      },
      "text/plain": [
       "Downloading (…)cial_tokens_map.json:   0%|          | 0.00/112 [00:00<?, ?B/s]"
      ]
     },
     "metadata": {},
     "output_type": "display_data"
    },
    {
     "data": {
      "application/vnd.jupyter.widget-view+json": {
       "model_id": "13c3e50bad0f47ec85b8a37b23810194",
       "version_major": 2,
       "version_minor": 0
      },
      "text/plain": [
       "Downloading (…)0cfdf/tokenizer.json:   0%|          | 0.00/466k [00:00<?, ?B/s]"
      ]
     },
     "metadata": {},
     "output_type": "display_data"
    },
    {
     "data": {
      "application/vnd.jupyter.widget-view+json": {
       "model_id": "12c625e830b04ea99b7de983815e0080",
       "version_major": 2,
       "version_minor": 0
      },
      "text/plain": [
       "Downloading (…)okenizer_config.json:   0%|          | 0.00/547 [00:00<?, ?B/s]"
      ]
     },
     "metadata": {},
     "output_type": "display_data"
    },
    {
     "data": {
      "application/vnd.jupyter.widget-view+json": {
       "model_id": "e3b83a6ed6d841debd6188aaa1fa2025",
       "version_major": 2,
       "version_minor": 0
      },
      "text/plain": [
       "Downloading (…)5bdce0cfdf/vocab.txt:   0%|          | 0.00/232k [00:00<?, ?B/s]"
      ]
     },
     "metadata": {},
     "output_type": "display_data"
    },
    {
     "data": {
      "application/vnd.jupyter.widget-view+json": {
       "model_id": "3e2ead6cd2c34700ab35a8dbece470bb",
       "version_major": 2,
       "version_minor": 0
      },
      "text/plain": [
       "Downloading (…)ce0cfdf/modules.json:   0%|          | 0.00/229 [00:00<?, ?B/s]"
      ]
     },
     "metadata": {},
     "output_type": "display_data"
    },
    {
     "name": "stdout",
     "output_type": "stream",
     "text": [
      "Similarity: tensor([[0.8748]])\n"
     ]
    }
   ],
   "source": [
    "# source: https://www.sbert.net/docs/pretrained-models/msmarco-v3.html\n",
    "model = SentenceTransformer('msmarco-distilbert-base-tas-b')\n",
    "\n",
    "query_embedding = model.encode('How big is London')\n",
    "passage_embedding = model.encode('London has 9,787,426 inhabitants at the 2011 census')\n",
    "\n",
    "print(\"Similarity:\", util.cos_sim(query_embedding, passage_embedding))"
   ]
  },
  {
   "cell_type": "code",
   "execution_count": 17,
   "id": "523a248b",
   "metadata": {},
   "outputs": [
    {
     "name": "stdout",
     "output_type": "stream",
     "text": [
      "Similarity: tensor([[0.6988, 0.6402, 0.6098, 0.6098, 0.6001, 0.6394, 0.6394, 0.6394, 0.6394,\n",
      "         0.6394, 0.6394, 0.6394, 0.6394, 0.6394, 0.6390, 0.6394, 0.6394, 0.6394,\n",
      "         0.6394, 0.6394, 0.6394, 0.6394, 0.6394, 0.6394, 0.6394, 0.6394, 0.6394,\n",
      "         0.6394, 0.6394, 0.6394, 0.6394, 0.6394, 0.6394, 0.6394, 0.6211, 0.6601,\n",
      "         0.6153, 0.6601, 0.6601, 0.6601, 0.6686, 0.6540, 0.6202, 0.6202, 0.6634,\n",
      "         0.6367, 0.6202, 0.6649, 0.6252, 0.6682, 0.6367, 0.6542, 0.6693, 0.6569,\n",
      "         0.6367, 0.6137, 0.6367, 0.6367, 0.6652, 0.6204, 0.6496, 0.6583, 0.6252,\n",
      "         0.6122, 0.6252, 0.6281, 0.6252, 0.6019, 0.6202, 0.6054, 0.6204, 0.5876,\n",
      "         0.6202, 0.6202, 0.5876, 0.6545, 0.6202, 0.6171, 0.6054, 0.6569, 0.6569,\n",
      "         0.6569, 0.6569, 0.6179, 0.6569, 0.6569, 0.6540, 0.6129, 0.5876, 0.6204,\n",
      "         0.6313, 0.6308, 0.6202, 0.6017, 0.6329, 0.6202, 0.6151, 0.6532, 0.6265,\n",
      "         0.6232],\n",
      "        [0.6418, 0.6399, 0.6000, 0.6000, 0.5857, 0.6186, 0.6186, 0.6186, 0.6186,\n",
      "         0.6186, 0.6186, 0.6186, 0.6186, 0.6186, 0.6071, 0.6186, 0.6186, 0.6186,\n",
      "         0.6186, 0.6186, 0.6186, 0.6186, 0.6186, 0.6186, 0.6186, 0.6186, 0.6186,\n",
      "         0.6186, 0.6186, 0.6186, 0.6186, 0.6186, 0.6186, 0.6186, 0.6150, 0.6196,\n",
      "         0.6078, 0.6196, 0.6196, 0.6196, 0.6211, 0.5997, 0.5990, 0.5990, 0.6462,\n",
      "         0.6265, 0.5990, 0.6379, 0.6466, 0.6336, 0.6265, 0.6125, 0.6273, 0.6371,\n",
      "         0.6265, 0.6056, 0.6265, 0.6265, 0.6293, 0.6089, 0.6398, 0.6121, 0.6466,\n",
      "         0.6119, 0.6466, 0.6045, 0.6466, 0.6078, 0.5990, 0.6005, 0.6030, 0.6079,\n",
      "         0.5990, 0.5990, 0.6079, 0.6191, 0.5990, 0.5957, 0.6005, 0.6371, 0.6371,\n",
      "         0.6371, 0.6371, 0.6070, 0.6371, 0.6371, 0.6323, 0.6093, 0.6079, 0.6089,\n",
      "         0.6065, 0.6099, 0.5990, 0.5970, 0.6173, 0.5990, 0.5995, 0.6087, 0.6001,\n",
      "         0.6053],\n",
      "        [0.6746, 0.6503, 0.5983, 0.5983, 0.5816, 0.6350, 0.6350, 0.6350, 0.6350,\n",
      "         0.6350, 0.6350, 0.6350, 0.6350, 0.6350, 0.6232, 0.6350, 0.6350, 0.6350,\n",
      "         0.6350, 0.6350, 0.6350, 0.6350, 0.6350, 0.6350, 0.6350, 0.6350, 0.6350,\n",
      "         0.6350, 0.6350, 0.6350, 0.6350, 0.6350, 0.6350, 0.6350, 0.6235, 0.6383,\n",
      "         0.6164, 0.6383, 0.6383, 0.6383, 0.6389, 0.6269, 0.6172, 0.6172, 0.6372,\n",
      "         0.6307, 0.6172, 0.6462, 0.6418, 0.6510, 0.6307, 0.6239, 0.6580, 0.6694,\n",
      "         0.6307, 0.6025, 0.6307, 0.6307, 0.6434, 0.6323, 0.6609, 0.6227, 0.6418,\n",
      "         0.6315, 0.6418, 0.6348, 0.6418, 0.6299, 0.6172, 0.6036, 0.6025, 0.6212,\n",
      "         0.6172, 0.6172, 0.6212, 0.6450, 0.6172, 0.6139, 0.6036, 0.6694, 0.6694,\n",
      "         0.6694, 0.6694, 0.6042, 0.6694, 0.6694, 0.6492, 0.6243, 0.6212, 0.6323,\n",
      "         0.6163, 0.6287, 0.6172, 0.6174, 0.6365, 0.6172, 0.6256, 0.6416, 0.6284,\n",
      "         0.6253],\n",
      "        [0.6652, 0.6557, 0.6154, 0.6154, 0.6073, 0.6510, 0.6510, 0.6510, 0.6510,\n",
      "         0.6510, 0.6510, 0.6510, 0.6510, 0.6510, 0.6354, 0.6510, 0.6510, 0.6510,\n",
      "         0.6510, 0.6510, 0.6510, 0.6510, 0.6510, 0.6510, 0.6510, 0.6510, 0.6510,\n",
      "         0.6510, 0.6510, 0.6510, 0.6510, 0.6510, 0.6510, 0.6510, 0.6356, 0.6519,\n",
      "         0.6391, 0.6519, 0.6519, 0.6519, 0.6680, 0.6368, 0.6284, 0.6284, 0.6641,\n",
      "         0.6595, 0.6284, 0.6662, 0.6494, 0.6579, 0.6595, 0.6486, 0.6607, 0.6907,\n",
      "         0.6595, 0.6252, 0.6595, 0.6595, 0.6582, 0.6309, 0.6820, 0.6478, 0.6494,\n",
      "         0.6267, 0.6494, 0.6219, 0.6494, 0.6378, 0.6284, 0.6247, 0.6275, 0.6085,\n",
      "         0.6284, 0.6284, 0.6085, 0.6419, 0.6284, 0.6073, 0.6247, 0.6907, 0.6907,\n",
      "         0.6907, 0.6907, 0.6263, 0.6907, 0.6907, 0.6721, 0.6235, 0.6085, 0.6309,\n",
      "         0.6304, 0.6339, 0.6284, 0.6244, 0.6442, 0.6284, 0.6373, 0.6522, 0.6327,\n",
      "         0.6393],\n",
      "        [0.6542, 0.6488, 0.6452, 0.6452, 0.6137, 0.6525, 0.6525, 0.6525, 0.6525,\n",
      "         0.6525, 0.6525, 0.6525, 0.6525, 0.6525, 0.6276, 0.6525, 0.6525, 0.6525,\n",
      "         0.6525, 0.6525, 0.6525, 0.6525, 0.6525, 0.6525, 0.6525, 0.6525, 0.6525,\n",
      "         0.6525, 0.6525, 0.6525, 0.6525, 0.6525, 0.6525, 0.6525, 0.6263, 0.6608,\n",
      "         0.6274, 0.6608, 0.6608, 0.6608, 0.6524, 0.6506, 0.6230, 0.6230, 0.7032,\n",
      "         0.6677, 0.6230, 0.6666, 0.6668, 0.6529, 0.6677, 0.6251, 0.6433, 0.6767,\n",
      "         0.6677, 0.6125, 0.6677, 0.6677, 0.6713, 0.6715, 0.6587, 0.6513, 0.6668,\n",
      "         0.6337, 0.6668, 0.6409, 0.6668, 0.6652, 0.6230, 0.6148, 0.6186, 0.6505,\n",
      "         0.6230, 0.6230, 0.6505, 0.6407, 0.6230, 0.6403, 0.6148, 0.6767, 0.6767,\n",
      "         0.6767, 0.6767, 0.6185, 0.6767, 0.6767, 0.6472, 0.6424, 0.6505, 0.6715,\n",
      "         0.6341, 0.6487, 0.6230, 0.6298, 0.6463, 0.6230, 0.6259, 0.6314, 0.6305,\n",
      "         0.6201],\n",
      "        [0.6792, 0.6704, 0.6498, 0.6498, 0.6736, 0.6432, 0.6432, 0.6432, 0.6432,\n",
      "         0.6432, 0.6432, 0.6432, 0.6432, 0.6432, 0.6476, 0.6432, 0.6432, 0.6432,\n",
      "         0.6432, 0.6432, 0.6432, 0.6432, 0.6432, 0.6432, 0.6432, 0.6432, 0.6432,\n",
      "         0.6432, 0.6432, 0.6432, 0.6432, 0.6432, 0.6432, 0.6432, 0.6287, 0.6791,\n",
      "         0.6536, 0.6791, 0.6791, 0.6791, 0.6775, 0.6709, 0.6290, 0.6290, 0.6665,\n",
      "         0.6734, 0.6290, 0.6853, 0.6377, 0.6373, 0.6734, 0.6345, 0.6694, 0.6648,\n",
      "         0.6734, 0.6056, 0.6734, 0.6734, 0.6850, 0.6320, 0.6818, 0.6137, 0.6377,\n",
      "         0.6517, 0.6377, 0.6504, 0.6377, 0.6219, 0.6290, 0.6082, 0.6172, 0.6136,\n",
      "         0.6290, 0.6290, 0.6136, 0.6535, 0.6290, 0.6384, 0.6082, 0.6648, 0.6648,\n",
      "         0.6648, 0.6648, 0.6133, 0.6648, 0.6648, 0.6672, 0.6339, 0.6136, 0.6320,\n",
      "         0.6405, 0.6306, 0.6290, 0.6134, 0.6469, 0.6290, 0.6250, 0.6272, 0.6388,\n",
      "         0.6254],\n",
      "        [0.6216, 0.6112, 0.5868, 0.5868, 0.5869, 0.6160, 0.6160, 0.6160, 0.6160,\n",
      "         0.6160, 0.6160, 0.6160, 0.6160, 0.6160, 0.5988, 0.6160, 0.6160, 0.6160,\n",
      "         0.6160, 0.6160, 0.6160, 0.6160, 0.6160, 0.6160, 0.6160, 0.6160, 0.6160,\n",
      "         0.6160, 0.6160, 0.6160, 0.6160, 0.6160, 0.6160, 0.6160, 0.5890, 0.6288,\n",
      "         0.5985, 0.6288, 0.6288, 0.6288, 0.6255, 0.6211, 0.6199, 0.6199, 0.6467,\n",
      "         0.6131, 0.6199, 0.6286, 0.6187, 0.6114, 0.6131, 0.6110, 0.6236, 0.6450,\n",
      "         0.6131, 0.6011, 0.6131, 0.6131, 0.6299, 0.6297, 0.6281, 0.6080, 0.6187,\n",
      "         0.5872, 0.6187, 0.6129, 0.6187, 0.5954, 0.6199, 0.6043, 0.5997, 0.6080,\n",
      "         0.6199, 0.6199, 0.6080, 0.6321, 0.6199, 0.6229, 0.6043, 0.6450, 0.6450,\n",
      "         0.6450, 0.6450, 0.6021, 0.6450, 0.6450, 0.6171, 0.5837, 0.6080, 0.6297,\n",
      "         0.5962, 0.6542, 0.6199, 0.6204, 0.6180, 0.6199, 0.6161, 0.6424, 0.6354,\n",
      "         0.6180]])\n"
     ]
    }
   ],
   "source": [
    "relevant_keywords = ['homicide', 'gun', 'shooting', 'violence', 'stab', 'rip', 'rest in peace', 'coroner', 'dead', 'body']\n",
    "\n",
    "model = SentenceTransformer('msmarco-distilbert-base-tas-b')\n",
    "\n",
    "query_embedding = model.encode(relevant_keywords)\n",
    "passage_embedding = model.encode(text_list[:100])\n",
    "\n",
    "print(\"Similarity:\", util.cos_sim(query_embedding, passage_embedding))"
   ]
  },
  {
   "cell_type": "code",
   "execution_count": 18,
   "id": "a8a0ad01",
   "metadata": {},
   "outputs": [
    {
     "data": {
      "application/vnd.jupyter.widget-view+json": {
       "model_id": "e710bf19f1f642cd94e7b760249dc934",
       "version_major": 2,
       "version_minor": 0
      },
      "text/plain": [
       "Downloading (…)5f450/.gitattributes:   0%|          | 0.00/690 [00:00<?, ?B/s]"
      ]
     },
     "metadata": {},
     "output_type": "display_data"
    },
    {
     "data": {
      "application/vnd.jupyter.widget-view+json": {
       "model_id": "dd8f382a782d4534961e17cac3219b01",
       "version_major": 2,
       "version_minor": 0
      },
      "text/plain": [
       "Downloading (…)_Pooling/config.json:   0%|          | 0.00/190 [00:00<?, ?B/s]"
      ]
     },
     "metadata": {},
     "output_type": "display_data"
    },
    {
     "data": {
      "application/vnd.jupyter.widget-view+json": {
       "model_id": "cd8aa1e5d6fb460b862f057d4d655868",
       "version_major": 2,
       "version_minor": 0
      },
      "text/plain": [
       "Downloading (…)/2_Dense/config.json:   0%|          | 0.00/114 [00:00<?, ?B/s]"
      ]
     },
     "metadata": {},
     "output_type": "display_data"
    },
    {
     "data": {
      "application/vnd.jupyter.widget-view+json": {
       "model_id": "60076328069c4ba98f38a20df20159a3",
       "version_major": 2,
       "version_minor": 0
      },
      "text/plain": [
       "Downloading pytorch_model.bin:   0%|          | 0.00/1.58M [00:00<?, ?B/s]"
      ]
     },
     "metadata": {},
     "output_type": "display_data"
    },
    {
     "data": {
      "application/vnd.jupyter.widget-view+json": {
       "model_id": "a7504ac996224b91bafa6cf4af76f53c",
       "version_major": 2,
       "version_minor": 0
      },
      "text/plain": [
       "Downloading (…)966465f450/README.md:   0%|          | 0.00/2.38k [00:00<?, ?B/s]"
      ]
     },
     "metadata": {},
     "output_type": "display_data"
    },
    {
     "data": {
      "application/vnd.jupyter.widget-view+json": {
       "model_id": "a0cba524692b41b2b682d7168dc475bb",
       "version_major": 2,
       "version_minor": 0
      },
      "text/plain": [
       "Downloading (…)6465f450/config.json:   0%|          | 0.00/556 [00:00<?, ?B/s]"
      ]
     },
     "metadata": {},
     "output_type": "display_data"
    },
    {
     "data": {
      "application/vnd.jupyter.widget-view+json": {
       "model_id": "28822f2f45ae48bebbe0c51fd85700f2",
       "version_major": 2,
       "version_minor": 0
      },
      "text/plain": [
       "Downloading (…)ce_transformers.json:   0%|          | 0.00/122 [00:00<?, ?B/s]"
      ]
     },
     "metadata": {},
     "output_type": "display_data"
    },
    {
     "data": {
      "application/vnd.jupyter.widget-view+json": {
       "model_id": "2c230f52886a406b9b50befa726e3996",
       "version_major": 2,
       "version_minor": 0
      },
      "text/plain": [
       "Downloading pytorch_model.bin:   0%|          | 0.00/539M [00:00<?, ?B/s]"
      ]
     },
     "metadata": {},
     "output_type": "display_data"
    },
    {
     "data": {
      "application/vnd.jupyter.widget-view+json": {
       "model_id": "11ae1a429b2b40c49ad1322d7e53fab9",
       "version_major": 2,
       "version_minor": 0
      },
      "text/plain": [
       "Downloading (…)nce_bert_config.json:   0%|          | 0.00/53.0 [00:00<?, ?B/s]"
      ]
     },
     "metadata": {},
     "output_type": "display_data"
    },
    {
     "data": {
      "application/vnd.jupyter.widget-view+json": {
       "model_id": "05734973c99d40f88ba68a02d05dd8a7",
       "version_major": 2,
       "version_minor": 0
      },
      "text/plain": [
       "Downloading (…)cial_tokens_map.json:   0%|          | 0.00/112 [00:00<?, ?B/s]"
      ]
     },
     "metadata": {},
     "output_type": "display_data"
    },
    {
     "data": {
      "application/vnd.jupyter.widget-view+json": {
       "model_id": "9f8ddf1407154b24ab45d795c2791bec",
       "version_major": 2,
       "version_minor": 0
      },
      "text/plain": [
       "Downloading (…)5f450/tokenizer.json:   0%|          | 0.00/1.96M [00:00<?, ?B/s]"
      ]
     },
     "metadata": {},
     "output_type": "display_data"
    },
    {
     "data": {
      "application/vnd.jupyter.widget-view+json": {
       "model_id": "6e290e2e6318485e80176e2b5273e62a",
       "version_major": 2,
       "version_minor": 0
      },
      "text/plain": [
       "Downloading (…)okenizer_config.json:   0%|          | 0.00/452 [00:00<?, ?B/s]"
      ]
     },
     "metadata": {},
     "output_type": "display_data"
    },
    {
     "data": {
      "application/vnd.jupyter.widget-view+json": {
       "model_id": "d6ed85b49211447ebdb277f2f26de0cd",
       "version_major": 2,
       "version_minor": 0
      },
      "text/plain": [
       "Downloading (…)966465f450/vocab.txt:   0%|          | 0.00/996k [00:00<?, ?B/s]"
      ]
     },
     "metadata": {},
     "output_type": "display_data"
    },
    {
     "data": {
      "application/vnd.jupyter.widget-view+json": {
       "model_id": "cf8a94000b1847f195384a94429bd131",
       "version_major": 2,
       "version_minor": 0
      },
      "text/plain": [
       "Downloading (…)465f450/modules.json:   0%|          | 0.00/341 [00:00<?, ?B/s]"
      ]
     },
     "metadata": {},
     "output_type": "display_data"
    },
    {
     "name": "stdout",
     "output_type": "stream",
     "text": [
      "[[ 0.03346376  0.00484747 -0.04678714 ...  0.01511979 -0.03623774\n",
      "  -0.0632317 ]\n",
      " [ 0.04559845  0.01505487 -0.05186233 ...  0.00402888 -0.0300804\n",
      "  -0.05890043]\n",
      " [ 0.05262217  0.03586335 -0.05460797 ... -0.02830481 -0.05466486\n",
      "  -0.02503219]]\n"
     ]
    }
   ],
   "source": [
    "# multilingual\n",
    "embedder = SentenceTransformer('distiluse-base-multilingual-cased-v1')\n",
    "embeddings = embedder.encode(['Hello World', 'Hallo Welt', 'Hola mundo'])\n",
    "print(embeddings)\n"
   ]
  },
  {
   "cell_type": "code",
   "execution_count": null,
   "id": "ca919ef2",
   "metadata": {},
   "outputs": [],
   "source": []
  }
 ],
 "metadata": {
  "kernelspec": {
   "display_name": "Python 3 (ipykernel)",
   "language": "python",
   "name": "python3"
  },
  "language_info": {
   "codemirror_mode": {
    "name": "ipython",
    "version": 3
   },
   "file_extension": ".py",
   "mimetype": "text/x-python",
   "name": "python",
   "nbconvert_exporter": "python",
   "pygments_lexer": "ipython3",
   "version": "3.9.16"
  }
 },
 "nbformat": 4,
 "nbformat_minor": 5
}
