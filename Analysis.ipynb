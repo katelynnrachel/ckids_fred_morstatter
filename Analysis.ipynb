{
 "cells": [
  {
   "cell_type": "raw",
   "id": "f1ec2abc-b31e-4867-8c25-cd642c738c62",
   "metadata": {},
   "source": [
    "Twitter Data Analysis\n",
    "Amy Kim\n",
    "\n",
    "Notes:\n",
    "-\"next_token\": field indicating that there are additional pages of results\n",
    "\n",
    "False Positives Notes:\n",
    "https://docs.google.com/document/d/1BehM1QP6t1GnvGrIsZwk2aThciWTu1pST1QDctO2sE8/edit"
   ]
  },
  {
   "cell_type": "code",
   "execution_count": 1,
   "id": "f394a5f3-03d6-49b3-bd19-85eb1d0ebcd0",
   "metadata": {},
   "outputs": [],
   "source": [
    "# source: https://softhints.com/merge-multiple-json-files-pandas-dataframe/\n",
    "import numpy as np\n",
    "import pandas as pd\n",
    "import glob, os, json\n",
    "\n",
    "json_dir = './data/json'\n",
    "dir_list = glob.glob(os.path.join(json_dir, 'search_*'))"
   ]
  },
  {
   "cell_type": "code",
   "execution_count": 2,
   "id": "f835d094-e1eb-49a6-b2a2-5e37691239bd",
   "metadata": {},
   "outputs": [],
   "source": [
    "data_list = [] # list of dicts\n",
    "for dir in dir_list:\n",
    "    file_list = glob.glob(os.path.join(dir, '*.json'))\n",
    "    result_count = 0\n",
    "    name = \"\"\n",
    "    for file in file_list:\n",
    "        f = open(file) # file is a path to a json file\n",
    "        data = json.load(f)\n",
    "        name = file.split('/')[-2].split('search_')[-1]\n",
    "        result_count = result_count + data['meta']['result_count']\n",
    "        f.close()\n",
    "    data_list.append({'name': name, 'result_count': result_count})"
   ]
  },
  {
   "cell_type": "code",
   "execution_count": 3,
   "id": "7aa9414f-b8af-4878-9cf8-ca2b06a6d9d3",
   "metadata": {},
   "outputs": [
    {
     "name": "stdout",
     "output_type": "stream",
     "text": [
      "                   name  result_count\n",
      "0                                   0\n",
      "1  Leon Deandre Simpson             1\n",
      "2                                   0\n",
      "3                                   0\n",
      "4                                   0\n",
      "data: (5333, 2)\n"
     ]
    }
   ],
   "source": [
    "count_data = pd.DataFrame(data_list)\n",
    "print(count_data.head())\n",
    "print(f'data: {count_data.shape}')"
   ]
  },
  {
   "cell_type": "code",
   "execution_count": 4,
   "id": "b07604c6-1df9-46dd-8ae0-b788da20ba7a",
   "metadata": {},
   "outputs": [
    {
     "data": {
      "image/png": "[encoded data removed]",
      "text/plain": [
       "<Figure size 432x288 with 1 Axes>"
      ]
     },
     "metadata": {
      "needs_background": "light"
     },
     "output_type": "display_data"
    }
   ],
   "source": [
    "import numpy as np\n",
    "import matplotlib.pyplot as plt\n",
    "\n",
    "plt.title('Number of Tweets')\n",
    "plt.yscale('log')\n",
    "plt.hist(count_data['result_count'], bins=70)\n",
    "plt.xticks(rotation=45)\n",
    "plt.ylabel('Count')\n",
    "plt.xlabel('Individual')\n",
    "plt.show()"
   ]
  },
  {
   "cell_type": "code",
   "execution_count": 5,
   "id": "392f5be6-2c2f-469e-835a-965d610f40f6",
   "metadata": {},
   "outputs": [
    {
     "data": {
      "text/html": [
       "<div>\n",
       "<style scoped>\n",
       "    .dataframe tbody tr th:only-of-type {\n",
       "        vertical-align: middle;\n",
       "    }\n",
       "\n",
       "    .dataframe tbody tr th {\n",
       "        vertical-align: top;\n",
       "    }\n",
       "\n",
       "    .dataframe thead th {\n",
       "        text-align: right;\n",
       "    }\n",
       "</style>\n",
       "<table border=\"1\" class=\"dataframe\">\n",
       "  <thead>\n",
       "    <tr style=\"text-align: right;\">\n",
       "      <th></th>\n",
       "      <th>name</th>\n",
       "      <th>result_count</th>\n",
       "    </tr>\n",
       "  </thead>\n",
       "  <tbody>\n",
       "    <tr>\n",
       "      <th>494</th>\n",
       "      <td>Na Li</td>\n",
       "      <td>22102</td>\n",
       "    </tr>\n",
       "    <tr>\n",
       "      <th>621</th>\n",
       "      <td>Jose Leon</td>\n",
       "      <td>11216</td>\n",
       "    </tr>\n",
       "    <tr>\n",
       "      <th>691</th>\n",
       "      <td>Anthony Davis</td>\n",
       "      <td>37630</td>\n",
       "    </tr>\n",
       "    <tr>\n",
       "      <th>937</th>\n",
       "      <td>Jose Luis Sanchez</td>\n",
       "      <td>11132</td>\n",
       "    </tr>\n",
       "    <tr>\n",
       "      <th>1186</th>\n",
       "      <td>Daniel Garcia</td>\n",
       "      <td>16370</td>\n",
       "    </tr>\n",
       "    <tr>\n",
       "      <th>1490</th>\n",
       "      <td>Daniel Ramirez</td>\n",
       "      <td>15500</td>\n",
       "    </tr>\n",
       "    <tr>\n",
       "      <th>1559</th>\n",
       "      <td>Jose Luis Rodriguez</td>\n",
       "      <td>18214</td>\n",
       "    </tr>\n",
       "    <tr>\n",
       "      <th>1829</th>\n",
       "      <td>Gracie Anne Muehlberger</td>\n",
       "      <td>14317</td>\n",
       "    </tr>\n",
       "    <tr>\n",
       "      <th>2171</th>\n",
       "      <td>David Ordaz Jr</td>\n",
       "      <td>14887</td>\n",
       "    </tr>\n",
       "    <tr>\n",
       "      <th>3062</th>\n",
       "      <td>Juan Cortez</td>\n",
       "      <td>68385</td>\n",
       "    </tr>\n",
       "    <tr>\n",
       "      <th>3551</th>\n",
       "      <td>Hunter John</td>\n",
       "      <td>23443</td>\n",
       "    </tr>\n",
       "    <tr>\n",
       "      <th>3614</th>\n",
       "      <td>Valentina Orellana-Peralta</td>\n",
       "      <td>35079</td>\n",
       "    </tr>\n",
       "    <tr>\n",
       "      <th>4222</th>\n",
       "      <td>Jose Lopez</td>\n",
       "      <td>26589</td>\n",
       "    </tr>\n",
       "    <tr>\n",
       "      <th>5106</th>\n",
       "      <td>Carlos Martinez</td>\n",
       "      <td>12236</td>\n",
       "    </tr>\n",
       "    <tr>\n",
       "      <th>5108</th>\n",
       "      <td>Ming Wei Ma</td>\n",
       "      <td>19107</td>\n",
       "    </tr>\n",
       "  </tbody>\n",
       "</table>\n",
       "</div>"
      ],
      "text/plain": [
       "                            name  result_count\n",
       "494                        Na Li         22102\n",
       "621                    Jose Leon         11216\n",
       "691                Anthony Davis         37630\n",
       "937            Jose Luis Sanchez         11132\n",
       "1186               Daniel Garcia         16370\n",
       "1490              Daniel Ramirez         15500\n",
       "1559         Jose Luis Rodriguez         18214\n",
       "1829     Gracie Anne Muehlberger         14317\n",
       "2171              David Ordaz Jr         14887\n",
       "3062                 Juan Cortez         68385\n",
       "3551                 Hunter John         23443\n",
       "3614  Valentina Orellana-Peralta         35079\n",
       "4222                  Jose Lopez         26589\n",
       "5106             Carlos Martinez         12236\n",
       "5108                 Ming Wei Ma         19107"
      ]
     },
     "execution_count": 5,
     "metadata": {},
     "output_type": "execute_result"
    }
   ],
   "source": [
    "count_data[count_data['result_count'] > 10000]"
   ]
  },
  {
   "cell_type": "code",
   "execution_count": null,
   "id": "e592f18a-b0e9-4170-af13-1ed54705cc8c",
   "metadata": {},
   "outputs": [],
   "source": []
  }
 ],
 "metadata": {
  "kernelspec": {
   "display_name": "Python 3 (ipykernel)",
   "language": "python",
   "name": "python3"
  },
  "language_info": {
   "codemirror_mode": {
    "name": "ipython",
    "version": 3
   },
   "file_extension": ".py",
   "mimetype": "text/x-python",
   "name": "python",
   "nbconvert_exporter": "python",
   "pygments_lexer": "ipython3",
   "version": "3.9.7"
  }
 },
 "nbformat": 4,
 "nbformat_minor": 5
}
