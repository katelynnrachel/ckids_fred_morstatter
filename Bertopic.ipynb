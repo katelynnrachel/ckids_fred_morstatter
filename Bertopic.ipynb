{
 "cells": [
  {
   "cell_type": "code",
   "execution_count": 1,
   "id": "9e09a0c2",
   "metadata": {},
   "outputs": [],
   "source": [
    "import pandas as pd\n"
   ]
  },
  {
   "cell_type": "code",
   "execution_count": 2,
   "id": "c2f97f8d",
   "metadata": {},
   "outputs": [
    {
     "data": {
      "text/html": [
       "<div>\n",
       "<style scoped>\n",
       "    .dataframe tbody tr th:only-of-type {\n",
       "        vertical-align: middle;\n",
       "    }\n",
       "\n",
       "    .dataframe tbody tr th {\n",
       "        vertical-align: top;\n",
       "    }\n",
       "\n",
       "    .dataframe thead th {\n",
       "        text-align: right;\n",
       "    }\n",
       "</style>\n",
       "<table border=\"1\" class=\"dataframe\">\n",
       "  <thead>\n",
       "    <tr style=\"text-align: right;\">\n",
       "      <th></th>\n",
       "      <th>victim_name</th>\n",
       "      <th>text_combine</th>\n",
       "    </tr>\n",
       "  </thead>\n",
       "  <tbody>\n",
       "    <tr>\n",
       "      <th>0</th>\n",
       "      <td>Aaron Brockway</td>\n",
       "      <td>text</td>\n",
       "    </tr>\n",
       "    <tr>\n",
       "      <th>1</th>\n",
       "      <td>Aaron Brockway</td>\n",
       "      <td>R.I.P Aaron Brockway  Im lighting this one fo...</td>\n",
       "    </tr>\n",
       "    <tr>\n",
       "      <th>2</th>\n",
       "      <td>Aaron Brockway</td>\n",
       "      <td>Rip. Aaron Brockway 🙏</td>\n",
       "    </tr>\n",
       "    <tr>\n",
       "      <th>3</th>\n",
       "      <td>Aaron Carlos Martinez</td>\n",
       "      <td>text</td>\n",
       "    </tr>\n",
       "    <tr>\n",
       "      <th>4</th>\n",
       "      <td>Aaron Carlos Martinez</td>\n",
       "      <td>Aaron Carlos Martinez  18 : #IHateTimWaterman</td>\n",
       "    </tr>\n",
       "  </tbody>\n",
       "</table>\n",
       "</div>"
      ],
      "text/plain": [
       "             victim_name                                       text_combine\n",
       "0         Aaron Brockway                                               text\n",
       "1         Aaron Brockway   R.I.P Aaron Brockway  Im lighting this one fo...\n",
       "2         Aaron Brockway                              Rip. Aaron Brockway 🙏\n",
       "3  Aaron Carlos Martinez                                               text\n",
       "4  Aaron Carlos Martinez      Aaron Carlos Martinez  18 : #IHateTimWaterman"
      ]
     },
     "execution_count": 2,
     "metadata": {},
     "output_type": "execute_result"
    }
   ],
   "source": [
    "file_path = \"./merged_data.csv\"\n",
    "df = pd.read_csv(file_path, sep=',', quotechar='\"', encoding='utf-8', engine='python')\n",
    "\n",
    "df.head()\n"
   ]
  },
  {
   "cell_type": "code",
   "execution_count": 5,
   "id": "26d868b0",
   "metadata": {},
   "outputs": [],
   "source": [
    "from bertopic import BERTopic\n",
    "# import bertopic"
   ]
  },
  {
   "cell_type": "code",
   "execution_count": 6,
   "id": "08e52ef8",
   "metadata": {},
   "outputs": [
    {
     "name": "stdout",
     "output_type": "stream",
     "text": [
      "[4, 16, 16, 4, 16, 7, 4, 16, 4, 9, 9, 4, 16, 16, 5, 5, 7, 9, 4, -1, -1, 12, 4, 5, 5, 5, 5, 4, 5, 5, 5, 5, 5, 4, 0, 4, 0, 6, 0, 5, 5, 0, 0, 0, 0, 5, 11, 7, 0, 10, 10, 10, 10, 0, 10, 0, 17, -1, 10, 0, -1, 2, 2, 2, 2, 2, 2, 2, 2, 2, 2, 2, 2, 0, 2, 2, 2, 12, 2, 2, 11, 2, 2, 2, 2, 2, 2, 2, 2, 2, 2, 11, 0, 2, 0, 2, 2, 11, 2, 11, 0, -1, 15, -1, 0, 17, -1, -1, 0, 0, -1, 3, 3, 3, 3, 3, 3, 3, 3, 3, 3, 3, 3, 3, 3, 3, 3, 3, -1, 3, 10, 10, 10, 10, 0, 0, 3, 3, 3, 3, 3, 3, 3, 3, -1, 3, 3, 11, -1, -1, -1, -1, -1, -1, -1, 8, 8, 8, 11, -1, 4, -1, 1, 1, 1, -1, 4, -1, -1, -1, -1, 9, 9, 9, 9, 9, 9, 9, 9, 9, 9, 9, 9, 4, 1, 1, 8, 1, 1, 1, 1, 1, 1, 1, 1, 1, 1, 1, 1, 1, 1, 1, 1, 1, 1, 1, 1, 1, 1, 1, 1, 1, 1, 1, 1, -1, 1, 1, 4, 16, 4, 16, 5, 5, 5, 0, 4, -1, 4, 1, 1, 1, 16, 0, 5, 5, 0, -1, -1, -1, -1, -1, -1, -1, -1, -1, 8, 4, 10, 10, 10, 10, 10, 0, 0, 0, 0, 0, -1, -1, -1, 0, 0, -1, 0, -1, 10, -1, -1, 7, -1, 7, -1, -1, -1, -1, -1, -1, -1, -1, -1, -1, 7, -1, -1, -1, -1, 0, 17, 17, -1, 12, 6, 6, 12, 6, -1, 6, 6, -1, 6, 7, 6, 7, -1, 7, 12, -1, 12, 12, 6, 7, 6, -1, 6, -1, -1, -1, 6, -1, -1, -1, 6, 6, -1, 17, 17, 17, 17, -1, 6, -1, -1, 7, 6, 7, -1, 17, 12, 7, 7, -1, 7, 6, -1, 6, 12, 6, 17, 7, -1, 12, 12, -1, 12, -1, 12, 7, -1, 12, -1, 7, 0, -1, 0, -1, -1, 6, 1, 1, 6, -1, -1, 1, -1, -1, -1, -1, -1, -1, -1, -1, -1, -1, 0, 0, 12, 0, -1, 4, 8, 8, 8, 0, 0, 0, 8, 8, 8, 8, 8, 0, -1, -1, 0, 0, 0, 0, 8, 8, 8, 8, 0, 0, 0, 0, 0, 15, 15, 15, 15, 15, 15, 15, 15, 15, 15, 15, 17, 15, -1, 0, 0, 0, 0, 0, 0, 0, 0, 0, 0, 0, 4, 0, 0, 16, 0, 4, 16, 13, 4, 9, 4, 16, 9, 4, 5, 5, 5, 5, 4, -1, 4, 0, 14, 14, 11, 11, 13, 0, 13, 13, 11, 11, 13, 11, 11, 11, 13, 13, 13, 11, 13, 13, 13, 13, 14, 13, 13, 14, 14, 14, 14, 14, 14, 14, 14, 14, 14, 14]\n"
     ]
    }
   ],
   "source": [
    "# Initialize the Bertopic model with the desired number of topics\n",
    "model = BERTopic(language=\"multilingual\") # num_topics=100 is good amount\n",
    "\n",
    "# Fit the model to the Twitter data\n",
    "topics, probabilities = model.fit_transform(df.head(500)['text_combine'])\n",
    "print(topics)"
   ]
  },
  {
   "cell_type": "code",
   "execution_count": 9,
   "id": "d8c564f5",
   "metadata": {},
   "outputs": [
    {
     "data": {
      "text/plain": [
       "500"
      ]
     },
     "execution_count": 9,
     "metadata": {},
     "output_type": "execute_result"
    }
   ],
   "source": [
    "len(topics)"
   ]
  },
  {
   "cell_type": "code",
   "execution_count": 8,
   "id": "ec33baf7",
   "metadata": {},
   "outputs": [
    {
     "name": "stdout",
     "output_type": "stream",
     "text": [
      "0\n"
     ]
    }
   ],
   "source": [
    "# Filter the DataFrame based on the topics of interest\n",
    "# topics_of_interest = ['homicide', 'gun', 'shooting', 'violence', 'stab', 'rip', 'rest in peace', 'coroner', 'dead', 'body']\n",
    "topics_of_interest = [] # list of topic numbers; TODO: divide work among colleagues (20%), extract relevant topics\n",
    "# TODO: mask is work in progress\n",
    "mask = pd.DataFrame(topics).isin(topics_of_interest).any(axis=1)\n",
    "print(sum(mask))"
   ]
  },
  {
   "cell_type": "code",
   "execution_count": 36,
   "id": "6f2d4848",
   "metadata": {},
   "outputs": [
    {
     "name": "stdout",
     "output_type": "stream",
     "text": [
      "[('adán', 0.04638567800719889), ('martínez', 0.04278175559083), ('josé', 0.04264015470737778), ('carlos', 0.04165755702365227), ('durmisi', 0.039792456025975524), ('pezzella', 0.03946626589990557), ('mandi', 0.03946626589990557), ('donk', 0.038806143460938164), ('sanabria', 0.037513123880974664), ('ceballos', 0.03676069021181501)]\n",
      "\n",
      "[('santiago', 0.13442943849993294), ('mateo', 0.11645928799590216), ('auserón', 0.11645928799590216), ('nacho', 0.11645928799590216), ('vegas', 0.11518785320412576), ('fangoria', 0.11341847368106457), ('langui', 0.11341847368106457), ('sanisidro2016', 0.11032970982321119), ('rachid', 0.11032970982321119), ('obús', 0.11032970982321119)]\n",
      "\n",
      "[('día', 0.22890706047058), ('obligación', 0.1484393829364049), ('nacional', 0.1484393829364049), ('asesinados', 0.1484393829364049), ('recordar', 0.1484393829364049), ('enrique', 0.14697248708490726), ('periodista', 0.14697248708490726), ('guido', 0.14697248708490726), ('plinio', 0.14697248708490726), ('piera', 0.14697248708490726)]\n",
      "\n",
      "[('asesores', 0.2713915908539289), ('epigmenio', 0.17097874621315895), ('qué', 0.17097874621315895), ('antaresvazala', 0.17097874621315895), ('tienen', 0.16916049463529775), ('tal', 0.16916049463529775), ('españoles', 0.16916049463529775), ('antizombies', 0.16669221105796442), ('katu', 0.1624903056172973), ('arkonada', 0.16095513635606892)]\n",
      "\n",
      "[('text', 3.228064250922607), ('', 1e-05), ('', 1e-05), ('', 1e-05), ('', 1e-05), ('', 1e-05), ('', 1e-05), ('', 1e-05), ('', 1e-05), ('', 1e-05)]\n",
      "\n",
      "[('year', 0.11647907973363214), ('old', 0.11461836064392708), ('died', 0.08802455910501042), ('the', 0.08615464760091375), ('male', 0.0818677772314896), ('man', 0.07551991908144062), ('in', 0.06911480054583287), ('abdulhalim', 0.0689590038057473), ('mustafa', 0.0689590038057473), ('halim', 0.0689590038057473)]\n",
      "\n",
      "[('luna', 0.08973128412755545), ('city', 0.07749822534721887), ('aleague', 0.06648894088972589), ('nahuel', 0.062074757166581715), ('musonda', 0.062074757166581715), ('fabián', 0.062074757166581715), ('quedan', 0.06071260647022465), ('convocatoria', 0.06071260647022465), ('the', 0.05562474532569682), ('mariners', 0.054724465417015505)]\n",
      "\n",
      "[('unidadycontinuidad', 0.08278294249903077), ('teresitaromeror', 0.08278294249903077), ('sale', 0.08278294249903077), ('conquistas', 0.08278294249903077), ('deivyprezmartn1', 0.08278294249903077), ('revolución', 0.08278294249903077), ('primerodemayo', 0.08278294249903077), ('laligaendirecto', 0.0716595722848904), ('peace', 0.0716595722848904), ('chinea_d', 0.0716595722848904)]\n",
      "\n",
      "[('papa', 0.13452445027274232), ('la', 0.09866586671266377), ('francisco', 0.09526980027958563), ('pontifex_es', 0.08894652548061395), ('retweeted', 0.08894652548061395), ('que', 0.07405072759008646), ('vallejos', 0.06822798713321959), ('jmj', 0.06822798713321959), ('cracovia', 0.0570789249951249), ('de', 0.054812029191643755)]\n",
      "\n",
      "[('con', 0.10992542601108035), ('realizaron', 0.09623948882780119), ('la', 0.0908804190492866), ('en', 0.08775953102487738), ('díaz', 0.07944703662833515), ('inspectores', 0.07686987517767144), ('jefes', 0.07686987517767144), ('conversatorio', 0.07686987517767144), ('concurrencia', 0.07686987517767144), ('migrante', 0.07686987517767144)]\n",
      "\n"
     ]
    }
   ],
   "source": [
    "for t in model.get_topic_freq().head(10)['Topic']:\n",
    "    print(f\"{model.get_topic(t)}\\n\")\n",
    "    # TODO: print index and top ten words for the topic"
   ]
  },
  {
   "cell_type": "code",
   "execution_count": null,
   "id": "b4f60c0f",
   "metadata": {},
   "outputs": [],
   "source": []
  }
 ],
 "metadata": {
  "kernelspec": {
   "display_name": "Python 3 (ipykernel)",
   "language": "python",
   "name": "python3"
  },
  "language_info": {
   "codemirror_mode": {
    "name": "ipython",
    "version": 3
   },
   "file_extension": ".py",
   "mimetype": "text/x-python",
   "name": "python",
   "nbconvert_exporter": "python",
   "pygments_lexer": "ipython3",
   "version": "3.9.16"
  }
 },
 "nbformat": 4,
 "nbformat_minor": 5
}
