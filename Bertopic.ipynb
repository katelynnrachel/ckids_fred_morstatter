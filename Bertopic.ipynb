{
 "cells": [
  {
   "cell_type": "code",
   "execution_count": null,
   "id": "9e09a0c2",
   "metadata": {},
   "outputs": [],
   "source": [
    "import pandas as pd\n"
   ]
  },
  {
   "cell_type": "code",
   "execution_count": null,
   "id": "c2f97f8d",
   "metadata": {},
   "outputs": [],
   "source": [
    "file_path = \"./merged_data.csv\"\n",
    "df = pd.read_csv(file_path, sep=',', quotechar='\"', encoding='utf-8', engine='python')\n",
    "\n",
    "df.head()\n"
   ]
  },
  {
   "cell_type": "code",
   "execution_count": null,
   "id": "26d868b0",
   "metadata": {},
   "outputs": [],
   "source": [
    "from bertopic import BERTopic"
   ]
  },
  {
   "cell_type": "code",
   "execution_count": null,
   "id": "08e52ef8",
   "metadata": {},
   "outputs": [],
   "source": [
    "# Initialize the Bertopic model with the desired number of topics\n",
    "model = BERTopic(language=\"multilingual\") # num_topics=100 is good amount\n",
    "\n",
    "# Fit the model to the Twitter data\n",
    "topics, probabilities = model.fit_transform(df['text_combine'])\n",
    "print(topics)"
   ]
  },
  {
   "cell_type": "code",
   "execution_count": null,
   "id": "d8c564f5",
   "metadata": {},
   "outputs": [],
   "source": [
    "len(topics)"
   ]
  },
  {
   "cell_type": "code",
   "execution_count": null,
   "id": "6f2d4848",
   "metadata": {},
   "outputs": [],
   "source": [
    "for t in model.get_topics():\n",
    "    print(f\"{t}\\t{[x[0] for x in model.get_topic(t)]}\\n\")"
   ]
  },
  {
   "cell_type": "code",
   "execution_count": null,
   "id": "3d2d39b4",
   "metadata": {},
   "outputs": [],
   "source": [
    "# list of topic numbers; TODO: divide work among colleagues (20%), extract relevant topics\n",
    "topics_of_interest = []"
   ]
  },
  {
   "cell_type": "code",
   "execution_count": null,
   "id": "ec33baf7",
   "metadata": {},
   "outputs": [],
   "source": [
    "# Filter the DataFrame based on the topics of interest\n",
    "# TODO: masking is work in progress\n",
    "mask = pd.DataFrame(topics).isin(topics_of_interest).any(axis=1)\n",
    "print(sum(mask))\n",
    "df.loc(mask)\n",
    "df.head()"
   ]
  },
  {
   "cell_type": "code",
   "execution_count": null,
   "id": "b4f60c0f",
   "metadata": {},
   "outputs": [],
   "source": []
  }
 ],
 "metadata": {
  "kernelspec": {
   "display_name": "Python 3 (ipykernel)",
   "language": "python",
   "name": "python3"
  },
  "language_info": {
   "codemirror_mode": {
    "name": "ipython",
    "version": 3
   },
   "file_extension": ".py",
   "mimetype": "text/x-python",
   "name": "python",
   "nbconvert_exporter": "python",
   "pygments_lexer": "ipython3",
   "version": "3.9.16"
  }
 },
 "nbformat": 4,
 "nbformat_minor": 5
}
