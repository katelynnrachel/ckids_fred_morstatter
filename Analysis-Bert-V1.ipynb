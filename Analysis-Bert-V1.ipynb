{
 "cells": [
  {
   "cell_type": "raw",
   "id": "f1ec2abc-b31e-4867-8c25-cd642c738c62",
   "metadata": {},
   "source": [
    "Twitter Data Analysis\n",
    "Amy Kim\n",
    "\n",
    "Notes:\n",
    "-\"next_token\": field indicating that there are additional pages of results\n",
    "\n",
    "False Positives Notes:\n",
    "https://docs.google.com/document/d/1BehM1QP6t1GnvGrIsZwk2aThciWTu1pST1QDctO2sE8/edit"
   ]
  },
  {
   "cell_type": "code",
   "execution_count": 57,
   "id": "f394a5f3-03d6-49b3-bd19-85eb1d0ebcd0",
   "metadata": {},
   "outputs": [],
   "source": [
    "# source: https://softhints.com/merge-multiple-json-files-pandas-dataframe/\n",
    "import numpy as np\n",
    "import pandas as pd\n",
    "import glob, os, json\n",
    "\n",
    "# json_dir = './data'\n",
    "json_dir = r'E:\\STUDY\\CKIDS\\Analyse\\data\\data'\n",
    "dir_list = glob.glob(os.path.join(json_dir, 'search_*'))"
   ]
  },
  {
   "cell_type": "code",
   "execution_count": 58,
   "id": "f835d094-e1eb-49a6-b2a2-5e37691239bd",
   "metadata": {
    "scrolled": true
   },
   "outputs": [
    {
     "name": "stderr",
     "output_type": "stream",
     "text": [
      "[nltk_data] Downloading package stopwords to\n",
      "[nltk_data]     C:\\Users\\Lenovo\\AppData\\Roaming\\nltk_data...\n",
      "[nltk_data]   Package stopwords is already up-to-date!\n",
      "[nltk_data] Downloading package punkt to\n",
      "[nltk_data]     C:\\Users\\Lenovo\\AppData\\Roaming\\nltk_data...\n",
      "[nltk_data]   Package punkt is already up-to-date!\n"
     ]
    }
   ],
   "source": [
    "import re\n",
    "import nltk\n",
    "from nltk.corpus import stopwords\n",
    "from nltk.tokenize import word_tokenize\n",
    "from nltk.collocations import BigramAssocMeasures, BigramCollocationFinder\n",
    "\n",
    "\n",
    "# Define filter function\n",
    "def filter_text(text):\n",
    "    # Define keywords related to LA crime victims\n",
    "    keywords = ['kill', 'shoot', 'R.I.P.', 'homicide', 'gun', 'violence', 'rip', 'rest in peace', 'murder']\n",
    "    \n",
    "    # Check if the text contains at least one keyword\n",
    "    if any(keyword in text.lower() for keyword in keywords):\n",
    "        return True\n",
    "    else:\n",
    "        return False\n",
    "\n",
    "# Load stop words\n",
    "nltk.download('stopwords')\n",
    "nltk.download('punkt')\n",
    "stop_words = set(stopwords.words('english'))\n",
    "\n",
    "# Process text\n",
    "data_list = []\n",
    "text_list = []\n",
    "for dir in dir_list:\n",
    "    file_list = glob.glob(os.path.join(dir, '*.json'))\n",
    "    result_count = 0\n",
    "    temp = []\n",
    "    name = \"\"\n",
    "    for file in file_list:\n",
    "        f = open(file, 'r', encoding='utf-8') # file is a path to a json file\n",
    "        js = json.load(f)\n",
    "        file_name = os.path.basename(file)\n",
    "        dir_name = os.path.basename(os.path.dirname(file))\n",
    "        name = dir_name.split('search_')[-1]\n",
    "        result_count = result_count + js['meta']['result_count']\n",
    "        temp = np.concatenate((temp, js['data']))\n",
    "        \n",
    "        for d in js['data']:\n",
    "            # Remove URLs and special characters\n",
    "            text = re.sub(r'http\\S+', '', d['text'])  # Remove URLs\n",
    "            text = re.sub(r'[^\\w\\s]', '', text)  # Remove special characters\n",
    "            \n",
    "            # Remove stop words\n",
    "            tokens = word_tokenize(text)\n",
    "            tokens = [token.lower() for token in tokens if token.lower() not in stop_words]\n",
    "            text = ' '.join(tokens)\n",
    "            \n",
    "            # Extract bigrams\n",
    "            bigram_measures = BigramAssocMeasures()\n",
    "            finder = BigramCollocationFinder.from_words(tokens)\n",
    "            finder.apply_freq_filter(3)\n",
    "            bigrams = finder.nbest(bigram_measures.pmi, 10)\n",
    "            bigrams = ['_'.join(bigram) for bigram in bigrams]\n",
    "            text = text + ' ' + ' '.join(bigrams)\n",
    "            \n",
    "            # Filter text\n",
    "            if filter_text(text):\n",
    "                text_list.append(text)\n",
    "        \n",
    "        f.close()\n",
    "    data_list.append({'name': name, 'result_count': result_count, 'data': temp})"
   ]
  },
  {
   "cell_type": "code",
   "execution_count": 59,
   "id": "7aa9414f-b8af-4878-9cf8-ca2b06a6d9d3",
   "metadata": {
    "scrolled": true
   },
   "outputs": [
    {
     "name": "stdout",
     "output_type": "stream",
     "text": [
      "                      name  result_count  \\\n",
      "0                                      0   \n",
      "1           Aaron Brockway             2   \n",
      "2    Aaron Carlos Martinez             2   \n",
      "3  Aaron Christopher Scott             1   \n",
      "4                                      0   \n",
      "\n",
      "                                                data  \n",
      "0                                                 []  \n",
      "1  [{'text': 'Rip. Aaron Brockway 🙏', 'author_id'...  \n",
      "2  [{'id': '674337319760093184', 'edit_history_tw...  \n",
      "3  [{'created_at': '2019-10-18T19:56:32.000Z', 't...  \n",
      "4                                                 []  \n",
      "data: (5333, 3)\n"
     ]
    }
   ],
   "source": [
    "data = pd.DataFrame(data_list)\n",
    "print(data.head())\n",
    "print(f'data: {data.shape}')"
   ]
  },
  {
   "cell_type": "code",
   "execution_count": 60,
   "id": "df4619b9",
   "metadata": {},
   "outputs": [
    {
     "data": {
      "text/plain": [
       "['rip aaron brockway ',\n",
       " 'rip aaron brockway im lighting one ',\n",
       " 'check donated son aaron harts final exspensive murderd walking 7eleven ',\n",
       " 'aaron james pritchard 21 homicide report ',\n",
       " 'abraham diaz 42yearold man bakersfield identified kern county coroners office man killed outside mariscos click read ']"
      ]
     },
     "execution_count": 60,
     "metadata": {},
     "output_type": "execute_result"
    }
   ],
   "source": [
    "# text_list is a list of strings containing the text of every tweet in the data\n",
    "text_list[:5]"
   ]
  },
  {
   "cell_type": "code",
   "execution_count": 61,
   "id": "c8ed0a15",
   "metadata": {},
   "outputs": [],
   "source": [
    "text_list = [str(item) for item in text_list]"
   ]
  },
  {
   "cell_type": "code",
   "execution_count": 65,
   "id": "263ff1c7-d305-457d-8986-b14030ef63c2",
   "metadata": {},
   "outputs": [
    {
     "data": {
      "text/html": [
       "<div>\n",
       "<style scoped>\n",
       "    .dataframe tbody tr th:only-of-type {\n",
       "        vertical-align: middle;\n",
       "    }\n",
       "\n",
       "    .dataframe tbody tr th {\n",
       "        vertical-align: top;\n",
       "    }\n",
       "\n",
       "    .dataframe thead th {\n",
       "        text-align: right;\n",
       "    }\n",
       "</style>\n",
       "<table border=\"1\" class=\"dataframe\">\n",
       "  <thead>\n",
       "    <tr style=\"text-align: right;\">\n",
       "      <th></th>\n",
       "      <th>Topic</th>\n",
       "      <th>Count</th>\n",
       "    </tr>\n",
       "  </thead>\n",
       "  <tbody>\n",
       "    <tr>\n",
       "      <th>0</th>\n",
       "      <td>-1</td>\n",
       "      <td>1222</td>\n",
       "    </tr>\n",
       "    <tr>\n",
       "      <th>1</th>\n",
       "      <td>0</td>\n",
       "      <td>938</td>\n",
       "    </tr>\n",
       "    <tr>\n",
       "      <th>2</th>\n",
       "      <td>1</td>\n",
       "      <td>626</td>\n",
       "    </tr>\n",
       "    <tr>\n",
       "      <th>3</th>\n",
       "      <td>2</td>\n",
       "      <td>271</td>\n",
       "    </tr>\n",
       "    <tr>\n",
       "      <th>4</th>\n",
       "      <td>3</td>\n",
       "      <td>258</td>\n",
       "    </tr>\n",
       "  </tbody>\n",
       "</table>\n",
       "</div>"
      ],
      "text/plain": [
       "   Topic  Count\n",
       "0     -1   1222\n",
       "1      0    938\n",
       "2      1    626\n",
       "3      2    271\n",
       "4      3    258"
      ]
     },
     "execution_count": 65,
     "metadata": {},
     "output_type": "execute_result"
    }
   ],
   "source": [
    "# source: https://towardsdatascience.com/interactive-topic-modeling-with-bertopic-1ea55e7d73d8#:~:text=BERTopic%20is%20a%20topic%20modeling,words%20in%20the%20topic%20descriptions.\n",
    "from bertopic import BERTopic\n",
    "\n",
    "# testing: training model with first 100; training with the whole list takes a long time\n",
    "model = BERTopic(language=\"multilingual\")\n",
    "topics, probabilities = model.fit_transform(text_list[:10000])\n",
    "model.get_topic_freq().head()\n",
    "\n",
    "# ignore topic -1 (no topic assigned)\n"
   ]
  },
  {
   "cell_type": "code",
   "execution_count": 66,
   "id": "56b0b3e7",
   "metadata": {},
   "outputs": [
    {
     "data": {
      "text/plain": [
       "[('blavity', 0.05243440724107425),\n",
       " ('knows', 0.052208869908204045),\n",
       " ('15yearold', 0.051643689772004016),\n",
       " ('darius', 0.05101631735710126),\n",
       " ('smith', 0.050195785251330435),\n",
       " ('border', 0.050119048635789136),\n",
       " ('patrol', 0.050080770468818786),\n",
       " ('officer', 0.04995108410651453),\n",
       " ('one', 0.04832585663594681),\n",
       " ('killed', 0.022935866450412592)]"
      ]
     },
     "execution_count": 66,
     "metadata": {},
     "output_type": "execute_result"
    }
   ],
   "source": [
    "# testing: results\n",
    "model.get_topic(0)"
   ]
  },
  {
   "cell_type": "code",
   "execution_count": null,
   "id": "ab90c35a",
   "metadata": {},
   "outputs": [],
   "source": []
  }
 ],
 "metadata": {
  "kernelspec": {
   "display_name": "Python 3 (ipykernel)",
   "language": "python",
   "name": "python3"
  },
  "language_info": {
   "codemirror_mode": {
    "name": "ipython",
    "version": 3
   },
   "file_extension": ".py",
   "mimetype": "text/x-python",
   "name": "python",
   "nbconvert_exporter": "python",
   "pygments_lexer": "ipython3",
   "version": "3.9.16"
  }
 },
 "nbformat": 4,
 "nbformat_minor": 5
}
