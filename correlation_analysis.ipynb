{
 "cells": [
  {
   "attachments": {},
   "cell_type": "markdown",
   "metadata": {},
   "source": [
    "Correlation between demographic attributes and total tweet counts "
   ]
  },
  {
   "attachments": {},
   "cell_type": "markdown",
   "metadata": {},
   "source": [
    "Feature importance"
   ]
  },
  {
   "cell_type": "code",
   "execution_count": 141,
   "metadata": {},
   "outputs": [],
   "source": [
    "import numpy as np\n",
    "import pandas as pd\n",
    "from sklearn.preprocessing import LabelEncoder\n",
    "from sklearn.model_selection import train_test_split\n",
    "from sklearn.ensemble import RandomForestRegressor\n",
    "\n",
    "# Get the tweet counts per victim\n",
    "data = pd.read_csv('df-relatedToHomicide.csv')\n",
    "data.drop(['Unnamed: 0'], axis=1, inplace=True)\n",
    "df = data.groupby(['victim_name', 'victim_age', 'victim_gender', 'victim_race', 'cause_of_death', 'if_officer_involved', 'death_location', 'agency'], sort=False).size().reset_index(name='counts')\n",
    "\n",
    "df['victim_age'] = df['victim_age'].apply(lambda x: np.nan if x == 'None' else x)\n",
    "df['victim_age'] = df['victim_age'].astype(float)\n",
    "df['victim_age'].fillna(df['victim_age'].mean(), inplace=True)\n",
    "df['victim_age'] = df['victim_age'].round().astype(int)\n"
   ]
  },
  {
   "cell_type": "code",
   "execution_count": 142,
   "metadata": {},
   "outputs": [
    {
     "data": {
      "text/html": [
       "<div>\n",
       "<style scoped>\n",
       "    .dataframe tbody tr th:only-of-type {\n",
       "        vertical-align: middle;\n",
       "    }\n",
       "\n",
       "    .dataframe tbody tr th {\n",
       "        vertical-align: top;\n",
       "    }\n",
       "\n",
       "    .dataframe thead th {\n",
       "        text-align: right;\n",
       "    }\n",
       "</style>\n",
       "<table border=\"1\" class=\"dataframe\">\n",
       "  <thead>\n",
       "    <tr style=\"text-align: right;\">\n",
       "      <th></th>\n",
       "      <th>victim_name</th>\n",
       "      <th>victim_age</th>\n",
       "      <th>victim_gender</th>\n",
       "      <th>victim_race</th>\n",
       "      <th>cause_of_death</th>\n",
       "      <th>if_officer_involved</th>\n",
       "      <th>death_location</th>\n",
       "      <th>agency</th>\n",
       "      <th>counts</th>\n",
       "    </tr>\n",
       "  </thead>\n",
       "  <tbody>\n",
       "    <tr>\n",
       "      <th>0</th>\n",
       "      <td>77</td>\n",
       "      <td>47</td>\n",
       "      <td>1</td>\n",
       "      <td>1</td>\n",
       "      <td>5</td>\n",
       "      <td>0</td>\n",
       "      <td>140</td>\n",
       "      <td>11</td>\n",
       "      <td>40</td>\n",
       "    </tr>\n",
       "    <tr>\n",
       "      <th>1</th>\n",
       "      <td>350</td>\n",
       "      <td>72</td>\n",
       "      <td>1</td>\n",
       "      <td>0</td>\n",
       "      <td>5</td>\n",
       "      <td>1</td>\n",
       "      <td>11</td>\n",
       "      <td>11</td>\n",
       "      <td>19048</td>\n",
       "    </tr>\n",
       "    <tr>\n",
       "      <th>2</th>\n",
       "      <td>463</td>\n",
       "      <td>64</td>\n",
       "      <td>1</td>\n",
       "      <td>0</td>\n",
       "      <td>5</td>\n",
       "      <td>1</td>\n",
       "      <td>12</td>\n",
       "      <td>11</td>\n",
       "      <td>208</td>\n",
       "    </tr>\n",
       "    <tr>\n",
       "      <th>3</th>\n",
       "      <td>453</td>\n",
       "      <td>68</td>\n",
       "      <td>1</td>\n",
       "      <td>0</td>\n",
       "      <td>5</td>\n",
       "      <td>1</td>\n",
       "      <td>12</td>\n",
       "      <td>11</td>\n",
       "      <td>201</td>\n",
       "    </tr>\n",
       "    <tr>\n",
       "      <th>4</th>\n",
       "      <td>79</td>\n",
       "      <td>76</td>\n",
       "      <td>1</td>\n",
       "      <td>0</td>\n",
       "      <td>5</td>\n",
       "      <td>1</td>\n",
       "      <td>12</td>\n",
       "      <td>11</td>\n",
       "      <td>207</td>\n",
       "    </tr>\n",
       "    <tr>\n",
       "      <th>...</th>\n",
       "      <td>...</td>\n",
       "      <td>...</td>\n",
       "      <td>...</td>\n",
       "      <td>...</td>\n",
       "      <td>...</td>\n",
       "      <td>...</td>\n",
       "      <td>...</td>\n",
       "      <td>...</td>\n",
       "      <td>...</td>\n",
       "    </tr>\n",
       "    <tr>\n",
       "      <th>469</th>\n",
       "      <td>336</td>\n",
       "      <td>20</td>\n",
       "      <td>1</td>\n",
       "      <td>1</td>\n",
       "      <td>1</td>\n",
       "      <td>1</td>\n",
       "      <td>196</td>\n",
       "      <td>17</td>\n",
       "      <td>1</td>\n",
       "    </tr>\n",
       "    <tr>\n",
       "      <th>470</th>\n",
       "      <td>54</td>\n",
       "      <td>28</td>\n",
       "      <td>1</td>\n",
       "      <td>1</td>\n",
       "      <td>1</td>\n",
       "      <td>1</td>\n",
       "      <td>196</td>\n",
       "      <td>17</td>\n",
       "      <td>1</td>\n",
       "    </tr>\n",
       "    <tr>\n",
       "      <th>471</th>\n",
       "      <td>171</td>\n",
       "      <td>61</td>\n",
       "      <td>1</td>\n",
       "      <td>7</td>\n",
       "      <td>0</td>\n",
       "      <td>1</td>\n",
       "      <td>147</td>\n",
       "      <td>11</td>\n",
       "      <td>2</td>\n",
       "    </tr>\n",
       "    <tr>\n",
       "      <th>472</th>\n",
       "      <td>162</td>\n",
       "      <td>30</td>\n",
       "      <td>1</td>\n",
       "      <td>3</td>\n",
       "      <td>1</td>\n",
       "      <td>1</td>\n",
       "      <td>115</td>\n",
       "      <td>11</td>\n",
       "      <td>1</td>\n",
       "    </tr>\n",
       "    <tr>\n",
       "      <th>473</th>\n",
       "      <td>307</td>\n",
       "      <td>70</td>\n",
       "      <td>0</td>\n",
       "      <td>3</td>\n",
       "      <td>1</td>\n",
       "      <td>1</td>\n",
       "      <td>141</td>\n",
       "      <td>9</td>\n",
       "      <td>30</td>\n",
       "    </tr>\n",
       "  </tbody>\n",
       "</table>\n",
       "<p>474 rows × 9 columns</p>\n",
       "</div>"
      ],
      "text/plain": [
       "     victim_name  victim_age  victim_gender  victim_race  cause_of_death  \\\n",
       "0             77          47              1            1               5   \n",
       "1            350          72              1            0               5   \n",
       "2            463          64              1            0               5   \n",
       "3            453          68              1            0               5   \n",
       "4             79          76              1            0               5   \n",
       "..           ...         ...            ...          ...             ...   \n",
       "469          336          20              1            1               1   \n",
       "470           54          28              1            1               1   \n",
       "471          171          61              1            7               0   \n",
       "472          162          30              1            3               1   \n",
       "473          307          70              0            3               1   \n",
       "\n",
       "     if_officer_involved  death_location  agency  counts  \n",
       "0                      0             140      11      40  \n",
       "1                      1              11      11   19048  \n",
       "2                      1              12      11     208  \n",
       "3                      1              12      11     201  \n",
       "4                      1              12      11     207  \n",
       "..                   ...             ...     ...     ...  \n",
       "469                    1             196      17       1  \n",
       "470                    1             196      17       1  \n",
       "471                    1             147      11       2  \n",
       "472                    1             115      11       1  \n",
       "473                    1             141       9      30  \n",
       "\n",
       "[474 rows x 9 columns]"
      ]
     },
     "execution_count": 142,
     "metadata": {},
     "output_type": "execute_result"
    }
   ],
   "source": [
    "categorical_cols = ['victim_name', 'victim_gender', 'victim_race', 'cause_of_death', 'if_officer_involved', 'death_location', 'agency']\n",
    "for col in categorical_cols:\n",
    "    df[col] = LabelEncoder().fit_transform(df[col])\n",
    "df"
   ]
  },
  {
   "cell_type": "code",
   "execution_count": 163,
   "metadata": {},
   "outputs": [],
   "source": [
    "X = df.drop(['counts', 'victim_name', 'agency'], axis=1)\n",
    "y = df['counts']"
   ]
  },
  {
   "cell_type": "code",
   "execution_count": 165,
   "metadata": {},
   "outputs": [
    {
     "name": "stdout",
     "output_type": "stream",
     "text": [
      "importance of features: [0.27665961 0.00237254 0.09473455 0.0091707  0.14177266 0.47528993]\n"
     ]
    }
   ],
   "source": [
    "rf = RandomForestRegressor(n_estimators=100, random_state=42) \n",
    "rf.fit(X, y) # Train the model\n",
    "\n",
    "# Feature importance with corresponding feature names\n",
    "feature_importance = rf.feature_importances_\n",
    "print(\"importance of features:\", feature_importance)"
   ]
  },
  {
   "cell_type": "code",
   "execution_count": 166,
   "metadata": {},
   "outputs": [
    {
     "data": {
      "text/html": [
       "<div>\n",
       "<style scoped>\n",
       "    .dataframe tbody tr th:only-of-type {\n",
       "        vertical-align: middle;\n",
       "    }\n",
       "\n",
       "    .dataframe tbody tr th {\n",
       "        vertical-align: top;\n",
       "    }\n",
       "\n",
       "    .dataframe thead th {\n",
       "        text-align: right;\n",
       "    }\n",
       "</style>\n",
       "<table border=\"1\" class=\"dataframe\">\n",
       "  <thead>\n",
       "    <tr style=\"text-align: right;\">\n",
       "      <th></th>\n",
       "      <th>feature</th>\n",
       "      <th>importance</th>\n",
       "    </tr>\n",
       "  </thead>\n",
       "  <tbody>\n",
       "    <tr>\n",
       "      <th>0</th>\n",
       "      <td>victim_age</td>\n",
       "      <td>0.27666</td>\n",
       "    </tr>\n",
       "    <tr>\n",
       "      <th>1</th>\n",
       "      <td>victim_gender</td>\n",
       "      <td>0.00237</td>\n",
       "    </tr>\n",
       "    <tr>\n",
       "      <th>2</th>\n",
       "      <td>victim_race</td>\n",
       "      <td>0.09473</td>\n",
       "    </tr>\n",
       "    <tr>\n",
       "      <th>3</th>\n",
       "      <td>cause_of_death</td>\n",
       "      <td>0.00917</td>\n",
       "    </tr>\n",
       "    <tr>\n",
       "      <th>4</th>\n",
       "      <td>if_officer_involved</td>\n",
       "      <td>0.14177</td>\n",
       "    </tr>\n",
       "    <tr>\n",
       "      <th>5</th>\n",
       "      <td>death_location</td>\n",
       "      <td>0.47529</td>\n",
       "    </tr>\n",
       "  </tbody>\n",
       "</table>\n",
       "</div>"
      ],
      "text/plain": [
       "               feature  importance\n",
       "0           victim_age     0.27666\n",
       "1        victim_gender     0.00237\n",
       "2          victim_race     0.09473\n",
       "3       cause_of_death     0.00917\n",
       "4  if_officer_involved     0.14177\n",
       "5       death_location     0.47529"
      ]
     },
     "execution_count": 166,
     "metadata": {},
     "output_type": "execute_result"
    }
   ],
   "source": [
    "importance_df = pd.DataFrame({'feature': X.columns, 'importance': feature_importance})\n",
    "importance_df['importance'] = importance_df['importance'].round(5) \n",
    "\n",
    "importance_df"
   ]
  },
  {
   "cell_type": "code",
   "execution_count": 168,
   "metadata": {},
   "outputs": [
    {
     "name": "stderr",
     "output_type": "stream",
     "text": [
      "/Users/cathy/opt/anaconda3/lib/python3.9/site-packages/sklearn/base.py:450: UserWarning: X does not have valid feature names, but RandomForestRegressor was fitted with feature names\n",
      "  warnings.warn(\n"
     ]
    },
    {
     "data": {
      "text/plain": [
       "array([2118.90333333])"
      ]
     },
     "execution_count": 168,
     "metadata": {},
     "output_type": "execute_result"
    }
   ],
   "source": [
    "rf.predict([[0, 0, 0, 0, 0, 0]]) # Make predictions"
   ]
  },
  {
   "cell_type": "code",
   "execution_count": 169,
   "metadata": {},
   "outputs": [
    {
     "data": {
      "image/png": "[encoded data removed]",
      "text/plain": [
       "<Figure size 504x288 with 1 Axes>"
      ]
     },
     "metadata": {
      "needs_background": "light"
     },
     "output_type": "display_data"
    }
   ],
   "source": [
    "import matplotlib.pyplot as plt\n",
    "\n",
    "plt.figure(figsize=(7, 4))\n",
    "plt.barh(importance_df['feature'], importance_df['importance'])\n",
    "plt.xlabel('Feature Importance')\n",
    "plt.ylabel('Feature')\n",
    "plt.title('Feature Importances')\n",
    "plt.show()"
   ]
  },
  {
   "attachments": {},
   "cell_type": "markdown",
   "metadata": {},
   "source": [
    "Correlation"
   ]
  },
  {
   "cell_type": "code",
   "execution_count": 135,
   "metadata": {},
   "outputs": [],
   "source": [
    "import pandas as pd\n",
    "import numpy as np\n",
    "from sklearn.model_selection import train_test_split\n",
    "from sklearn.ensemble import RandomForestRegressor\n",
    "\n",
    "# Get the tweet counts per victim\n",
    "data = pd.read_csv('df-relatedToHomicide.csv')\n",
    "data.drop(['Unnamed: 0'], axis=1, inplace=True)\n",
    "df = data.groupby(['victim_name', 'victim_age', 'victim_gender', 'victim_race', 'cause_of_death', 'if_officer_involved', 'death_location', 'agency'], sort=False).size().reset_index(name='counts')\n",
    "\n",
    "df['victim_age'] = df['victim_age'].apply(lambda x: np.nan if x == 'None' else x)\n",
    "df['victim_age'] = df['victim_age'].astype(float)\n",
    "df['victim_age'].fillna(df['victim_age'].mean(), inplace=True)\n",
    "df['victim_age'] = df['victim_age'].round().astype(int)"
   ]
  },
  {
   "cell_type": "code",
   "execution_count": 136,
   "metadata": {},
   "outputs": [
    {
     "data": {
      "text/html": [
       "<div>\n",
       "<style scoped>\n",
       "    .dataframe tbody tr th:only-of-type {\n",
       "        vertical-align: middle;\n",
       "    }\n",
       "\n",
       "    .dataframe tbody tr th {\n",
       "        vertical-align: top;\n",
       "    }\n",
       "\n",
       "    .dataframe thead th {\n",
       "        text-align: right;\n",
       "    }\n",
       "</style>\n",
       "<table border=\"1\" class=\"dataframe\">\n",
       "  <thead>\n",
       "    <tr style=\"text-align: right;\">\n",
       "      <th></th>\n",
       "      <th>victim_age</th>\n",
       "      <th>victim_gender</th>\n",
       "      <th>victim_race</th>\n",
       "      <th>cause_of_death</th>\n",
       "      <th>if_officer_involved</th>\n",
       "      <th>death_location</th>\n",
       "      <th>counts</th>\n",
       "    </tr>\n",
       "  </thead>\n",
       "  <tbody>\n",
       "    <tr>\n",
       "      <th>0</th>\n",
       "      <td>47</td>\n",
       "      <td>1</td>\n",
       "      <td>1</td>\n",
       "      <td>5</td>\n",
       "      <td>0</td>\n",
       "      <td>140</td>\n",
       "      <td>40</td>\n",
       "    </tr>\n",
       "    <tr>\n",
       "      <th>1</th>\n",
       "      <td>72</td>\n",
       "      <td>1</td>\n",
       "      <td>0</td>\n",
       "      <td>5</td>\n",
       "      <td>1</td>\n",
       "      <td>11</td>\n",
       "      <td>19048</td>\n",
       "    </tr>\n",
       "    <tr>\n",
       "      <th>2</th>\n",
       "      <td>64</td>\n",
       "      <td>1</td>\n",
       "      <td>0</td>\n",
       "      <td>5</td>\n",
       "      <td>1</td>\n",
       "      <td>12</td>\n",
       "      <td>208</td>\n",
       "    </tr>\n",
       "    <tr>\n",
       "      <th>3</th>\n",
       "      <td>68</td>\n",
       "      <td>1</td>\n",
       "      <td>0</td>\n",
       "      <td>5</td>\n",
       "      <td>1</td>\n",
       "      <td>12</td>\n",
       "      <td>201</td>\n",
       "    </tr>\n",
       "    <tr>\n",
       "      <th>4</th>\n",
       "      <td>76</td>\n",
       "      <td>1</td>\n",
       "      <td>0</td>\n",
       "      <td>5</td>\n",
       "      <td>1</td>\n",
       "      <td>12</td>\n",
       "      <td>207</td>\n",
       "    </tr>\n",
       "    <tr>\n",
       "      <th>...</th>\n",
       "      <td>...</td>\n",
       "      <td>...</td>\n",
       "      <td>...</td>\n",
       "      <td>...</td>\n",
       "      <td>...</td>\n",
       "      <td>...</td>\n",
       "      <td>...</td>\n",
       "    </tr>\n",
       "    <tr>\n",
       "      <th>469</th>\n",
       "      <td>20</td>\n",
       "      <td>1</td>\n",
       "      <td>1</td>\n",
       "      <td>1</td>\n",
       "      <td>1</td>\n",
       "      <td>196</td>\n",
       "      <td>1</td>\n",
       "    </tr>\n",
       "    <tr>\n",
       "      <th>470</th>\n",
       "      <td>28</td>\n",
       "      <td>1</td>\n",
       "      <td>1</td>\n",
       "      <td>1</td>\n",
       "      <td>1</td>\n",
       "      <td>196</td>\n",
       "      <td>1</td>\n",
       "    </tr>\n",
       "    <tr>\n",
       "      <th>471</th>\n",
       "      <td>61</td>\n",
       "      <td>1</td>\n",
       "      <td>7</td>\n",
       "      <td>0</td>\n",
       "      <td>1</td>\n",
       "      <td>147</td>\n",
       "      <td>2</td>\n",
       "    </tr>\n",
       "    <tr>\n",
       "      <th>472</th>\n",
       "      <td>30</td>\n",
       "      <td>1</td>\n",
       "      <td>3</td>\n",
       "      <td>1</td>\n",
       "      <td>1</td>\n",
       "      <td>115</td>\n",
       "      <td>1</td>\n",
       "    </tr>\n",
       "    <tr>\n",
       "      <th>473</th>\n",
       "      <td>70</td>\n",
       "      <td>0</td>\n",
       "      <td>3</td>\n",
       "      <td>1</td>\n",
       "      <td>1</td>\n",
       "      <td>141</td>\n",
       "      <td>30</td>\n",
       "    </tr>\n",
       "  </tbody>\n",
       "</table>\n",
       "<p>474 rows × 7 columns</p>\n",
       "</div>"
      ],
      "text/plain": [
       "     victim_age  victim_gender  victim_race  cause_of_death  \\\n",
       "0            47              1            1               5   \n",
       "1            72              1            0               5   \n",
       "2            64              1            0               5   \n",
       "3            68              1            0               5   \n",
       "4            76              1            0               5   \n",
       "..          ...            ...          ...             ...   \n",
       "469          20              1            1               1   \n",
       "470          28              1            1               1   \n",
       "471          61              1            7               0   \n",
       "472          30              1            3               1   \n",
       "473          70              0            3               1   \n",
       "\n",
       "     if_officer_involved  death_location  counts  \n",
       "0                      0             140      40  \n",
       "1                      1              11   19048  \n",
       "2                      1              12     208  \n",
       "3                      1              12     201  \n",
       "4                      1              12     207  \n",
       "..                   ...             ...     ...  \n",
       "469                    1             196       1  \n",
       "470                    1             196       1  \n",
       "471                    1             147       2  \n",
       "472                    1             115       1  \n",
       "473                    1             141      30  \n",
       "\n",
       "[474 rows x 7 columns]"
      ]
     },
     "execution_count": 136,
     "metadata": {},
     "output_type": "execute_result"
    }
   ],
   "source": [
    "categorical_cols = ['victim_name', 'victim_gender', 'victim_race', 'cause_of_death', 'if_officer_involved', 'death_location', 'agency']\n",
    "for col in categorical_cols:\n",
    "    df[col] = LabelEncoder().fit_transform(df[col])\n",
    "new_df = df.drop(['victim_name', 'agency'], axis=1)\n",
    "new_df"
   ]
  },
  {
   "cell_type": "code",
   "execution_count": 110,
   "metadata": {},
   "outputs": [
    {
     "data": {
      "text/plain": [
       "victim_age             0.089001\n",
       "victim_gender          0.015696\n",
       "victim_race           -0.094810\n",
       "cause_of_death         0.066425\n",
       "if_officer_involved   -0.045220\n",
       "death_location        -0.087109\n",
       "counts                 1.000000\n",
       "Name: counts, dtype: float64"
      ]
     },
     "execution_count": 110,
     "metadata": {},
     "output_type": "execute_result"
    }
   ],
   "source": [
    "new_df.corr().loc['counts', :]"
   ]
  },
  {
   "attachments": {},
   "cell_type": "markdown",
   "metadata": {},
   "source": [
    "Visualize the commonality of victims with top number of tweets"
   ]
  },
  {
   "cell_type": "code",
   "execution_count": 224,
   "metadata": {},
   "outputs": [
    {
     "data": {
      "text/html": [
       "<div>\n",
       "<style scoped>\n",
       "    .dataframe tbody tr th:only-of-type {\n",
       "        vertical-align: middle;\n",
       "    }\n",
       "\n",
       "    .dataframe tbody tr th {\n",
       "        vertical-align: top;\n",
       "    }\n",
       "\n",
       "    .dataframe thead th {\n",
       "        text-align: right;\n",
       "    }\n",
       "</style>\n",
       "<table border=\"1\" class=\"dataframe\">\n",
       "  <thead>\n",
       "    <tr style=\"text-align: right;\">\n",
       "      <th></th>\n",
       "      <th>victim_name</th>\n",
       "      <th>death_location</th>\n",
       "      <th>victim_age</th>\n",
       "      <th>victim_gender</th>\n",
       "      <th>cause_of_death</th>\n",
       "      <th>victim_race</th>\n",
       "      <th>agency</th>\n",
       "      <th>if_officer_involved</th>\n",
       "      <th>counts</th>\n",
       "    </tr>\n",
       "  </thead>\n",
       "  <tbody>\n",
       "    <tr>\n",
       "      <th>1</th>\n",
       "      <td>Ming Wei Ma</td>\n",
       "      <td>122 West Garvey Ave #B</td>\n",
       "      <td>72</td>\n",
       "      <td>Male</td>\n",
       "      <td>Unknown</td>\n",
       "      <td>Asian</td>\n",
       "      <td>LASD</td>\n",
       "      <td>Unknown</td>\n",
       "      <td>19048</td>\n",
       "    </tr>\n",
       "    <tr>\n",
       "      <th>428</th>\n",
       "      <td>Ryan Twyman</td>\n",
       "      <td>Willowbrook</td>\n",
       "      <td>24</td>\n",
       "      <td>Male</td>\n",
       "      <td>Gunshot</td>\n",
       "      <td>Black</td>\n",
       "      <td>LASD</td>\n",
       "      <td>Officer-involved</td>\n",
       "      <td>6703</td>\n",
       "    </tr>\n",
       "    <tr>\n",
       "      <th>18</th>\n",
       "      <td>Roberto Alonso</td>\n",
       "      <td>1000 East Avenue Q #I105</td>\n",
       "      <td>34</td>\n",
       "      <td>Male</td>\n",
       "      <td>Unknown</td>\n",
       "      <td>Latino</td>\n",
       "      <td>LASD</td>\n",
       "      <td>Unknown</td>\n",
       "      <td>2205</td>\n",
       "    </tr>\n",
       "    <tr>\n",
       "      <th>426</th>\n",
       "      <td>Joseph Gilbert Solano</td>\n",
       "      <td>Alhambra</td>\n",
       "      <td>50</td>\n",
       "      <td>Male</td>\n",
       "      <td>Pending</td>\n",
       "      <td>Latino</td>\n",
       "      <td>Unknown</td>\n",
       "      <td>Unknown</td>\n",
       "      <td>1729</td>\n",
       "    </tr>\n",
       "    <tr>\n",
       "      <th>16</th>\n",
       "      <td>Oscar Sanchez</td>\n",
       "      <td>1109 East 28Th Street</td>\n",
       "      <td>35</td>\n",
       "      <td>Male</td>\n",
       "      <td>Unknown</td>\n",
       "      <td>Latino</td>\n",
       "      <td>LAPD</td>\n",
       "      <td>Officer-involved</td>\n",
       "      <td>818</td>\n",
       "    </tr>\n",
       "    <tr>\n",
       "      <th>...</th>\n",
       "      <td>...</td>\n",
       "      <td>...</td>\n",
       "      <td>...</td>\n",
       "      <td>...</td>\n",
       "      <td>...</td>\n",
       "      <td>...</td>\n",
       "      <td>...</td>\n",
       "      <td>...</td>\n",
       "      <td>...</td>\n",
       "    </tr>\n",
       "    <tr>\n",
       "      <th>349</th>\n",
       "      <td>Jose Jesus Martinez</td>\n",
       "      <td>Gardena</td>\n",
       "      <td>42</td>\n",
       "      <td>Male</td>\n",
       "      <td>Gunshot</td>\n",
       "      <td>Latino</td>\n",
       "      <td>LASD</td>\n",
       "      <td>Unknown</td>\n",
       "      <td>1</td>\n",
       "    </tr>\n",
       "    <tr>\n",
       "      <th>350</th>\n",
       "      <td>Jose Falcon</td>\n",
       "      <td>Boyle Heights</td>\n",
       "      <td>26</td>\n",
       "      <td>Male</td>\n",
       "      <td>Gunshot</td>\n",
       "      <td>Latino</td>\n",
       "      <td>LAPD</td>\n",
       "      <td>Unknown</td>\n",
       "      <td>1</td>\n",
       "    </tr>\n",
       "    <tr>\n",
       "      <th>352</th>\n",
       "      <td>Javier Lopez Jr.</td>\n",
       "      <td>Norwalk</td>\n",
       "      <td>33</td>\n",
       "      <td>Male</td>\n",
       "      <td>Gunshot</td>\n",
       "      <td>Latino</td>\n",
       "      <td>LASD</td>\n",
       "      <td>Unknown</td>\n",
       "      <td>1</td>\n",
       "    </tr>\n",
       "    <tr>\n",
       "      <th>353</th>\n",
       "      <td>Omar Medina</td>\n",
       "      <td>Pacoima</td>\n",
       "      <td>27</td>\n",
       "      <td>Male</td>\n",
       "      <td>Gunshot</td>\n",
       "      <td>Latino</td>\n",
       "      <td>LAPD</td>\n",
       "      <td>Unknown</td>\n",
       "      <td>1</td>\n",
       "    </tr>\n",
       "    <tr>\n",
       "      <th>273</th>\n",
       "      <td>Eduardo Mendoza</td>\n",
       "      <td>Florence</td>\n",
       "      <td>31</td>\n",
       "      <td>Male</td>\n",
       "      <td>Gunshot</td>\n",
       "      <td>Latino</td>\n",
       "      <td>LAPD</td>\n",
       "      <td>Unknown</td>\n",
       "      <td>1</td>\n",
       "    </tr>\n",
       "  </tbody>\n",
       "</table>\n",
       "<p>474 rows × 9 columns</p>\n",
       "</div>"
      ],
      "text/plain": [
       "               victim_name            death_location  victim_age  \\\n",
       "1              Ming Wei Ma    122 West Garvey Ave #B          72   \n",
       "428            Ryan Twyman               Willowbrook          24   \n",
       "18          Roberto Alonso  1000 East Avenue Q #I105          34   \n",
       "426  Joseph Gilbert Solano                  Alhambra          50   \n",
       "16           Oscar Sanchez     1109 East 28Th Street          35   \n",
       "..                     ...                       ...         ...   \n",
       "349    Jose Jesus Martinez                   Gardena          42   \n",
       "350            Jose Falcon             Boyle Heights          26   \n",
       "352       Javier Lopez Jr.                   Norwalk          33   \n",
       "353            Omar Medina                   Pacoima          27   \n",
       "273        Eduardo Mendoza                  Florence          31   \n",
       "\n",
       "    victim_gender cause_of_death victim_race   agency if_officer_involved  \\\n",
       "1            Male        Unknown       Asian     LASD             Unknown   \n",
       "428          Male        Gunshot       Black     LASD    Officer-involved   \n",
       "18           Male        Unknown      Latino     LASD             Unknown   \n",
       "426          Male        Pending      Latino  Unknown             Unknown   \n",
       "16           Male        Unknown      Latino     LAPD    Officer-involved   \n",
       "..            ...            ...         ...      ...                 ...   \n",
       "349          Male        Gunshot      Latino     LASD             Unknown   \n",
       "350          Male        Gunshot      Latino     LAPD             Unknown   \n",
       "352          Male        Gunshot      Latino     LASD             Unknown   \n",
       "353          Male        Gunshot      Latino     LAPD             Unknown   \n",
       "273          Male        Gunshot      Latino     LAPD             Unknown   \n",
       "\n",
       "     counts  \n",
       "1     19048  \n",
       "428    6703  \n",
       "18     2205  \n",
       "426    1729  \n",
       "16      818  \n",
       "..      ...  \n",
       "349       1  \n",
       "350       1  \n",
       "352       1  \n",
       "353       1  \n",
       "273       1  \n",
       "\n",
       "[474 rows x 9 columns]"
      ]
     },
     "execution_count": 224,
     "metadata": {},
     "output_type": "execute_result"
    }
   ],
   "source": [
    "# Sort by tweet counts\n",
    "\n",
    "data = pd.read_csv('df-relatedToHomicide.csv')\n",
    "data.drop(['Unnamed: 0'], axis=1, inplace=True)\n",
    "\n",
    "df = data.groupby(['victim_name', 'death_location', 'victim_age', 'victim_gender', 'cause_of_death', 'victim_race', 'agency', 'if_officer_involved'], sort = False).size().reset_index(name='counts')\n",
    "df['victim_age'] = df['victim_age'].apply(lambda x: np.nan if x == 'None' else x).astype(float)\n",
    "df['victim_age'].fillna(df['victim_age'].mean(), inplace=True)\n",
    "df['victim_age'] = df['victim_age'].round().astype(int)\n",
    "\n",
    "df_sorted = df.sort_values(by='counts', ascending=False)\n",
    "df_sorted"
   ]
  },
  {
   "cell_type": "code",
   "execution_count": 225,
   "metadata": {},
   "outputs": [],
   "source": [
    "top_victims = df_sorted.head(50)"
   ]
  },
  {
   "cell_type": "code",
   "execution_count": 226,
   "metadata": {},
   "outputs": [
    {
     "data": {
      "image/png": "[encoded data removed]",
      "text/plain": [
       "<Figure size 432x288 with 1 Axes>"
      ]
     },
     "metadata": {
      "needs_background": "light"
     },
     "output_type": "display_data"
    }
   ],
   "source": [
    "import matplotlib.pyplot as plt\n",
    "import seaborn as sns\n",
    "\n",
    "sns.countplot(x='victim_race', data=top_victims)\n",
    "plt.title('Most Common Race')\n",
    "\n",
    "plt.show()\n"
   ]
  },
  {
   "cell_type": "code",
   "execution_count": 227,
   "metadata": {},
   "outputs": [
    {
     "data": {
      "image/png": "[encoded data removed]",
      "text/plain": [
       "<Figure size 864x432 with 1 Axes>"
      ]
     },
     "metadata": {
      "needs_background": "light"
     },
     "output_type": "display_data"
    }
   ],
   "source": [
    "age_sorted = top_victims.sort_values('victim_age', ascending=True)\n",
    "plt.figure(figsize=(12, 6))\n",
    "sns.countplot(x='victim_age', data=age_sorted)\n",
    "plt.title('Age Distribution for Top Victims')\n",
    "plt.xlabel('Age')\n",
    "plt.ylabel('Count')\n",
    "plt.xticks(rotation=90)\n",
    "plt.show()\n"
   ]
  },
  {
   "cell_type": "code",
   "execution_count": 237,
   "metadata": {},
   "outputs": [
    {
     "data": {
      "image/png": "[encoded data removed]",
      "text/plain": [
       "<Figure size 864x288 with 1 Axes>"
      ]
     },
     "metadata": {
      "needs_background": "light"
     },
     "output_type": "display_data"
    }
   ],
   "source": [
    "#age_sorted = top_victims.sort_values('victim_age', ascending=True)\n",
    "age_bins = np.arange(0, 100, 5)\n",
    "age_labels = [f'{i}-{i+4}' for i in age_bins[:-1]]\n",
    "age_sorted['age_group'] = pd.cut(age_sorted['victim_age'], bins=age_bins, labels=age_labels)\n",
    "\n",
    "plt.figure(figsize=(12, 4))\n",
    "sns.countplot(x='age_group', data=age_sorted)\n",
    "plt.title('Age Distribution by Age Group')\n",
    "plt.xlabel('Age Group')\n",
    "plt.ylabel('Count')\n",
    "plt.show()\n"
   ]
  },
  {
   "cell_type": "code",
   "execution_count": 239,
   "metadata": {},
   "outputs": [
    {
     "data": {
      "image/png": "[encoded data removed]",
      "text/plain": [
       "<Figure size 432x288 with 1 Axes>"
      ]
     },
     "metadata": {
      "needs_background": "light"
     },
     "output_type": "display_data"
    }
   ],
   "source": [
    "sns.countplot(x='victim_gender', data=top_victims)\n",
    "plt.title('Most Common Gender')\n",
    "plt.show()"
   ]
  },
  {
   "cell_type": "code",
   "execution_count": 240,
   "metadata": {},
   "outputs": [
    {
     "data": {
      "image/png": "[encoded data removed]",
      "text/plain": [
       "<Figure size 432x288 with 1 Axes>"
      ]
     },
     "metadata": {
      "needs_background": "light"
     },
     "output_type": "display_data"
    }
   ],
   "source": [
    "sns.countplot(x='cause_of_death', data=top_victims)\n",
    "plt.title('Most Common Cause of Death')\n",
    "plt.show()"
   ]
  },
  {
   "attachments": {},
   "cell_type": "markdown",
   "metadata": {},
   "source": [
    "Total tweet counts associated with each feature"
   ]
  },
  {
   "cell_type": "code",
   "execution_count": 241,
   "metadata": {},
   "outputs": [
    {
     "data": {
      "image/png": "[encoded data removed]",
      "text/plain": [
       "<Figure size 1440x432 with 1 Axes>"
      ]
     },
     "metadata": {
      "needs_background": "light"
     },
     "output_type": "display_data"
    }
   ],
   "source": [
    "df['victim_age'] = df['victim_age'].apply(lambda x: np.nan if x == 'None' else x)\n",
    "df['victim_age'] = df['victim_age'].astype(float)\n",
    "df['victim_age'].fillna(df['victim_age'].mean(), inplace=True)\n",
    "\n",
    "df_sorted = df.sort_values(by='counts', ascending=False)\n",
    "df_sorted['victim_age_rounded'] = df_sorted['victim_age'].round().astype(int) \n",
    "\n",
    "age_counts = df_sorted.groupby('victim_age_rounded')['counts'].sum()\n",
    "fig, ax = plt.subplots(figsize=(20, 6))\n",
    "sns.barplot(x=age_counts.index, y=age_counts.values, ax=ax)\n",
    "ax.set_xlabel('Age Group')\n",
    "ax.set_ylabel('Counts')\n",
    "ax.set_title('Number of Tweets Associated with Each Age Group')\n",
    "plt.show()\n"
   ]
  },
  {
   "cell_type": "code",
   "execution_count": 242,
   "metadata": {},
   "outputs": [
    {
     "data": {
      "image/png": "[encoded data removed]",
      "text/plain": [
       "<Figure size 432x288 with 1 Axes>"
      ]
     },
     "metadata": {
      "needs_background": "light"
     },
     "output_type": "display_data"
    }
   ],
   "source": [
    "race_counts = df_sorted.groupby('victim_race')['counts'].sum()\n",
    "\n",
    "fig, ax = plt.subplots()\n",
    "sns.barplot(x=race_counts.index, y=race_counts.values, ax=ax)\n",
    "ax.set_xlabel('Race')\n",
    "ax.set_ylabel('Counts')\n",
    "ax.set_title('Number of Tweets Associated with Each Race')\n",
    "plt.show()"
   ]
  },
  {
   "cell_type": "code",
   "execution_count": 243,
   "metadata": {},
   "outputs": [
    {
     "data": {
      "image/png": "[encoded data removed]",
      "text/plain": [
       "<Figure size 432x288 with 1 Axes>"
      ]
     },
     "metadata": {
      "needs_background": "light"
     },
     "output_type": "display_data"
    }
   ],
   "source": [
    "gender_counts = df_sorted.groupby('victim_gender')['counts'].sum()\n",
    "\n",
    "fig, ax = plt.subplots()\n",
    "sns.barplot(x=gender_counts.index, y=gender_counts.values, ax=ax)\n",
    "ax.set_xlabel('Gender')\n",
    "ax.set_ylabel('Counts')\n",
    "ax.set_title('Number of Tweets Associated with Each Gender')\n",
    "plt.show()"
   ]
  }
 ],
 "metadata": {
  "kernelspec": {
   "display_name": "Python 3",
   "language": "python",
   "name": "python3"
  },
  "language_info": {
   "codemirror_mode": {
    "name": "ipython",
    "version": 3
   },
   "file_extension": ".py",
   "mimetype": "text/x-python",
   "name": "python",
   "nbconvert_exporter": "python",
   "pygments_lexer": "ipython3",
   "version": "3.9.12"
  },
  "vscode": {
   "interpreter": {
    "hash": "176f8f4d4652b1022af2d4b81d4a489a5dc569f2092f2aff7db0edf1b6e5ea45"
   }
  }
 },
 "nbformat": 4,
 "nbformat_minor": 2
}
