{
 "cells": [
  {
   "cell_type": "code",
   "execution_count": 7,
   "id": "9e09a0c2",
   "metadata": {},
   "outputs": [],
   "source": [
    "import pandas as pd"
   ]
  },
  {
   "cell_type": "code",
   "execution_count": 8,
   "id": "c2f97f8d",
   "metadata": {},
   "outputs": [
    {
     "data": {
      "text/html": [
       "<div>\n",
       "<style scoped>\n",
       "    .dataframe tbody tr th:only-of-type {\n",
       "        vertical-align: middle;\n",
       "    }\n",
       "\n",
       "    .dataframe tbody tr th {\n",
       "        vertical-align: top;\n",
       "    }\n",
       "\n",
       "    .dataframe thead th {\n",
       "        text-align: right;\n",
       "    }\n",
       "</style>\n",
       "<table border=\"1\" class=\"dataframe\">\n",
       "  <thead>\n",
       "    <tr style=\"text-align: right;\">\n",
       "      <th></th>\n",
       "      <th>victim_name</th>\n",
       "      <th>text_combine</th>\n",
       "    </tr>\n",
       "  </thead>\n",
       "  <tbody>\n",
       "    <tr>\n",
       "      <th>0</th>\n",
       "      <td>Aaron Brockway</td>\n",
       "      <td>text</td>\n",
       "    </tr>\n",
       "    <tr>\n",
       "      <th>1</th>\n",
       "      <td>Aaron Brockway</td>\n",
       "      <td>R.I.P Aaron Brockway  Im lighting this one fo...</td>\n",
       "    </tr>\n",
       "    <tr>\n",
       "      <th>2</th>\n",
       "      <td>Aaron Brockway</td>\n",
       "      <td>Rip. Aaron Brockway 🙏</td>\n",
       "    </tr>\n",
       "    <tr>\n",
       "      <th>3</th>\n",
       "      <td>Aaron Carlos Martinez</td>\n",
       "      <td>text</td>\n",
       "    </tr>\n",
       "    <tr>\n",
       "      <th>4</th>\n",
       "      <td>Aaron Carlos Martinez</td>\n",
       "      <td>Aaron Carlos Martinez  18 : #IHateTimWaterman</td>\n",
       "    </tr>\n",
       "  </tbody>\n",
       "</table>\n",
       "</div>"
      ],
      "text/plain": [
       "             victim_name                                       text_combine\n",
       "0         Aaron Brockway                                               text\n",
       "1         Aaron Brockway   R.I.P Aaron Brockway  Im lighting this one fo...\n",
       "2         Aaron Brockway                              Rip. Aaron Brockway 🙏\n",
       "3  Aaron Carlos Martinez                                               text\n",
       "4  Aaron Carlos Martinez      Aaron Carlos Martinez  18 : #IHateTimWaterman"
      ]
     },
     "execution_count": 8,
     "metadata": {},
     "output_type": "execute_result"
    }
   ],
   "source": [
    "file_path = \"./merged_data.csv\"\n",
    "df = pd.read_csv(file_path, sep=',', quotechar='\"', encoding='utf-8', engine='python')\n",
    "\n",
    "df.head()\n"
   ]
  },
  {
   "cell_type": "code",
   "execution_count": 21,
   "id": "26d868b0",
   "metadata": {},
   "outputs": [],
   "source": [
    "from bertopic import BERTopic\n",
    "# import bertopic"
   ]
  },
  {
   "cell_type": "code",
   "execution_count": null,
   "id": "08e52ef8",
   "metadata": {
    "scrolled": false
   },
   "outputs": [],
   "source": [
    "# Initialize the Bertopic model with the desired number of topics\n",
    "model = BERTopic(language=\"multilingual\", nr_topics=302)\n",
    "\n",
    "# Preprocess the DataFrame by removing non-string values and converting the remaining values to strings\n",
    "df['text_clean'] = df['text_combine'].apply(lambda x: str(x) if isinstance(x, str) else '')\n",
    "\n",
    "# Fit the model to the Twitter data with a progress bar\n",
    "topics, probabilities = model.fit_transform(df['text_clean'].apply(lambda x: x))\n",
    "\n",
    "with open(\"topics_list.py\", \"w\") as f:\n",
    "    f.write(\"topics = [\\n\")\n",
    "    for topic in topics:\n",
    "        f.write(f\"{topic},\\n\")\n",
    "    f.write(\"]\\n\")"
   ]
  },
  {
   "cell_type": "code",
   "execution_count": null,
   "id": "b8854fbe",
   "metadata": {},
   "outputs": [],
   "source": [
    "len(topics)"
   ]
  },
  {
   "cell_type": "code",
   "execution_count": null,
   "id": "ec33baf7",
   "metadata": {},
   "outputs": [],
   "source": [
    "# Filter the DataFrame based on the topics of interest\n",
    "# topics_of_interest = ['homicide', 'gun', 'shooting', 'violence', 'stab', 'rip', 'rest in peace', 'coroner', 'dead', 'body']\n",
    "topics_of_interest = [] # list of topic numbers; TODO: divide work among colleagues (20%), extract relevant topics\n",
    "# TODO: mask is work in progress\n",
    "mask = pd.DataFrame(topics).isin(topics_of_interest).any(axis=1)\n",
    "print(sum(mask))"
   ]
  },
  {
   "cell_type": "code",
   "execution_count": null,
   "id": "6f2d4848",
   "metadata": {},
   "outputs": [],
   "source": [
    "#for t in model.get_topic_freq().head(10)['Topic']:\n",
    "#    keywords = model.get_topic(t)\n",
    "#    top_keywords = keywords[:10]\n",
    "#    print(f\"Topic {t}: {top_keywords}\\n\")\n",
    "    # TODO: print index and top ten words for the topic\n",
    "    \n",
    "# Create a list of  keywords for each topic\n",
    "topic_keywords = []\n",
    "for t in model.get_topic_freq()['Topic']:\n",
    "    keywords = model.get_topic(t)[:10]\n",
    "    topic_keywords.append((t, keywords))\n",
    "    #print(topic_keywords)"
   ]
  },
  {
   "cell_type": "code",
   "execution_count": null,
   "id": "4b2a7dc2",
   "metadata": {
    "scrolled": true
   },
   "outputs": [],
   "source": [
    "df_topic_keywords = pd.DataFrame(topic_keywords, columns=['t', 'topic'])\n",
    "df_topic_keywords.to_csv('topic_keywords123.csv', index=False, encoding='utf-8-sig')"
   ]
  },
  {
   "cell_type": "code",
   "execution_count": 17,
   "id": "8402879a",
   "metadata": {},
   "outputs": [],
   "source": []
  },
  {
   "cell_type": "code",
   "execution_count": null,
   "id": "e1661968",
   "metadata": {},
   "outputs": [],
   "source": []
  }
 ],
 "metadata": {
  "kernelspec": {
   "display_name": "Python 3 (ipykernel)",
   "language": "python",
   "name": "python3"
  },
  "language_info": {
   "codemirror_mode": {
    "name": "ipython",
    "version": 3
   },
   "file_extension": ".py",
   "mimetype": "text/x-python",
   "name": "python",
   "nbconvert_exporter": "python",
   "pygments_lexer": "ipython3",
   "version": "3.10.10"
  }
 },
 "nbformat": 4,
 "nbformat_minor": 5
}
